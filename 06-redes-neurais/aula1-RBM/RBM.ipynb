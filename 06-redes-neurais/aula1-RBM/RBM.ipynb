{
 "cells": [
  {
   "cell_type": "markdown",
   "id": "073de90e",
   "metadata": {},
   "source": [
    "# Restricted Boltzmann Machines\n",
    "\n",
    "Baseado em: https://blog.paperspace.com/beginners-guide-to-boltzmann-machines-pytorch/\n",
    "\n",
    "\n",
    "Boltzmann Machine pode ser considerada uma junção entre os campos de deep learning e fisica, e pode ser muito útil para redução de dimensionalidade, classificação, regressão, filtragem colaborativa, etc. "
   ]
  },
  {
   "cell_type": "markdown",
   "id": "be6ca3d5",
   "metadata": {},
   "source": [
    "## Trabalhando com Máquinas de Boltzmann\n",
    "\n",
    "As máquinas de Boltzmann são inspiradas na distribuição de Boltzmann, a qual diz que o estado do sistema depende de sua energia e da temperatura em que esta operando, por isso, dizemos que o modelo e baseado em energia. O termo energia aqui é equivalente ao desvio da saida esperada. Quanto maior a energia, maior é o desvio. Sendo assim, o modelo é treinado com o objetivo de minimizar essa energia. \n",
    "\n",
    "<img src='assets/bm.png' width=800px>"
   ]
  },
  {
   "cell_type": "markdown",
   "id": "cc01266b",
   "metadata": {},
   "source": [
    "## A intuição por trás das máquinas de Boltzmann\n",
    "\n",
    "As máquinas de Boltzmann tem uma arquitetura diferente das demais redes neurais. Não existe uma demarcação clara entre camada de entrada e de saida. Na verdade, não tem camada de saida. Os nós em uma máquina de Boltzmann são categorizados apenas como visíveis ou escondidos. Os nós visíveis recebem os dados de entrada, e são reconstruidos como sendo os nós de saida. \n",
    "\n",
    "Na versão original da máquina de Boltzmann, todos os nós são conectados, sejam eles das camadas visivel ou invisivel, e todas as conexões são bi-direcionais.\n",
    "\n",
    "<img src='assets/bmGraph.png' width=600px>\n",
    "\n",
    "Além disso, cada nó pode assumir apenas dois estados possiveis, ligado ou desligado. O estado de um nó é determinado pelos pesos e bias associados a ele. "
   ]
  },
  {
   "cell_type": "markdown",
   "id": "ffafc3ee",
   "metadata": {},
   "source": [
    "## Tipos de máquinas de Boltzmann\n",
    "\n",
    "Existem diversas variacões de Máquinas de Boltzmann que evoluiram com o tempo para resolver diversos tipos de problemas. Entre as mais conhecidas, podemos citar a Máquina de Boltzmann Restrita ( _Restricted Boltzmann Machine - RBM_ ), Máquina de Crenca Profunda ( _Deep Belief Network - DBN_ ) e a Máquina de Boltzmann Profunda ( _Deep Boltzmann Machine - DBM_ ). "
   ]
  },
  {
   "cell_type": "markdown",
   "id": "36e4e691",
   "metadata": {},
   "source": [
    "### Restricted Boltzmann Machines\n",
    "\n",
    "O maior problema da maquina de Boltzmann convencional é a enorme quantidade de cálculos a serem executados mesmo para uma pequena quantidade de dados. Nesses casos, atualizar os pesos da rede se torna uma tarefa muito demorada devido as dependencias entre os nós. Para reduzir essa dependencia, uma restrição foi imposta ao modelo para remover as conexões intra-camadas. \n",
    "\n",
    "<img src='assets/bm_rbm.png' width=600px>\n",
    "\n",
    "Essa restrição imposta as conexões tornam as unidades de entrada e os nós esondidos independentes dentro de suas camadas. Sendo assim, os pesos podem ser atualizados em paralelo.\n",
    "\n",
    "<img src='assets/rbmCon.png' width=600px>"
   ]
  },
  {
   "cell_type": "markdown",
   "id": "7f1b7f3b",
   "metadata": {},
   "source": [
    "### Deep Belief Network e Deep Boltzmann Machines\n",
    "\n",
    "Deep Belief Network e Deep Boltzmann Machines são versões empilhadas da RBM, criando modelos em profundidade. DBNs são inicializadas aleatoriamente e utilizam cadeias de Markov para definir a ocorrência de possíveis eventos, que são ajustados durante o processo de treinamento. O processo e lento, e as DBMs tentam oferecer uma solução mais prática com um treinamento mais refinado.\n",
    "\n",
    "<img src='assets/dbn_dbm.png' width=600px>\n",
    "\n",
    "Apesar das duas arquiteturas serem confundidas frequentemente, a diferença pode ser notada nas conexões. As conexões da DBN nas camadas superiores tem uma única direção, enquanto nas DBMs são bi-direcionais."
   ]
  },
  {
   "cell_type": "markdown",
   "id": "237dd012",
   "metadata": {},
   "source": [
    "## Implementando RBMs com PyTorch\n",
    "\n",
    "\n",
    "Vamos implementar a RBM em PyTorch para reconstrução de digitos usando o dataset MNIST.\n",
    "\n",
    "### Passo 1: Importando os pacotes necessários\n",
    "\n",
    "Nesse passo, importamos todos os pacotes. Note que usaremos `torchvision.utils` para visualização dos resultados."
   ]
  },
  {
   "cell_type": "code",
   "execution_count": 1,
   "id": "5062e30e",
   "metadata": {},
   "outputs": [],
   "source": [
    "import numpy as np\n",
    "import torch\n",
    "import torch.utils.data\n",
    "import torch.nn as nn\n",
    "import torch.nn.functional as F\n",
    "import torch.optim as optim\n",
    "from torch.autograd import Variable\n",
    "from torchvision import datasets, transforms\n",
    "from torchvision.utils import make_grid , save_image\n",
    "%matplotlib inline\n",
    "import matplotlib.pyplot as plt"
   ]
  },
  {
   "cell_type": "markdown",
   "id": "f9028816",
   "metadata": {},
   "source": [
    "### Passo 2: Carregando o dataset MNIST\n",
    "\n",
    "Esse passo carrega o conjunto de treinamento e teste do dataset MNIST usando a classe Dataloader do pacote `torch.utils.data`. Vamos utilizar um batch de tamanho 64 e aplicar as transformações necessárias.\n"
   ]
  },
  {
   "cell_type": "code",
   "execution_count": 2,
   "id": "d9aeec8c",
   "metadata": {},
   "outputs": [
    {
     "name": "stdout",
     "output_type": "stream",
     "text": [
      "Downloading http://yann.lecun.com/exdb/mnist/train-images-idx3-ubyte.gz\n",
      "Downloading http://yann.lecun.com/exdb/mnist/train-images-idx3-ubyte.gz to ./data/MNIST/raw/train-images-idx3-ubyte.gz\n"
     ]
    },
    {
     "data": {
      "application/vnd.jupyter.widget-view+json": {
       "model_id": "77a4d67f8e6e4af8b406e7ecf28251f8",
       "version_major": 2,
       "version_minor": 0
      },
      "text/plain": [
       "  0%|          | 0/9912422 [00:00<?, ?it/s]"
      ]
     },
     "metadata": {},
     "output_type": "display_data"
    },
    {
     "name": "stdout",
     "output_type": "stream",
     "text": [
      "Extracting ./data/MNIST/raw/train-images-idx3-ubyte.gz to ./data/MNIST/raw\n",
      "\n",
      "Downloading http://yann.lecun.com/exdb/mnist/train-labels-idx1-ubyte.gz\n",
      "Downloading http://yann.lecun.com/exdb/mnist/train-labels-idx1-ubyte.gz to ./data/MNIST/raw/train-labels-idx1-ubyte.gz\n"
     ]
    },
    {
     "data": {
      "application/vnd.jupyter.widget-view+json": {
       "model_id": "52205873d9364cdd95669a0547bd089f",
       "version_major": 2,
       "version_minor": 0
      },
      "text/plain": [
       "  0%|          | 0/28881 [00:00<?, ?it/s]"
      ]
     },
     "metadata": {},
     "output_type": "display_data"
    },
    {
     "name": "stdout",
     "output_type": "stream",
     "text": [
      "Extracting ./data/MNIST/raw/train-labels-idx1-ubyte.gz to ./data/MNIST/raw\n",
      "\n",
      "Downloading http://yann.lecun.com/exdb/mnist/t10k-images-idx3-ubyte.gz\n",
      "Downloading http://yann.lecun.com/exdb/mnist/t10k-images-idx3-ubyte.gz to ./data/MNIST/raw/t10k-images-idx3-ubyte.gz\n"
     ]
    },
    {
     "data": {
      "application/vnd.jupyter.widget-view+json": {
       "model_id": "9d30b2886cec4b8f8eb920d03c7716f4",
       "version_major": 2,
       "version_minor": 0
      },
      "text/plain": [
       "  0%|          | 0/1648877 [00:00<?, ?it/s]"
      ]
     },
     "metadata": {},
     "output_type": "display_data"
    },
    {
     "name": "stdout",
     "output_type": "stream",
     "text": [
      "Extracting ./data/MNIST/raw/t10k-images-idx3-ubyte.gz to ./data/MNIST/raw\n",
      "\n",
      "Downloading http://yann.lecun.com/exdb/mnist/t10k-labels-idx1-ubyte.gz\n",
      "Downloading http://yann.lecun.com/exdb/mnist/t10k-labels-idx1-ubyte.gz to ./data/MNIST/raw/t10k-labels-idx1-ubyte.gz\n"
     ]
    },
    {
     "data": {
      "application/vnd.jupyter.widget-view+json": {
       "model_id": "710c90592d03401d9bcf3e0c61682745",
       "version_major": 2,
       "version_minor": 0
      },
      "text/plain": [
       "  0%|          | 0/4542 [00:00<?, ?it/s]"
      ]
     },
     "metadata": {},
     "output_type": "display_data"
    },
    {
     "name": "stdout",
     "output_type": "stream",
     "text": [
      "Extracting ./data/MNIST/raw/t10k-labels-idx1-ubyte.gz to ./data/MNIST/raw\n",
      "\n"
     ]
    }
   ],
   "source": [
    "batch_size = 64\n",
    "train_loader = torch.utils.data.DataLoader(\n",
    "datasets.MNIST('./data',\n",
    "    train=True,\n",
    "    download = True,\n",
    "    transform = transforms.Compose(\n",
    "        [transforms.ToTensor()])\n",
    "     ),\n",
    "     batch_size=batch_size\n",
    ")\n",
    "\n",
    "test_loader = torch.utils.data.DataLoader(\n",
    "datasets.MNIST('./data',\n",
    "    train=False,\n",
    "    transform=transforms.Compose(\n",
    "    [transforms.ToTensor()])\n",
    "    ),\n",
    "    batch_size=batch_size)"
   ]
  },
  {
   "cell_type": "markdown",
   "id": "925e9731",
   "metadata": {},
   "source": [
    "### Passo 3: Definindo o modelo\n",
    "\n",
    "Nesse passo, começaremos a construir nosso modelo. Vamos definir as transformações associadas com os neurônios visiveis e escondidos. Além disso, pela RBM ser um modelo baseado em energia, vamos também definir uma função para computar a diferença de energia. Na inicialização da função, também inicializaremos os pesos e os bias para os neurônios visiveis e escondidos."
   ]
  },
  {
   "cell_type": "code",
   "execution_count": 3,
   "id": "8f614b32",
   "metadata": {},
   "outputs": [],
   "source": [
    "class RBM(nn.Module):\n",
    "    def __init__(self,\n",
    "               n_vis=784,\n",
    "               n_hin=500,\n",
    "               k=5):\n",
    "        super(RBM, self).__init__()\n",
    "        self.W = nn.Parameter(torch.randn(n_hin,n_vis)*1e-2)\n",
    "        self.v_bias = nn.Parameter(torch.zeros(n_vis))\n",
    "        self.h_bias = nn.Parameter(torch.zeros(n_hin))\n",
    "        self.k = k\n",
    "    \n",
    "    def sample_from_p(self,p):\n",
    "        return F.relu(torch.sign(p - Variable(torch.rand(p.size()))))\n",
    "    \n",
    "    def v_to_h(self,v):\n",
    "        p_h = torch.sigmoid(F.linear(v,self.W,self.h_bias))\n",
    "        sample_h = self.sample_from_p(p_h)\n",
    "        return p_h,sample_h\n",
    "    \n",
    "    def h_to_v(self,h):\n",
    "        p_v = torch.sigmoid(F.linear(h,self.W.t(),self.v_bias))\n",
    "        sample_v = self.sample_from_p(p_v)\n",
    "        return p_v,sample_v\n",
    "        \n",
    "    def forward(self,v):\n",
    "        pre_h1,h1 = self.v_to_h(v)\n",
    "        \n",
    "        h_ = h1\n",
    "        for _ in range(self.k):\n",
    "            pre_v_,v_ = self.h_to_v(h_)\n",
    "            pre_h_,h_ = self.v_to_h(v_)\n",
    "        \n",
    "        return v,v_\n",
    "    \n",
    "    def free_energy(self,v):\n",
    "        vbias_term = v.mv(self.v_bias)\n",
    "        wx_b = F.linear(v,self.W,self.h_bias)\n",
    "        hidden_term = wx_b.exp().add(1).log().sum(1)\n",
    "        return (-hidden_term - vbias_term).mean()\n"
   ]
  },
  {
   "cell_type": "markdown",
   "id": "231a8b37",
   "metadata": {},
   "source": [
    "Sempre precisamos definir o metodo forward, o qual e usado pela rede para propagar os pesos e os bias pela rede e computar todos os valores. O processo e repetido por $k$ vezes, o que define o numero de vezes em que computamos a divergencia constrastiva. Uma vez que as RBMs sao modelos baseados em energia, no fim definimos um metodo que calcula a energia do modelo.\n"
   ]
  },
  {
   "cell_type": "markdown",
   "id": "143211a0",
   "metadata": {},
   "source": [
    "### Passo 4: Inicializando e treinando o modelo\n",
    "\n",
    "A classe da RBM que criamos e inicializada com $k=1$. Vamos usar o otimizador SGD no exemplo. No fim do processo, todas os custos sao acumulados em um vetor 1D. Extrairemos a distribuicao de Bernoulli usando o metodo `data.bernoulli()`. Esse e o padrao de entrada com o qual comecaremos.\n",
    "\n",
    "Uma amostra de entrada e usada para alimentar a RBM, a qual retorna o padrao reconstruido como saida. O erro e calculado como a diferenca entre as energias desses dois padroes e adicionada em uma lista. O erro e propagado usando o metodo `backward()`. Ja o metodo `optimizer.step()` executa a atualizacao dos parametros baseando-se no gradiente acumulado, armazenado no atributo `.grad`, executando a atualizacao de todos os parametros."
   ]
  },
  {
   "cell_type": "code",
   "execution_count": 4,
   "id": "2213d103",
   "metadata": {},
   "outputs": [
    {
     "name": "stdout",
     "output_type": "stream",
     "text": [
      "Training loss for 0 epoch: -8.383481979370117\n",
      "Training loss for 1 epoch: -6.703145980834961\n",
      "Training loss for 2 epoch: -4.67299222946167\n",
      "Training loss for 3 epoch: -3.1894993782043457\n",
      "Training loss for 4 epoch: -2.267158031463623\n",
      "Training loss for 5 epoch: -1.5638757944107056\n",
      "Training loss for 6 epoch: -1.1246894598007202\n",
      "Training loss for 7 epoch: -0.7187407612800598\n",
      "Training loss for 8 epoch: -0.5919564366340637\n",
      "Training loss for 9 epoch: -0.3674004375934601\n"
     ]
    }
   ],
   "source": [
    "rbm = RBM(k=1)\n",
    "train_op = optim.SGD(rbm.parameters(),0.1)\n",
    "\n",
    "for epoch in range(10):\n",
    "    loss_ = []\n",
    "    for _, (data,target) in enumerate(train_loader):\n",
    "        data = Variable(data.view(-1,784))\n",
    "        sample_data = data.bernoulli()\n",
    "        \n",
    "        v,v1 = rbm(sample_data)\n",
    "        loss = rbm.free_energy(v) - rbm.free_energy(v1)\n",
    "        loss_.append(loss.data)\n",
    "        train_op.zero_grad()\n",
    "        loss.backward()\n",
    "        train_op.step()\n",
    "\n",
    "    print(\"Training loss for {} epoch: {}\".format(epoch, np.mean(loss_)))\n"
   ]
  },
  {
   "cell_type": "markdown",
   "id": "021809f5",
   "metadata": {},
   "source": [
    "Na sequencia, definimos uma funcao auxiliar para transpor a imagem para uma dimensao apropriada e armazena-la."
   ]
  },
  {
   "cell_type": "code",
   "execution_count": 5,
   "id": "7b90081d",
   "metadata": {},
   "outputs": [],
   "source": [
    "def show_adn_save(file_name,img):\n",
    "    npimg = np.transpose(img.numpy(),(1,2,0))\n",
    "    f = \"./%s.png\" % file_name\n",
    "    plt.imshow(npimg)\n",
    "    plt.imsave(f,npimg)"
   ]
  },
  {
   "cell_type": "markdown",
   "id": "8e485e03",
   "metadata": {},
   "source": [
    "### Passo 5: visualizando as saidas\n",
    "\n",
    "Nesse passo, vamos visualizar as saidas"
   ]
  },
  {
   "cell_type": "code",
   "execution_count": 6,
   "id": "f68b8fb8",
   "metadata": {},
   "outputs": [
    {
     "data": {
      "image/png": "[encoded data removed]",
      "text/plain": [
       "<Figure size 432x288 with 1 Axes>"
      ]
     },
     "metadata": {
      "needs_background": "light"
     },
     "output_type": "display_data"
    }
   ],
   "source": [
    "show_adn_save(\"real\",make_grid(v.view(32,1,28,28).data))"
   ]
  },
  {
   "cell_type": "code",
   "execution_count": 7,
   "id": "d59ee848",
   "metadata": {},
   "outputs": [
    {
     "data": {
      "image/png": "[encoded data removed]",
      "text/plain": [
       "<Figure size 432x288 with 1 Axes>"
      ]
     },
     "metadata": {
      "needs_background": "light"
     },
     "output_type": "display_data"
    }
   ],
   "source": [
    "show_adn_save(\"geradas\",make_grid(v1.view(32,1,28,28).data))"
   ]
  },
  {
   "cell_type": "markdown",
   "id": "7ff751fa",
   "metadata": {},
   "source": [
    "Como podemos ver, na imagem de cima temos as imagens reais de amostras do dataset MNIST, enquanto a imagem de baixo apresenta as amostras geradas pela RBM."
   ]
  }
 ],
 "metadata": {
  "kernelspec": {
   "display_name": "Python 3 (ipykernel)",
   "language": "python",
   "name": "python3"
  },
  "language_info": {
   "codemirror_mode": {
    "name": "ipython",
    "version": 3
   },
   "file_extension": ".py",
   "mimetype": "text/x-python",
   "name": "python",
   "nbconvert_exporter": "python",
   "pygments_lexer": "ipython3",
   "version": "3.9.7"
  }
 },
 "nbformat": 4,
 "nbformat_minor": 5
}
