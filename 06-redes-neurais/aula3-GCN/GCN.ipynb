{
 "cells": [
  {
   "cell_type": "code",
   "execution_count": null,
   "id": "b15149da",
   "metadata": {
    "colab": {
     "base_uri": "https://localhost:8080/"
    },
    "executionInfo": {
     "elapsed": 183,
     "status": "ok",
     "timestamp": 1637614496086,
     "user": {
      "displayName": "Leandro Aparecido Passos Junior",
      "photoUrl": "https://lh3.googleusercontent.com/a-/AOh14GjWN5bnCD7fe4ZMPaTK9SzkJkT7R3lpcG3v25i3=s64",
      "userId": "02885182476554207063"
     },
     "user_tz": 0
    },
    "id": "l9gyFcNfZzAX",
    "outputId": "552c39c1-559c-402c-8b8c-f7ebe10f6dec"
   },
   "outputs": [
    {
     "name": "stdout",
     "output_type": "stream",
     "text": [
      "Drive already mounted at /content/drive; to attempt to forcibly remount, call drive.mount(\"/content/drive\", force_remount=True).\n"
     ]
    }
   ],
   "source": [
    "from google.colab import drive\n",
    "drive.mount('/content/drive')"
   ]
  },
  {
   "cell_type": "markdown",
   "id": "deb3575c",
   "metadata": {
    "id": "YOYFj9e1aVqv"
   },
   "source": [
    "# Graph Convolutional Networks (GCN)\n",
    "\n",
    "Baseado em: https://antonsruberts.github.io/graph/gcn/\n",
    "        \n",
    "No geral, metodos para extracao de caracteristicas nao capturam informacoes sobre a vizinhanca de um no em um grafo, as quais podem ser essenciais para alguns tipos de tarefas. Redes neurais em grafos resolvem esse problema ao considerar tanto a informacao de cada amostra como das suas relacoes com o restante do grafo para extrair essas caracteristicas. Como o nome sugere, GCN e uma rede neural que trabalha com dados em grafos, e o seu principal objetivo e refinar as informacoes presentes tanto no grafo em si como nos atributos de cada no em um vetor de caracteristicas. A figura abaixo apresenta uma ideia intuitiva da GCN de [Kipf and Welling (2016)](https://arxiv.org/abs/1609.02907). \n",
    "![](https://drive.google.com/uc?export=view&id=1liHJYh4Dte88zRPzjkWuk74UNrov5xPy)"
   ]
  },
  {
   "cell_type": "markdown",
   "id": "fb01a0a7",
   "metadata": {
    "id": "9e1ebbbd"
   },
   "source": [
    "Nessa aula, vamos usar o pacote `stellargraph` [(docs)](https://stellargraph.readthedocs.io/en/stable/) e sua implementacao de GCN. Os autores fornecem um bom exemplo de aplicacao usando jupyter [aqui](https://stellargraph.readthedocs.io/en/stable/demos/node-classification/gcn-node-classification.html).\n",
    "\n",
    "O objetivo da aula e proporcionar uma boa ideia do que acontece em cada camada da rede e como aplicar esse modelo para datasets reais."
   ]
  },
  {
   "cell_type": "markdown",
   "id": "939c0ea9",
   "metadata": {
    "id": "74484f20"
   },
   "source": [
    "## Importando os pacotes"
   ]
  },
  {
   "cell_type": "code",
   "execution_count": 2,
   "id": "c47185ae",
   "metadata": {
    "executionInfo": {
     "elapsed": 213,
     "status": "ok",
     "timestamp": 1637948387227,
     "user": {
      "displayName": "Leandro Aparecido Passos Junior",
      "photoUrl": "https://lh3.googleusercontent.com/a-/AOh14GjWN5bnCD7fe4ZMPaTK9SzkJkT7R3lpcG3v25i3=s64",
      "userId": "02885182476554207063"
     },
     "user_tz": 0
    },
    "id": "sfWNxymIs3sd"
   },
   "outputs": [],
   "source": [
    "!pip install stellargraph\n",
    "!pip uninstall umap -y\n",
    "!pip install umap-learn"
   ]
  },
  {
   "cell_type": "code",
   "execution_count": null,
   "id": "febdd60e",
   "metadata": {
    "id": "961d4fb9"
   },
   "outputs": [],
   "source": [
    "import pandas as pd\n",
    "from tqdm import tqdm\n",
    "import json\n",
    "import os\n",
    "import umap.umap_ as umap\n",
    "import numpy as np\n",
    "import scipy.sparse as sp\n",
    "from sklearn.model_selection import train_test_split\n",
    "from sklearn.preprocessing import LabelBinarizer\n",
    "from sklearn.metrics import f1_score, roc_auc_score, average_precision_score, confusion_matrix\n",
    "\n",
    "\n",
    "import stellargraph as sg\n",
    "from stellargraph.mapper import FullBatchNodeGenerator\n",
    "from stellargraph.layer import GCN\n",
    "\n",
    "import warnings\n",
    "import tensorflow as tf\n",
    "from tensorflow.keras import backend as K\n",
    "from tensorflow.keras import activations, initializers, constraints, regularizers\n",
    "from tensorflow.keras.layers import Input, Layer, Lambda, Dropout, Reshape, Dense\n",
    "from tensorflow.keras.callbacks import EarlyStopping\n",
    "\n",
    "from tensorflow.keras import layers, optimizers, losses, metrics, Model\n",
    "import matplotlib.pyplot as plt\n",
    "import seaborn as sns\n",
    "%matplotlib inline"
   ]
  },
  {
   "cell_type": "markdown",
   "id": "3aae3edf",
   "metadata": {
    "id": "83e91a02"
   },
   "source": [
    "## Dados\n",
    "---\n",
    "\n",
    "Vamos comecar baixando o dataset de usuarios do github, disponivel [aqui](https://snap.stanford.edu/data/github-social.html). Usaremos o dataset para classificar se o usuario de desenvolvedor web ou de ML. Nesse dataset, os nos representam usuarios do github que deram estrela para mais de 10 repositorios, as arestas representam seguidores em comum, e as caracteristicas representam a localizacao, repositorios com estrelas, empregador e email."
   ]
  },
  {
   "cell_type": "markdown",
   "id": "fa209eee",
   "metadata": {
    "id": "3f32a2be"
   },
   "source": [
    "### Baixando e extraindo o dataset"
   ]
  },
  {
   "cell_type": "code",
   "execution_count": null,
   "id": "5730cb75",
   "metadata": {
    "id": "31ab3408"
   },
   "outputs": [],
   "source": [
    "!wget \"https://snap.stanford.edu/data/git_web_ml.zip\"\n",
    "!unzip git_web_ml.zip"
   ]
  },
  {
   "cell_type": "markdown",
   "id": "ae2d913d",
   "metadata": {
    "id": "d444e116"
   },
   "source": [
    "### Lendo as arestas, caracteristicas e rotulos"
   ]
  },
  {
   "cell_type": "code",
   "execution_count": null,
   "id": "c75e6f55",
   "metadata": {
    "id": "c821bbc4"
   },
   "outputs": [],
   "source": [
    "edges_path = '/content/drive/MyDrive/Colab Notebooks/Aula GCN/git_web_ml/musae_git_edges.csv'\n",
    "targets_path = '/content/drive/MyDrive/Colab Notebooks/Aula GCN/git_web_ml/musae_git_target.csv'\n",
    "features_path = '/content/drive/MyDrive/Colab Notebooks/Aula GCN/git_web_ml/musae_git_features.json'"
   ]
  },
  {
   "cell_type": "markdown",
   "id": "74d3dbc8",
   "metadata": {
    "id": "Wy4Snj73pBMk"
   },
   "source": [
    "### definindo um numero menor de amostras\n",
    "\n",
    "Farei isso para treinar mais rapidamente e evitar erro de crash de memoria "
   ]
  },
  {
   "cell_type": "code",
   "execution_count": null,
   "id": "32fd22ad",
   "metadata": {
    "id": "6hawvYaBpCeP"
   },
   "outputs": [],
   "source": [
    "num_samples = 10000"
   ]
  },
  {
   "cell_type": "code",
   "execution_count": 3,
   "id": "d2b06d3f",
   "metadata": {
    "executionInfo": {
     "elapsed": 207,
     "status": "ok",
     "timestamp": 1637948544006,
     "user": {
      "displayName": "Leandro Aparecido Passos Junior",
      "photoUrl": "https://lh3.googleusercontent.com/a-/AOh14GjWN5bnCD7fe4ZMPaTK9SzkJkT7R3lpcG3v25i3=s64",
      "userId": "02885182476554207063"
     },
     "user_tz": 0
    },
    "id": "8fb668bc"
   },
   "outputs": [],
   "source": [
    "# lendo as arestas\n",
    "edges = pd.read_csv(edges_path)\n",
    "edges.columns = ['source', 'target'] # renaming for StellarGraph compatibility\n",
    "display(edges.shape, edges.head())"
   ]
  },
  {
   "cell_type": "code",
   "execution_count": 4,
   "id": "37e7d6df",
   "metadata": {
    "executionInfo": {
     "elapsed": 212,
     "status": "ok",
     "timestamp": 1637948550485,
     "user": {
      "displayName": "Leandro Aparecido Passos Junior",
      "photoUrl": "https://lh3.googleusercontent.com/a-/AOh14GjWN5bnCD7fe4ZMPaTK9SzkJkT7R3lpcG3v25i3=s64",
      "userId": "02885182476554207063"
     },
     "user_tz": 0
    },
    "id": "w30gLUnwv3BL"
   },
   "outputs": [],
   "source": [
    "edges = edges[edges['target'] <num_samples]\n",
    "edges = edges[edges['source'] <num_samples]\n",
    "display(edges.shape, edges.head())"
   ]
  },
  {
   "cell_type": "code",
   "execution_count": 5,
   "id": "f4a2f2a0",
   "metadata": {
    "executionInfo": {
     "elapsed": 234,
     "status": "ok",
     "timestamp": 1637948558209,
     "user": {
      "displayName": "Leandro Aparecido Passos Junior",
      "photoUrl": "https://lh3.googleusercontent.com/a-/AOh14GjWN5bnCD7fe4ZMPaTK9SzkJkT7R3lpcG3v25i3=s64",
      "userId": "02885182476554207063"
     },
     "user_tz": 0
    },
    "id": "5ce2de3f"
   },
   "outputs": [],
   "source": [
    "# lendo as caracteristicas\n",
    "with open(features_path) as json_data:\n",
    "    features = json.load(json_data)\n",
    "\n",
    "max_feature = np.max([v for v_list in features.values() for v in v_list])\n",
    "# features_matrix = np.zeros(shape = (len(list(features.keys())), max_feature+1))\n",
    "features_matrix = np.zeros(shape = (num_samples, max_feature+1))\n",
    "\n",
    "\n",
    "i = 0\n",
    "for k, vs in tqdm(features.items()):\n",
    "    if i<num_samples:\n",
    "        for v in vs:\n",
    "            features_matrix[i, v] = 1\n",
    "        i+=1"
   ]
  },
  {
   "cell_type": "code",
   "execution_count": 6,
   "id": "9c27c7ea",
   "metadata": {
    "executionInfo": {
     "elapsed": 214,
     "status": "ok",
     "timestamp": 1637948569391,
     "user": {
      "displayName": "Leandro Aparecido Passos Junior",
      "photoUrl": "https://lh3.googleusercontent.com/a-/AOh14GjWN5bnCD7fe4ZMPaTK9SzkJkT7R3lpcG3v25i3=s64",
      "userId": "02885182476554207063"
     },
     "user_tz": 0
    },
    "id": "xl5hqMTz_521"
   },
   "outputs": [],
   "source": [
    "# node_features = pd.DataFrame(features_matrix, index = features.keys())\n",
    "node_features = pd.DataFrame(features_matrix, index = np.arange(num_samples).astype(str))\n",
    "display(node_features.shape, node_features.head())"
   ]
  },
  {
   "cell_type": "code",
   "execution_count": 7,
   "id": "392ff55e",
   "metadata": {
    "executionInfo": {
     "elapsed": 219,
     "status": "ok",
     "timestamp": 1637948575867,
     "user": {
      "displayName": "Leandro Aparecido Passos Junior",
      "photoUrl": "https://lh3.googleusercontent.com/a-/AOh14GjWN5bnCD7fe4ZMPaTK9SzkJkT7R3lpcG3v25i3=s64",
      "userId": "02885182476554207063"
     },
     "user_tz": 0
    },
    "id": "84d2f998"
   },
   "outputs": [],
   "source": [
    "# lendo os rotulos\n",
    "targets = pd.read_csv(targets_path)\n",
    "targets.index = targets.id.astype(str)\n",
    "targets = targets.loc[np.arange(num_samples).astype(str), :]\n",
    "display(targets.shape, targets.head(), targets.ml_target.value_counts(normalize=True))"
   ]
  },
  {
   "cell_type": "markdown",
   "id": "952c5a5e",
   "metadata": {
    "id": "0ef37341"
   },
   "source": [
    "Entao temos 37700 desenvolvedores, 289003 seguidores em comum e 4005 caracteristicas. Aproximadamente 75% dos usuarios sao desenvolvedores web e 25% sao desenvolvedores de ML."
   ]
  },
  {
   "cell_type": "markdown",
   "id": "c3d4f328",
   "metadata": {
    "id": "bcd67694"
   },
   "source": [
    "### Dados no StellarGraph\n",
    "\n",
    "`stellargraph` tem sua propria estrutura de dados com diversas funcionalidades. Para transformar nossos dados para o formato do StellarGraph e muito simples, precisando apenas passar os dataframes com as caracteristicas dos nos e as arestas para a funcao `StellarGraph`. A API tambem aceita arestas ponderadas, nos heterogeneos, tipos de arestas e nos direcionados."
   ]
  },
  {
   "cell_type": "code",
   "execution_count": 8,
   "id": "bee3b4de",
   "metadata": {
    "executionInfo": {
     "elapsed": 237,
     "status": "ok",
     "timestamp": 1637948626001,
     "user": {
      "displayName": "Leandro Aparecido Passos Junior",
      "photoUrl": "https://lh3.googleusercontent.com/a-/AOh14GjWN5bnCD7fe4ZMPaTK9SzkJkT7R3lpcG3v25i3=s64",
      "userId": "02885182476554207063"
     },
     "user_tz": 0
    },
    "id": "f4263dc2"
   },
   "outputs": [],
   "source": [
    "G = sg.StellarGraph(node_features, edges.astype(str))\n",
    "print(G.info())"
   ]
  },
  {
   "cell_type": "markdown",
   "id": "3ef64d6b",
   "metadata": {
    "id": "2d986856"
   },
   "source": [
    "### Conjuntos de Treino, Teste e validacao\n",
    "\n",
    "Como de costume, precisamos separar os dados em treino, validacao e teste. GCN e um modelo semi-supervisionado, o que significa que precisa de um numero reduzido de rotulos do que tecnicas supervisionadas para o aprendizado. Suponha que tenhamos apenas 1% dos dados rotulados, i.e., 400 desenvolvedores. Nesse caso, usaremmos 200 deles para treinamento e os outros 200 para validacao. O restante sera usado para teste."
   ]
  },
  {
   "cell_type": "code",
   "execution_count": null,
   "id": "c4b46561",
   "metadata": {
    "id": "57820ea7"
   },
   "outputs": [],
   "source": [
    "train_pages, test_pages = train_test_split(targets, train_size=200)\n",
    "val_pages, test_pages = train_test_split(test_pages, train_size=200)"
   ]
  },
  {
   "cell_type": "code",
   "execution_count": 9,
   "id": "24e7177b",
   "metadata": {
    "executionInfo": {
     "elapsed": 218,
     "status": "ok",
     "timestamp": 1637948634356,
     "user": {
      "displayName": "Leandro Aparecido Passos Junior",
      "photoUrl": "https://lh3.googleusercontent.com/a-/AOh14GjWN5bnCD7fe4ZMPaTK9SzkJkT7R3lpcG3v25i3=s64",
      "userId": "02885182476554207063"
     },
     "user_tz": 0
    },
    "id": "746c7fd8"
   },
   "outputs": [],
   "source": [
    "train_pages.shape, val_pages.shape, test_pages.shape"
   ]
  },
  {
   "cell_type": "markdown",
   "id": "0713ac03",
   "metadata": {
    "id": "00a1e2c3"
   },
   "source": [
    "## Pre-processamento\n",
    "\n",
    "### Pre-processamento dos rotulos"
   ]
  },
  {
   "cell_type": "code",
   "execution_count": null,
   "id": "f2f242a2",
   "metadata": {
    "id": "92db940e"
   },
   "outputs": [],
   "source": [
    "target_encoding = LabelBinarizer()\n",
    "\n",
    "train_targets = target_encoding.fit_transform(train_pages['ml_target'])\n",
    "val_targets = target_encoding.transform(val_pages['ml_target'])\n",
    "test_targets = target_encoding.transform(test_pages['ml_target'])\n",
    "\n",
    "# print(train_pages['ml_target'])\n",
    "# print(train_targets)"
   ]
  },
  {
   "cell_type": "markdown",
   "id": "fa3d7367",
   "metadata": {
    "id": "beea7530"
   },
   "source": [
    "### Pre-processamento do grafo\n",
    "\n",
    "Essa e a principal parte para o funcionamento de GCN. Para entender o tipo de processamento que faremos, vamos das uma olhada no que as camadas convolucionais em grafo fazem. O que queremos e, de alguma forma, agregar a informacao das caracteristicas dos nos vizinhos porque queremos aprender as representacoes que reflitam a vizinhanca do grafo. Em CNNs, que sao normalmente usadas para imagens, esse objetivo e alcancado usando operacoes convolucionais com pixels e kernels. A intensidade do no (pixel) vizinho (ex: 3x3) e passada pelo kernel que tira a media dos pixels e computa um unico valor. Isso funciona porque em imagens os vizinhos sao ordenados e tem tamanho fixo. Nos nao temos essas qualidades em grafos, e precisamos de uma alternativa diferente.\n",
    "\n",
    "\n",
    "\n",
    "![](https://drive.google.com/uc?export=view&id=1LWb4Lc4Nhqzm0GteBM1jZ-0ib4fjlRBQ)\n",
    "\n",
    "A alternativa e usar a ideia de passar a infomacao multiplicando os estados ocultos pela matriz de adjacencia. A matriz de adjacencia representa a conexao entre os nos. Sendo assim, multiplicando os estados ocultos (ou os nos com as caracteristicas, para a primeira camada) por ela, estamos de certa forma aplicando uma mascara e agregando apenas a informacao dos nos vizinhos. Os conceitos podem ser vistos em detalhe nesse [video](https://www.youtube.com/watch?v=ijmxpItkRjc&t=524s).\n",
    "\n",
    "Nossa tarefa agora e pre-computar essa parte nao treinavel do algoritmo. Usaremos a implementacao do stellargraph, que executa esses calculos em um formato esparco para melhorar a velocidade."
   ]
  },
  {
   "cell_type": "code",
   "execution_count": 10,
   "id": "1e4a7406",
   "metadata": {
    "executionInfo": {
     "elapsed": 312,
     "status": "ok",
     "timestamp": 1637948791444,
     "user": {
      "displayName": "Leandro Aparecido Passos Junior",
      "photoUrl": "https://lh3.googleusercontent.com/a-/AOh14GjWN5bnCD7fe4ZMPaTK9SzkJkT7R3lpcG3v25i3=s64",
      "userId": "02885182476554207063"
     },
     "user_tz": 0
    },
    "id": "eec1c03f"
   },
   "outputs": [],
   "source": [
    "# Pega a matriz de adjacencias do grafo\n",
    "A = G.to_adjacency_matrix(weighted=False)\n",
    "\n",
    "# Adiciona conexoes dos nos com eles mesmos (se a representacao seria baseada apenas nos vizinhos, sem considerar as caracteristicas do proprio no)\n",
    "A_t = A + sp.diags(np.ones(A.shape[0]) - A.diagonal())\n",
    "\n",
    "# Computa o grau da matriz e ele a -1/2 (grau e o numero de vizinhos, e eleva a -1/2 para ajudar na normalizacao)\n",
    "D_t = sp.diags(np.power(np.array(A.sum(1)), -0.5).flatten(), 0)\n",
    "\n",
    "# Normaliza a matriz de adjacencias\n",
    "A_norm = A.dot(D_t).transpose().dot(D_t).todense()"
   ]
  },
  {
   "cell_type": "markdown",
   "id": "62cc2c7b",
   "metadata": {
    "id": "7568b0d0"
   },
   "source": [
    "Agora que pre-processamos nossos dados para o GCN, devemos seguir mais algumas formalidades antes de treinar o modelo:\n",
    "1. Pegar os novos indices dos conjuntos de treinamento, validacao e teste - necessarios para computar o custo do modelo.\n",
    "2. Adicionar uma dimensao extra para os nossos dados (necessario pela implementacao das redes - pense como se fosse um minibatch com uma unica amostra)"
   ]
  },
  {
   "cell_type": "code",
   "execution_count": null,
   "id": "c1cfdaf5",
   "metadata": {
    "id": "d2c2dcc4"
   },
   "outputs": [],
   "source": [
    "# Definindo uma funcao para pegar esses indices\n",
    "def get_node_indices(G, ids):\n",
    "    # encontra os indices dos nos\n",
    "    node_ids = np.asarray(ids)\n",
    "    flat_node_ids = node_ids.reshape(-1)\n",
    "\n",
    "    flat_node_indices = G.node_ids_to_ilocs(flat_node_ids) # usa funcao in-built \n",
    "    # volta para o formato original\n",
    "    node_indices = flat_node_indices.reshape(1, len(node_ids)) # adiciona uma dimensao extra\n",
    "    \n",
    "    return node_indices\n",
    "\n",
    "train_indices = get_node_indices(G, train_pages.index)\n",
    "val_indices = get_node_indices(G, val_pages.index)\n",
    "test_indices = get_node_indices(G, test_pages.index)"
   ]
  },
  {
   "cell_type": "code",
   "execution_count": null,
   "id": "d1b5a097",
   "metadata": {
    "id": "c188e45b"
   },
   "outputs": [],
   "source": [
    "# Expandindo para a  dimensao extra\n",
    "features_input = np.expand_dims(features_matrix, 0)\n",
    "A_input = np.expand_dims(A_norm, 0)\n",
    "\n",
    "y_train = np.expand_dims(train_targets, 0)\n",
    "y_val = np.expand_dims(val_targets, 0)\n",
    "y_test = np.expand_dims(test_targets, 0)"
   ]
  },
  {
   "cell_type": "markdown",
   "id": "1e093123",
   "metadata": {
    "id": "1d100393"
   },
   "source": [
    "Agora que os dados estao normalizados e no formato correto, podemos comecar a modelagem da rede."
   ]
  },
  {
   "cell_type": "markdown",
   "id": "571e2da7",
   "metadata": {
    "id": "0725d7bb"
   },
   "source": [
    "## Modelo GCN\n",
    "\n",
    "Analisando friamente, as camadas GCN nao passam de multiplicacoes de valores de entrada, pesos, e a matriz de adjacencias normalizada. Quem tiver interesse, pode ver como e feita implementacao em `stellargraph`'s `GraphConvolution` [aqui](https://github.com/stellargraph/stellargraph/blob/develop/stellargraph/layer/gcn.py), nas linhas 208 e 209."
   ]
  },
  {
   "cell_type": "code",
   "execution_count": null,
   "id": "647ba907",
   "metadata": {
    "id": "90d05818"
   },
   "outputs": [],
   "source": [
    "from stellargraph.layer.gcn import GraphConvolution, GatherIndices\n",
    "\n",
    "# Inicializando os parametros da GCN\n",
    "kernel_initializer=\"glorot_uniform\"\n",
    "bias = True\n",
    "bias_initializer=\"zeros\"\n",
    "n_layers = 2\n",
    "layer_sizes = [32, 32]\n",
    "dropout = 0.5\n",
    "n_features = features_input.shape[2]\n",
    "n_nodes = features_input.shape[1]"
   ]
  },
  {
   "cell_type": "markdown",
   "id": "46c32180",
   "metadata": {
    "id": "7d646ce6"
   },
   "source": [
    "Primeiramente, vamos inicializar a camada de entrada com os formatos corretos para receber 3 entradas:\n",
    "1. Matriz de caracteristicas\n",
    "2. Indices de treinamento/teste/validacao\n",
    "3. Matriz de adjacencias normalizada"
   ]
  },
  {
   "cell_type": "code",
   "execution_count": 11,
   "id": "5ce691e0",
   "metadata": {
    "executionInfo": {
     "elapsed": 240,
     "status": "ok",
     "timestamp": 1637949020602,
     "user": {
      "displayName": "Leandro Aparecido Passos Junior",
      "photoUrl": "https://lh3.googleusercontent.com/a-/AOh14GjWN5bnCD7fe4ZMPaTK9SzkJkT7R3lpcG3v25i3=s64",
      "userId": "02885182476554207063"
     },
     "user_tz": 0
    },
    "id": "9d28fb5b"
   },
   "outputs": [],
   "source": [
    "x_features = Input(batch_shape=(1, n_nodes, n_features))\n",
    "x_indices = Input(batch_shape=(1, None), dtype=\"int32\")\n",
    "x_adjacency = Input(batch_shape=(1, n_nodes, n_nodes))\n",
    "x_inp = [x_features, x_indices, x_adjacency]\n",
    "x_inp"
   ]
  },
  {
   "cell_type": "markdown",
   "id": "3b163ed9",
   "metadata": {
    "id": "3816c0c0"
   },
   "source": [
    "Agora, podemos construir um modelo GCN com 2 camadas e dropout. Cada camada vai ter 32 unidades, que devem ser suficientes para transformar os dados o obter boas representacoes."
   ]
  },
  {
   "cell_type": "code",
   "execution_count": 12,
   "id": "ed9c3243",
   "metadata": {
    "executionInfo": {
     "elapsed": 216,
     "status": "ok",
     "timestamp": 1637949078265,
     "user": {
      "displayName": "Leandro Aparecido Passos Junior",
      "photoUrl": "https://lh3.googleusercontent.com/a-/AOh14GjWN5bnCD7fe4ZMPaTK9SzkJkT7R3lpcG3v25i3=s64",
      "userId": "02885182476554207063"
     },
     "user_tz": 0
    },
    "id": "8dd1bc18"
   },
   "outputs": [],
   "source": [
    "x = Dropout(0.5)(x_features)\n",
    "\n",
    "x = GraphConvolution(32, activation='relu', \n",
    "                     use_bias=True,\n",
    "                     kernel_initializer=kernel_initializer,\n",
    "                     bias_initializer=bias_initializer)([x, x_adjacency])\n",
    "x = Dropout(0.5)(x)\n",
    "x = GraphConvolution(32, activation='relu', \n",
    "                     use_bias=True,\n",
    "                     kernel_initializer=kernel_initializer,\n",
    "                     bias_initializer=bias_initializer)([x, x_adjacency])\n",
    "\n",
    "x = GatherIndices(batch_dims=1)([x, x_indices])\n",
    "output = Dense(1, activation='sigmoid')(x)"
   ]
  },
  {
   "cell_type": "code",
   "execution_count": 13,
   "id": "f7ac4153",
   "metadata": {
    "executionInfo": {
     "elapsed": 211,
     "status": "ok",
     "timestamp": 1637949086156,
     "user": {
      "displayName": "Leandro Aparecido Passos Junior",
      "photoUrl": "https://lh3.googleusercontent.com/a-/AOh14GjWN5bnCD7fe4ZMPaTK9SzkJkT7R3lpcG3v25i3=s64",
      "userId": "02885182476554207063"
     },
     "user_tz": 0
    },
    "id": "8a5de98e"
   },
   "outputs": [],
   "source": [
    "model = Model(inputs=[x_features, x_indices, x_adjacency], outputs=output)\n",
    "model.summary()"
   ]
  },
  {
   "cell_type": "code",
   "execution_count": null,
   "id": "2f347ec1",
   "metadata": {
    "id": "f048aac2"
   },
   "outputs": [],
   "source": [
    "model.compile(\n",
    "    optimizer=optimizers.Adam(learning_rate=0.01),\n",
    "    loss=losses.binary_crossentropy,\n",
    "    metrics=[\"acc\"],\n",
    ")"
   ]
  },
  {
   "cell_type": "code",
   "execution_count": null,
   "id": "2465cae7",
   "metadata": {
    "id": "edee93d8"
   },
   "outputs": [],
   "source": [
    "es_callback = EarlyStopping(monitor=\"val_loss\", patience=10, restore_best_weights=True)"
   ]
  },
  {
   "cell_type": "code",
   "execution_count": 14,
   "id": "2aead7d8",
   "metadata": {
    "executionInfo": {
     "elapsed": 291,
     "status": "ok",
     "timestamp": 1637949150237,
     "user": {
      "displayName": "Leandro Aparecido Passos Junior",
      "photoUrl": "https://lh3.googleusercontent.com/a-/AOh14GjWN5bnCD7fe4ZMPaTK9SzkJkT7R3lpcG3v25i3=s64",
      "userId": "02885182476554207063"
     },
     "user_tz": 0
    },
    "id": "2af51df4"
   },
   "outputs": [],
   "source": [
    "history = model.fit(\n",
    "    x = [features_input, train_indices, A_input],\n",
    "    y = y_train,\n",
    "    batch_size = 32,\n",
    "    epochs=200,\n",
    "    validation_data=([features_input, val_indices, A_input], y_val),\n",
    "    verbose=1,\n",
    "    shuffle=False,\n",
    "    callbacks=[es_callback],\n",
    ")"
   ]
  },
  {
   "cell_type": "markdown",
   "id": "9b8a5eaa",
   "metadata": {
    "id": "luR6tHx4r-xU"
   },
   "source": [
    "## Avaliando o modelo\n",
    "\n",
    "Agora que treinamos o modelo, vamos avaliar sua acuracia sobre o conjunto de teste."
   ]
  },
  {
   "cell_type": "code",
   "execution_count": null,
   "id": "363cc4c9",
   "metadata": {
    "id": "AhavN1rlr7O-"
   },
   "outputs": [],
   "source": [
    "test_preds = model.predict([features_input, test_indices, A_input])"
   ]
  },
  {
   "cell_type": "code",
   "execution_count": null,
   "id": "21389587",
   "metadata": {
    "id": "7Eh_tZJasDGh"
   },
   "outputs": [],
   "source": [
    "def evaluate_preds(true, pred):\n",
    "    auc = roc_auc_score(true, pred)\n",
    "    pr = average_precision_score(true, pred)\n",
    "    bin_pred = [1 if p > 0.5 else 0 for p in pred]\n",
    "    f_score = f1_score(true, bin_pred)\n",
    "    print('ROC AUC:', auc)\n",
    "    print('PR AUC:', pr)\n",
    "    print('F1 score:', f_score)\n",
    "    print(confusion_matrix(true, bin_pred, normalize='true'))\n",
    "    \n",
    "    return auc, pr, f_score"
   ]
  },
  {
   "cell_type": "code",
   "execution_count": 15,
   "id": "ed870e76",
   "metadata": {
    "executionInfo": {
     "elapsed": 210,
     "status": "ok",
     "timestamp": 1637949202881,
     "user": {
      "displayName": "Leandro Aparecido Passos Junior",
      "photoUrl": "https://lh3.googleusercontent.com/a-/AOh14GjWN5bnCD7fe4ZMPaTK9SzkJkT7R3lpcG3v25i3=s64",
      "userId": "02885182476554207063"
     },
     "user_tz": 0
    },
    "id": "DqYD1CdwsGNo"
   },
   "outputs": [],
   "source": [
    "auc, pr, f_score = evaluate_preds(test_targets.ravel(),test_preds[0].ravel())"
   ]
  },
  {
   "cell_type": "markdown",
   "id": "377b22aa",
   "metadata": {
    "id": "k7Qh5coTsPYA"
   },
   "source": [
    "Temos uma pontuacao ROC AUC com 0.80, mas que poderia ser melhorada para aproximadamente 0.89 se nao fosse o corte brusco no dataset, assim como as demais metricas. Vamos visualizar como ficaram as representacoes."
   ]
  },
  {
   "cell_type": "code",
   "execution_count": 16,
   "id": "24900713",
   "metadata": {
    "executionInfo": {
     "elapsed": 203,
     "status": "ok",
     "timestamp": 1637949209249,
     "user": {
      "displayName": "Leandro Aparecido Passos Junior",
      "photoUrl": "https://lh3.googleusercontent.com/a-/AOh14GjWN5bnCD7fe4ZMPaTK9SzkJkT7R3lpcG3v25i3=s64",
      "userId": "02885182476554207063"
     },
     "user_tz": 0
    },
    "id": "TP4hjCFGsJ8v"
   },
   "outputs": [],
   "source": [
    "embedding_model = Model(inputs=x_inp, outputs=model.layers[-2].output)\n",
    "all_indices = get_node_indices(G, targets.index)\n",
    "emb = embedding_model.predict([features_input, all_indices, A_input])\n",
    "emb.shape"
   ]
  },
  {
   "cell_type": "code",
   "execution_count": 17,
   "id": "e43c1f74",
   "metadata": {
    "executionInfo": {
     "elapsed": 213,
     "status": "ok",
     "timestamp": 1637949220430,
     "user": {
      "displayName": "Leandro Aparecido Passos Junior",
      "photoUrl": "https://lh3.googleusercontent.com/a-/AOh14GjWN5bnCD7fe4ZMPaTK9SzkJkT7R3lpcG3v25i3=s64",
      "userId": "02885182476554207063"
     },
     "user_tz": 0
    },
    "id": "M1wZt-HmsUv9"
   },
   "outputs": [],
   "source": [
    "u = umap.UMAP(random_state=42)\n",
    "umap_embs = u.fit_transform(emb[0])"
   ]
  },
  {
   "cell_type": "code",
   "execution_count": 18,
   "id": "b9721978",
   "metadata": {
    "executionInfo": {
     "elapsed": 229,
     "status": "ok",
     "timestamp": 1637949227968,
     "user": {
      "displayName": "Leandro Aparecido Passos Junior",
      "photoUrl": "https://lh3.googleusercontent.com/a-/AOh14GjWN5bnCD7fe4ZMPaTK9SzkJkT7R3lpcG3v25i3=s64",
      "userId": "02885182476554207063"
     },
     "user_tz": 0
    },
    "id": "piWQj5lKsX8B"
   },
   "outputs": [],
   "source": [
    "plt.figure(figsize=(20,10))\n",
    "ax = sns.scatterplot(x = umap_embs[:, 0], y = umap_embs[:, 1], hue = targets['ml_target'])"
   ]
  },
  {
   "cell_type": "markdown",
   "id": "c1b810c3",
   "metadata": {
    "id": "_QWlLgQYDK5g"
   },
   "source": [
    "No plot conseguimos identificar que o algoritmo conseguiu separar razoavelmente bem 2 classes, mas deixou um cluster de fora. Provavelmente, esse cluster extra foi criado devido as amostras e arestas que cortamos para economizar memoria."
   ]
  },
  {
   "cell_type": "markdown",
   "id": "39a8b66c",
   "metadata": {
    "id": "oXzBwwYEDLPJ"
   },
   "source": [
    "## Conclusoes\n",
    "---\n",
    "\n",
    "GCNs sao redes neurais poderosas que permitem combinar informacoes obtidas a partir das caracteristicas dos nos e da vizinhanca. Tal propriedade e alcancada multiplicando as saidas das camadas anteriores pela matriz de adjacencia normalizada, o que performa uma operacao similar a um filtro de convolucao. As caracteristicas dos filtros vizinhos sao agregadas e se tornam representacoes muito uteis a serem aprendidas e usadas para back-propagation, como de costume."
   ]
  },
  {
   "cell_type": "code",
   "execution_count": null,
   "id": "f8989ec5",
   "metadata": {
    "id": "y3iPhDENavqd"
   },
   "outputs": [],
   "source": []
  }
 ],
 "metadata": {
  "accelerator": "GPU",
  "colab": {
   "collapsed_sections": [],
   "name": "GCN.ipynb",
   "provenance": []
  },
  "kernelspec": {
   "display_name": "Python 3",
   "language": "python",
   "name": "python3"
  },
  "language_info": {
   "codemirror_mode": {
    "name": "ipython",
    "version": 3
   },
   "file_extension": ".py",
   "mimetype": "text/x-python",
   "name": "python",
   "nbconvert_exporter": "python",
   "pygments_lexer": "ipython3",
   "version": "3.9.7"
  }
 },
 "nbformat": 4,
 "nbformat_minor": 5
}
