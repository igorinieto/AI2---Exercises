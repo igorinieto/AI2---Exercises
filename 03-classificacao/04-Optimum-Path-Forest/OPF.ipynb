{
 "cells": [
  {
   "cell_type": "markdown",
   "metadata": {},
   "source": [
    "# Floresta de Caminhos Ótimos (Optimum-Path Forest)\n",
    "\n"
   ]
  },
  {
   "cell_type": "markdown",
   "metadata": {},
   "source": [
    "# Exercícios:\n",
    "\n",
    "#### Baixe o dataset Breast Tissue do repositório UCI.\n",
    "\n",
    "#### 1. Separar em treinamento e teste e classificar as amostras de teste utilizando o OPF supervisionado. \n"
   ]
  },
  {
   "cell_type": "markdown",
   "metadata": {},
   "source": [
    "##### Abrindo dataset"
   ]
  },
  {
   "cell_type": "code",
   "execution_count": 211,
   "metadata": {},
   "outputs": [],
   "source": [
    "# Para não ficar mostrando um monte de logs\n",
    "import logging\n",
    "logging.disable()"
   ]
  },
  {
   "cell_type": "code",
   "execution_count": 212,
   "metadata": {},
   "outputs": [],
   "source": [
    "import pandas as pd\n",
    "df = pd.read_excel(\"BreastTissue.xls\",sheet_name='Data',index_col='Case #')"
   ]
  },
  {
   "cell_type": "code",
   "execution_count": 213,
   "metadata": {},
   "outputs": [
    {
     "data": {
      "text/html": [
       "<div>\n",
       "<style scoped>\n",
       "    .dataframe tbody tr th:only-of-type {\n",
       "        vertical-align: middle;\n",
       "    }\n",
       "\n",
       "    .dataframe tbody tr th {\n",
       "        vertical-align: top;\n",
       "    }\n",
       "\n",
       "    .dataframe thead th {\n",
       "        text-align: right;\n",
       "    }\n",
       "</style>\n",
       "<table border=\"1\" class=\"dataframe\">\n",
       "  <thead>\n",
       "    <tr style=\"text-align: right;\">\n",
       "      <th></th>\n",
       "      <th>Class</th>\n",
       "      <th>I0</th>\n",
       "      <th>PA500</th>\n",
       "      <th>HFS</th>\n",
       "      <th>DA</th>\n",
       "      <th>Area</th>\n",
       "      <th>A/DA</th>\n",
       "      <th>Max IP</th>\n",
       "      <th>DR</th>\n",
       "      <th>P</th>\n",
       "    </tr>\n",
       "    <tr>\n",
       "      <th>Case #</th>\n",
       "      <th></th>\n",
       "      <th></th>\n",
       "      <th></th>\n",
       "      <th></th>\n",
       "      <th></th>\n",
       "      <th></th>\n",
       "      <th></th>\n",
       "      <th></th>\n",
       "      <th></th>\n",
       "      <th></th>\n",
       "    </tr>\n",
       "  </thead>\n",
       "  <tbody>\n",
       "    <tr>\n",
       "      <th>1</th>\n",
       "      <td>car</td>\n",
       "      <td>524.794072</td>\n",
       "      <td>0.187448</td>\n",
       "      <td>0.032114</td>\n",
       "      <td>228.800228</td>\n",
       "      <td>6843.598481</td>\n",
       "      <td>29.910803</td>\n",
       "      <td>60.204880</td>\n",
       "      <td>220.737212</td>\n",
       "      <td>556.828334</td>\n",
       "    </tr>\n",
       "    <tr>\n",
       "      <th>2</th>\n",
       "      <td>car</td>\n",
       "      <td>330.000000</td>\n",
       "      <td>0.226893</td>\n",
       "      <td>0.265290</td>\n",
       "      <td>121.154201</td>\n",
       "      <td>3163.239472</td>\n",
       "      <td>26.109202</td>\n",
       "      <td>69.717361</td>\n",
       "      <td>99.084964</td>\n",
       "      <td>400.225776</td>\n",
       "    </tr>\n",
       "    <tr>\n",
       "      <th>3</th>\n",
       "      <td>car</td>\n",
       "      <td>551.879287</td>\n",
       "      <td>0.232478</td>\n",
       "      <td>0.063530</td>\n",
       "      <td>264.804935</td>\n",
       "      <td>11888.391827</td>\n",
       "      <td>44.894903</td>\n",
       "      <td>77.793297</td>\n",
       "      <td>253.785300</td>\n",
       "      <td>656.769449</td>\n",
       "    </tr>\n",
       "    <tr>\n",
       "      <th>4</th>\n",
       "      <td>car</td>\n",
       "      <td>380.000000</td>\n",
       "      <td>0.240855</td>\n",
       "      <td>0.286234</td>\n",
       "      <td>137.640111</td>\n",
       "      <td>5402.171180</td>\n",
       "      <td>39.248524</td>\n",
       "      <td>88.758446</td>\n",
       "      <td>105.198568</td>\n",
       "      <td>493.701814</td>\n",
       "    </tr>\n",
       "    <tr>\n",
       "      <th>5</th>\n",
       "      <td>car</td>\n",
       "      <td>362.831266</td>\n",
       "      <td>0.200713</td>\n",
       "      <td>0.244346</td>\n",
       "      <td>124.912559</td>\n",
       "      <td>3290.462446</td>\n",
       "      <td>26.342127</td>\n",
       "      <td>69.389389</td>\n",
       "      <td>103.866552</td>\n",
       "      <td>424.796503</td>\n",
       "    </tr>\n",
       "    <tr>\n",
       "      <th>...</th>\n",
       "      <td>...</td>\n",
       "      <td>...</td>\n",
       "      <td>...</td>\n",
       "      <td>...</td>\n",
       "      <td>...</td>\n",
       "      <td>...</td>\n",
       "      <td>...</td>\n",
       "      <td>...</td>\n",
       "      <td>...</td>\n",
       "      <td>...</td>\n",
       "    </tr>\n",
       "    <tr>\n",
       "      <th>102</th>\n",
       "      <td>adi</td>\n",
       "      <td>2000.000000</td>\n",
       "      <td>0.106989</td>\n",
       "      <td>0.105418</td>\n",
       "      <td>520.222649</td>\n",
       "      <td>40087.920984</td>\n",
       "      <td>77.059161</td>\n",
       "      <td>204.090347</td>\n",
       "      <td>478.517223</td>\n",
       "      <td>2088.648870</td>\n",
       "    </tr>\n",
       "    <tr>\n",
       "      <th>103</th>\n",
       "      <td>adi</td>\n",
       "      <td>2600.000000</td>\n",
       "      <td>0.200538</td>\n",
       "      <td>0.208043</td>\n",
       "      <td>1063.441427</td>\n",
       "      <td>174480.476218</td>\n",
       "      <td>164.071543</td>\n",
       "      <td>418.687286</td>\n",
       "      <td>977.552367</td>\n",
       "      <td>2664.583623</td>\n",
       "    </tr>\n",
       "    <tr>\n",
       "      <th>104</th>\n",
       "      <td>adi</td>\n",
       "      <td>1600.000000</td>\n",
       "      <td>0.071908</td>\n",
       "      <td>-0.066323</td>\n",
       "      <td>436.943603</td>\n",
       "      <td>12655.342135</td>\n",
       "      <td>28.963331</td>\n",
       "      <td>103.732704</td>\n",
       "      <td>432.129749</td>\n",
       "      <td>1475.371534</td>\n",
       "    </tr>\n",
       "    <tr>\n",
       "      <th>105</th>\n",
       "      <td>adi</td>\n",
       "      <td>2300.000000</td>\n",
       "      <td>0.045029</td>\n",
       "      <td>0.136834</td>\n",
       "      <td>185.446044</td>\n",
       "      <td>5086.292497</td>\n",
       "      <td>27.427344</td>\n",
       "      <td>178.691742</td>\n",
       "      <td>49.593290</td>\n",
       "      <td>2480.592151</td>\n",
       "    </tr>\n",
       "    <tr>\n",
       "      <th>106</th>\n",
       "      <td>adi</td>\n",
       "      <td>2600.000000</td>\n",
       "      <td>0.069988</td>\n",
       "      <td>0.048869</td>\n",
       "      <td>745.474369</td>\n",
       "      <td>39845.773698</td>\n",
       "      <td>53.450226</td>\n",
       "      <td>154.122604</td>\n",
       "      <td>729.368395</td>\n",
       "      <td>2545.419744</td>\n",
       "    </tr>\n",
       "  </tbody>\n",
       "</table>\n",
       "<p>106 rows × 10 columns</p>\n",
       "</div>"
      ],
      "text/plain": [
       "       Class           I0     PA500       HFS           DA           Area  \\\n",
       "Case #                                                                      \n",
       "1        car   524.794072  0.187448  0.032114   228.800228    6843.598481   \n",
       "2        car   330.000000  0.226893  0.265290   121.154201    3163.239472   \n",
       "3        car   551.879287  0.232478  0.063530   264.804935   11888.391827   \n",
       "4        car   380.000000  0.240855  0.286234   137.640111    5402.171180   \n",
       "5        car   362.831266  0.200713  0.244346   124.912559    3290.462446   \n",
       "...      ...          ...       ...       ...          ...            ...   \n",
       "102      adi  2000.000000  0.106989  0.105418   520.222649   40087.920984   \n",
       "103      adi  2600.000000  0.200538  0.208043  1063.441427  174480.476218   \n",
       "104      adi  1600.000000  0.071908 -0.066323   436.943603   12655.342135   \n",
       "105      adi  2300.000000  0.045029  0.136834   185.446044    5086.292497   \n",
       "106      adi  2600.000000  0.069988  0.048869   745.474369   39845.773698   \n",
       "\n",
       "              A/DA      Max IP          DR            P  \n",
       "Case #                                                   \n",
       "1        29.910803   60.204880  220.737212   556.828334  \n",
       "2        26.109202   69.717361   99.084964   400.225776  \n",
       "3        44.894903   77.793297  253.785300   656.769449  \n",
       "4        39.248524   88.758446  105.198568   493.701814  \n",
       "5        26.342127   69.389389  103.866552   424.796503  \n",
       "...            ...         ...         ...          ...  \n",
       "102      77.059161  204.090347  478.517223  2088.648870  \n",
       "103     164.071543  418.687286  977.552367  2664.583623  \n",
       "104      28.963331  103.732704  432.129749  1475.371534  \n",
       "105      27.427344  178.691742   49.593290  2480.592151  \n",
       "106      53.450226  154.122604  729.368395  2545.419744  \n",
       "\n",
       "[106 rows x 10 columns]"
      ]
     },
     "execution_count": 213,
     "metadata": {},
     "output_type": "execute_result"
    }
   ],
   "source": [
    "df"
   ]
  },
  {
   "cell_type": "markdown",
   "metadata": {},
   "source": [
    "##### Separando características e labels"
   ]
  },
  {
   "cell_type": "code",
   "execution_count": 214,
   "metadata": {},
   "outputs": [],
   "source": [
    "X = df.drop(columns=[\"Class\"])\n",
    "X = X.values"
   ]
  },
  {
   "cell_type": "code",
   "execution_count": 215,
   "metadata": {},
   "outputs": [],
   "source": [
    "y = df['Class']\n",
    "y = y.values"
   ]
  },
  {
   "cell_type": "markdown",
   "metadata": {},
   "source": [
    "##### Normalizando os dados"
   ]
  },
  {
   "cell_type": "code",
   "execution_count": 216,
   "metadata": {},
   "outputs": [],
   "source": [
    "from sklearn.preprocessing import StandardScaler\n",
    "# Instancia o StandardScaler\n",
    "normalizacao_std = StandardScaler()\n",
    "# Analisa os dados e prepara o padronizador\n",
    "dado_std = normalizacao_std.fit(X)\n",
    "# Transforma os dados\n",
    "X_std = normalizacao_std.transform(X)\n"
   ]
  },
  {
   "cell_type": "markdown",
   "metadata": {},
   "source": [
    "##### Dividindo os dados em treinamento e teste"
   ]
  },
  {
   "cell_type": "code",
   "execution_count": 217,
   "metadata": {},
   "outputs": [],
   "source": [
    "from sklearn.model_selection import train_test_split\n",
    "X_train, X_test, Y_train, Y_test = train_test_split(X_std, y, test_size=0.33,\n",
    "                                                random_state=42)"
   ]
  },
  {
   "cell_type": "code",
   "execution_count": 218,
   "metadata": {},
   "outputs": [
    {
     "name": "stdout",
     "output_type": "stream",
     "text": [
      "(71, 9)\n",
      "(71,)\n"
     ]
    }
   ],
   "source": [
    "print(X_train.shape)\n",
    "print(Y_train.shape)"
   ]
  },
  {
   "cell_type": "code",
   "execution_count": 219,
   "metadata": {},
   "outputs": [
    {
     "name": "stdout",
     "output_type": "stream",
     "text": [
      "(35, 9)\n",
      "(35,)\n"
     ]
    }
   ],
   "source": [
    "print(X_test.shape)\n",
    "print(Y_test.shape)"
   ]
  },
  {
   "cell_type": "markdown",
   "metadata": {},
   "source": [
    "##### Utilizando LabelEnconder para codificar as labels com valores entre 0 e n_classes-1."
   ]
  },
  {
   "cell_type": "code",
   "execution_count": 220,
   "metadata": {},
   "outputs": [],
   "source": [
    "from sklearn.preprocessing import LabelEncoder\n",
    "label_encoder = LabelEncoder()\n",
    "Y_test = label_encoder.fit_transform(Y_test)\n",
    "Y_train = label_encoder.fit_transform(Y_train)"
   ]
  },
  {
   "cell_type": "markdown",
   "metadata": {},
   "source": [
    "##### Treinamento e predição do modelo"
   ]
  },
  {
   "cell_type": "code",
   "execution_count": 221,
   "metadata": {},
   "outputs": [],
   "source": [
    "%matplotlib inline\n",
    "import numpy as np\n",
    "\n",
    "# Importando o OPF supervisionado para classificação\n",
    "from opfython.models.supervised import SupervisedOPF"
   ]
  },
  {
   "cell_type": "code",
   "execution_count": 222,
   "metadata": {},
   "outputs": [],
   "source": [
    "# Cria uma instancia do OPF supervisionado\n",
    "opf = SupervisedOPF()\n",
    "\n",
    "# Ajusta o classificador considerando o conjunto de treinamento\n",
    "opf.fit(X_train, Y_train)\n",
    "\n",
    "# Predição no conjunto de testes\n",
    "preds = opf.predict(X_test)"
   ]
  },
  {
   "cell_type": "markdown",
   "metadata": {},
   "source": [
    "##### Resultados"
   ]
  },
  {
   "cell_type": "code",
   "execution_count": 223,
   "metadata": {},
   "outputs": [
    {
     "name": "stdout",
     "output_type": "stream",
     "text": [
      "              precision    recall  f1-score   support\n",
      "\n",
      "           0       1.00      1.00      1.00         5\n",
      "           1       1.00      1.00      1.00         8\n",
      "           2       1.00      0.83      0.91         6\n",
      "           3       0.57      0.80      0.67         5\n",
      "           4       0.67      0.80      0.73         5\n",
      "           5       0.50      0.33      0.40         6\n",
      "\n",
      "    accuracy                           0.80        35\n",
      "   macro avg       0.79      0.79      0.78        35\n",
      "weighted avg       0.81      0.80      0.79        35\n",
      "\n"
     ]
    }
   ],
   "source": [
    "from sklearn.metrics import classification_report\n",
    "print(classification_report(Y_test, preds))"
   ]
  },
  {
   "cell_type": "code",
   "execution_count": 224,
   "metadata": {},
   "outputs": [],
   "source": [
    "from sklearn.metrics import confusion_matrix\n",
    "cm = confusion_matrix(Y_test, preds)"
   ]
  },
  {
   "cell_type": "code",
   "execution_count": 225,
   "metadata": {},
   "outputs": [
    {
     "data": {
      "image/png": "[encoded data removed]",
      "text/plain": [
       "<Figure size 432x288 with 2 Axes>"
      ]
     },
     "metadata": {},
     "output_type": "display_data"
    }
   ],
   "source": [
    "# usando as configurações padrões do seaborn para plotagem\n",
    "import seaborn as sns; sns.set()\n",
    "import matplotlib.pyplot as plt\n",
    "\n",
    "sns.set(font_scale=1.4)\n",
    "sns.heatmap(cm, annot=True,annot_kws={\"size\": 16}, cmap=plt.cm.Blues,\n",
    "            xticklabels=label_encoder.inverse_transform(np.unique(Y_test)),\n",
    "            yticklabels=label_encoder.inverse_transform(np.unique(preds)),)\n",
    "plt.xlabel('Classes Reais')\n",
    "plt.ylabel('Classes Preditas');"
   ]
  },
  {
   "cell_type": "markdown",
   "metadata": {},
   "source": [
    "#### 2. Agrupar os dados utilizando o OPF-não supervisionado e propagar o rótulo considerando um conjunto de treinamento. Classificar as amostras de teste considerando os rótulos propagados."
   ]
  },
  {
   "cell_type": "code",
   "execution_count": 262,
   "metadata": {},
   "outputs": [
    {
     "data": {
      "image/png": "[encoded data removed]",
      "text/plain": [
       "<Figure size 432x288 with 1 Axes>"
      ]
     },
     "metadata": {},
     "output_type": "display_data"
    }
   ],
   "source": [
    "plt.scatter(X[:, 0], X[:, 1], s=50);"
   ]
  },
  {
   "cell_type": "code",
   "execution_count": 237,
   "metadata": {},
   "outputs": [],
   "source": [
    "import opfython.math.general as g\n",
    "import opfython.stream.parser as p\n",
    "from opfython.models import UnsupervisedOPF"
   ]
  },
  {
   "cell_type": "code",
   "execution_count": 238,
   "metadata": {},
   "outputs": [],
   "source": [
    "# Cria uma instância do opf não supervisionado\n",
    "opf = UnsupervisedOPF(\n",
    "    min_k=1, max_k=20)"
   ]
  },
  {
   "cell_type": "code",
   "execution_count": 249,
   "metadata": {},
   "outputs": [],
   "source": [
    "#from sklearn.preprocessing import LabelEncoder\n",
    "#label_encoder = LabelEncoder()\n",
    "#y = label_encoder.fit_transform(y)\n",
    "#y = label_encoder.fit_transform(y)"
   ]
  },
  {
   "cell_type": "code",
   "execution_count": 263,
   "metadata": {},
   "outputs": [],
   "source": [
    "# Ajusta o modelo aos dados\n",
    "opf.fit(X_train, Y_train)"
   ]
  },
  {
   "cell_type": "code",
   "execution_count": 264,
   "metadata": {},
   "outputs": [],
   "source": [
    "# Se os dados estiverem rotulados, propaga o rótulo real de cada protótipo para todas as amostras por ele\n",
    "#   conquistadas\n",
    "opf.propagate_labels()"
   ]
  },
  {
   "cell_type": "code",
   "execution_count": 265,
   "metadata": {},
   "outputs": [
    {
     "name": "stdout",
     "output_type": "stream",
     "text": [
      "Número de agrupamentos =  2\n"
     ]
    }
   ],
   "source": [
    "# faz a estimativa dos rótulos baseado no agrupamento\n",
    "preds, clusters = opf.predict(X_test)\n",
    "\n",
    "\n",
    "print('Número de agrupamentos = ',len(np.unique(clusters)))"
   ]
  },
  {
   "cell_type": "code",
   "execution_count": 267,
   "metadata": {},
   "outputs": [
    {
     "data": {
      "text/plain": [
       "<matplotlib.collections.PathCollection at 0x7f0842659820>"
      ]
     },
     "execution_count": 267,
     "metadata": {},
     "output_type": "execute_result"
    },
    {
     "data": {
      "image/png": "[encoded data removed]",
      "text/plain": [
       "<Figure size 432x288 with 1 Axes>"
      ]
     },
     "metadata": {},
     "output_type": "display_data"
    }
   ],
   "source": [
    "plt.scatter(X_test[:, 0], X_test[:, 1], c=clusters, s=50, cmap='rainbow')"
   ]
  },
  {
   "cell_type": "code",
   "execution_count": 268,
   "metadata": {},
   "outputs": [
    {
     "name": "stdout",
     "output_type": "stream",
     "text": [
      "              precision    recall  f1-score   support\n",
      "\n",
      "           0       0.56      1.00      0.71         5\n",
      "           1       0.00      0.00      0.00         8\n",
      "           2       0.00      0.00      0.00         6\n",
      "           3       0.00      0.00      0.00         5\n",
      "           4       0.19      1.00      0.32         5\n",
      "           5       0.00      0.00      0.00         6\n",
      "\n",
      "    accuracy                           0.29        35\n",
      "   macro avg       0.12      0.33      0.17        35\n",
      "weighted avg       0.11      0.29      0.15        35\n",
      "\n"
     ]
    },
    {
     "name": "stderr",
     "output_type": "stream",
     "text": [
      "/home/igornieto/anaconda3/envs/ML/lib/python3.9/site-packages/sklearn/metrics/_classification.py:1308: UndefinedMetricWarning: Precision and F-score are ill-defined and being set to 0.0 in labels with no predicted samples. Use `zero_division` parameter to control this behavior.\n",
      "  _warn_prf(average, modifier, msg_start, len(result))\n",
      "/home/igornieto/anaconda3/envs/ML/lib/python3.9/site-packages/sklearn/metrics/_classification.py:1308: UndefinedMetricWarning: Precision and F-score are ill-defined and being set to 0.0 in labels with no predicted samples. Use `zero_division` parameter to control this behavior.\n",
      "  _warn_prf(average, modifier, msg_start, len(result))\n",
      "/home/igornieto/anaconda3/envs/ML/lib/python3.9/site-packages/sklearn/metrics/_classification.py:1308: UndefinedMetricWarning: Precision and F-score are ill-defined and being set to 0.0 in labels with no predicted samples. Use `zero_division` parameter to control this behavior.\n",
      "  _warn_prf(average, modifier, msg_start, len(result))\n"
     ]
    }
   ],
   "source": [
    "print(classification_report(Y_test, preds))"
   ]
  },
  {
   "cell_type": "code",
   "execution_count": null,
   "metadata": {},
   "outputs": [],
   "source": []
  }
 ],
 "metadata": {
  "kernelspec": {
   "display_name": "Python 3 (ipykernel)",
   "language": "python",
   "name": "python3"
  },
  "language_info": {
   "codemirror_mode": {
    "name": "ipython",
    "version": 3
   },
   "file_extension": ".py",
   "mimetype": "text/x-python",
   "name": "python",
   "nbconvert_exporter": "python",
   "pygments_lexer": "ipython3",
   "version": "3.9.7"
  }
 },
 "nbformat": 4,
 "nbformat_minor": 4
}
