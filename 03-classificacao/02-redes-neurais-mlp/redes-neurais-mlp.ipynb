{
 "cells": [
  {
   "cell_type": "markdown",
   "id": "88dc52d5-f36e-4c64-999e-d0008b29c7cb",
   "metadata": {
    "tags": []
   },
   "source": [
    "## Exercício \n",
    "\n",
    "Desenvolva uma rede neural MLP para classificar o dataset Kuzushiji-MNIST. O objetivo é conseguir a melhor acurácia no conjunto de teste.\n",
    "\n",
    "Sugestões:\n",
    "\n",
    "- Testar diferentes configurações, como número de camadas escondidas e neurônios por camadas;\n",
    "- Testar como funciona com ou sem dropout;\n",
    "- Testar diferentes otimizadores (não apenas SGD) e diferentes valores de taxa de aprendizado;\n",
    "- Testar possiveis transformações no dataset;\n",
    "- Testar diferente números de épocas.\n"
   ]
  },
  {
   "cell_type": "markdown",
   "id": "30777dce-ab64-4a86-ad64-cd766fd4ed2c",
   "metadata": {},
   "source": [
    "### Importando as bibliotecas"
   ]
  },
  {
   "cell_type": "code",
   "execution_count": 1,
   "id": "c2d3b34b-a855-4b79-ba27-d73586953d4e",
   "metadata": {
    "tags": []
   },
   "outputs": [],
   "source": [
    "import torch\n",
    "import helper\n",
    "from torch import nn, optim\n",
    "import torch.nn.functional as F\n",
    "from torchvision import datasets, transforms\n",
    "from sklearn.metrics import classification_report, confusion_matrix\n",
    "from torch.autograd import Variable\n",
    "import matplotlib.pyplot as plt"
   ]
  },
  {
   "cell_type": "markdown",
   "id": "131e1973-bf94-4a19-aa1e-85ad79412b89",
   "metadata": {},
   "source": [
    "### Baixando o dataset e definindo a normalização"
   ]
  },
  {
   "cell_type": "code",
   "execution_count": 2,
   "id": "4fd24883-1d18-45df-a21b-a261b2b99e2d",
   "metadata": {},
   "outputs": [
    {
     "name": "stdout",
     "output_type": "stream",
     "text": [
      "Downloading http://yann.lecun.com/exdb/mnist/train-images-idx3-ubyte.gz\n",
      "Using downloaded and verified file: /home/igornieto/.pytorch/MNIST_data/MNIST/raw/train-images-idx3-ubyte.gz\n",
      "Extracting /home/igornieto/.pytorch/MNIST_data/MNIST/raw/train-images-idx3-ubyte.gz to /home/igornieto/.pytorch/MNIST_data/MNIST/raw\n"
     ]
    },
    {
     "name": "stderr",
     "output_type": "stream",
     "text": [
      "102.8%"
     ]
    },
    {
     "name": "stdout",
     "output_type": "stream",
     "text": [
      "\n",
      "Downloading http://yann.lecun.com/exdb/mnist/train-labels-idx1-ubyte.gz\n",
      "Downloading http://yann.lecun.com/exdb/mnist/train-labels-idx1-ubyte.gz to /home/igornieto/.pytorch/MNIST_data/MNIST/raw/train-labels-idx1-ubyte.gz\n",
      "Extracting /home/igornieto/.pytorch/MNIST_data/MNIST/raw/train-labels-idx1-ubyte.gz to /home/igornieto/.pytorch/MNIST_data/MNIST/raw\n",
      "\n",
      "Downloading http://yann.lecun.com/exdb/mnist/t10k-images-idx3-ubyte.gz\n",
      "Downloading http://yann.lecun.com/exdb/mnist/t10k-images-idx3-ubyte.gz to /home/igornieto/.pytorch/MNIST_data/MNIST/raw/t10k-images-idx3-ubyte.gz\n"
     ]
    },
    {
     "name": "stderr",
     "output_type": "stream",
     "text": [
      "\n",
      "100.0%\n"
     ]
    },
    {
     "name": "stdout",
     "output_type": "stream",
     "text": [
      "Extracting /home/igornieto/.pytorch/MNIST_data/MNIST/raw/t10k-images-idx3-ubyte.gz to /home/igornieto/.pytorch/MNIST_data/MNIST/raw\n",
      "\n",
      "Downloading http://yann.lecun.com/exdb/mnist/t10k-labels-idx1-ubyte.gz\n",
      "Downloading http://yann.lecun.com/exdb/mnist/t10k-labels-idx1-ubyte.gz to /home/igornieto/.pytorch/MNIST_data/MNIST/raw/t10k-labels-idx1-ubyte.gz\n"
     ]
    },
    {
     "name": "stderr",
     "output_type": "stream",
     "text": [
      "112.7%"
     ]
    },
    {
     "name": "stdout",
     "output_type": "stream",
     "text": [
      "Extracting /home/igornieto/.pytorch/MNIST_data/MNIST/raw/t10k-labels-idx1-ubyte.gz to /home/igornieto/.pytorch/MNIST_data/MNIST/raw\n",
      "\n"
     ]
    },
    {
     "name": "stderr",
     "output_type": "stream",
     "text": [
      "\n"
     ]
    }
   ],
   "source": [
    "# Define as transformações para normalizar os dados\n",
    "transform = transforms.Compose([transforms.ToTensor(),\n",
    "                                transforms.Normalize((0.5,), (0.5,))])\n",
    "# Baixa e carrega o conjunto de treinamento\n",
    "trainset = datasets.MNIST('~/.pytorch/MNIST_data/', download=True, train=True, transform=transform)\n",
    "trainloader = torch.utils.data.DataLoader(trainset, batch_size=64, shuffle=True)\n",
    "\n",
    "# baixa e carrega o conjunto de testes\n",
    "testset = datasets.MNIST('~/.pytorch/MNIST_data/', download=True, train=False, transform=transform)\n",
    "testloader = torch.utils.data.DataLoader(testset, batch_size=64, shuffle=True)"
   ]
  },
  {
   "cell_type": "markdown",
   "id": "b130a5a8-a6f4-46ba-8b07-b81b3e933595",
   "metadata": {},
   "source": [
    "### Visualizando uma imagem do dataset"
   ]
  },
  {
   "cell_type": "code",
   "execution_count": 3,
   "id": "4d9ad464-86c9-4d6e-876a-a85adb6eaeba",
   "metadata": {},
   "outputs": [
    {
     "data": {
      "image/png": "[encoded data removed]",
      "text/plain": [
       "<Figure size 432x288 with 1 Axes>"
      ]
     },
     "metadata": {
      "needs_background": "light"
     },
     "output_type": "display_data"
    }
   ],
   "source": [
    "image, label = next(iter(trainloader))\n",
    "helper.imshow(image[0,:]);\n",
    "helper.plt.show()"
   ]
  },
  {
   "cell_type": "markdown",
   "id": "d94f140e-fb47-47f3-b385-13c09b2dcf78",
   "metadata": {},
   "source": [
    "### Criando a classe da estrutura da rede SEM regularização"
   ]
  },
  {
   "cell_type": "code",
   "execution_count": 4,
   "id": "01b5dd72-cea2-49f8-b0fe-8f87d1189a09",
   "metadata": {},
   "outputs": [],
   "source": [
    "class Classifier(nn.Module):\n",
    "    def __init__(self, input_size, output_size, hidden_layers):\n",
    "        '''\n",
    "        Classe responsável por criar a estrutura da rede sendo:\n",
    "        input_size: tamanho da entrada dos dados\n",
    "        output_size: tamanho da saida, ou seja,  o número de classes\n",
    "        hidden_layers: camadas escondidas\n",
    "        '''\n",
    "        super().__init__()\n",
    "        # Entrada para a primeira camada oculta\n",
    "        self.hidden_layers = nn.ModuleList([nn.Linear(input_size, hidden_layers[0])])\n",
    "        \n",
    "        # Adicionando as outras camadas ocultas\n",
    "        layer_sizes = zip(hidden_layers[:-1], hidden_layers[1:])\n",
    "        self.hidden_layers.extend([nn.Linear(h1, h2) for h1, h2 in layer_sizes])\n",
    "        self.output = nn.Linear(hidden_layers[-1], output_size)\n",
    "        \n",
    "    def forward(self, x):\n",
    "        '''\n",
    "        Passando as camadas na função de ativação ReLU\n",
    "        e a última na função de ativação log_softmax, sem regularização.\n",
    "        '''\n",
    "        x = x.view(x.shape[0],-1) # Achatando a imagem em uma única dimensão\n",
    "        for each in self.hidden_layers:\n",
    "            x = F.relu(each(x))\n",
    "            \n",
    "        x = self.output(x)\n",
    "        \n",
    "        return F.log_softmax(x, dim=1)"
   ]
  },
  {
   "cell_type": "markdown",
   "id": "196cde74-4bed-4af7-b977-dabdbfaa4ed7",
   "metadata": {},
   "source": [
    "### Criando a classe da estrutura da rede COM regularização"
   ]
  },
  {
   "cell_type": "code",
   "execution_count": 5,
   "id": "d1cb555d-ee03-4df7-a162-8fde4b6b04c3",
   "metadata": {},
   "outputs": [],
   "source": [
    "class Classifier_reg(nn.Module):\n",
    "    def __init__(self, input_size, output_size, hidden_layers, drop_p=0.5):\n",
    "        '''Classe responsável por criar a estrutura da rede sendo:\n",
    "        input_size: tamanho da entrada dos dados\n",
    "        output_size: tamanho da saida, ou seja, o número de classes\n",
    "        hidden_layers: camadas escondidas\n",
    "        drop_p: porcentagem de neuronios dropados/retirados em cada camada\n",
    "           \n",
    "        '''\n",
    "        super().__init__()\n",
    "        # Entrada para a primeira camada oculta\n",
    "        self.hidden_layers = nn.ModuleList([nn.Linear(input_size, hidden_layers[0])])\n",
    "        \n",
    "         # Adicionando as outras camadas ocultas\n",
    "        layer_sizes = zip(hidden_layers[:-1], hidden_layers[1:])\n",
    "        self.hidden_layers.extend([nn.Linear(h1, h2) for h1, h2 in layer_sizes])\n",
    "        \n",
    "        self.output = nn.Linear(hidden_layers[-1], output_size)\n",
    "        \n",
    "        self.dropout = nn.Dropout(p=drop_p)\n",
    "        \n",
    "    def forward(self, x):\n",
    "        '''\n",
    "        Passando as camadas na função de ativação ReLU\n",
    "        e a última na função de ativação log_softmax, mas com regularização.\n",
    "        '''\n",
    "        x = x.view(x.shape[0],-1)\n",
    "        for each in self.hidden_layers:\n",
    "            x = F.relu(each(x))\n",
    "            x = self.dropout(x)\n",
    "        x = self.output(x)\n",
    "        \n",
    "        return F.log_softmax(x, dim=1)"
   ]
  },
  {
   "cell_type": "markdown",
   "id": "434089a5-c43b-483b-a7f1-210f4d7f4b57",
   "metadata": {},
   "source": [
    "### Função para treinamento da rede"
   ]
  },
  {
   "cell_type": "code",
   "execution_count": 6,
   "id": "924a87f7-6e95-4ce7-8fc7-f3eacc3da262",
   "metadata": {},
   "outputs": [],
   "source": [
    "def treinamento(model, criterion, optimizer, epochs):\n",
    "    '''\n",
    "    Função responsável por executar todo o treinamento da rede com\n",
    "    validação\n",
    "    \n",
    "    '''\n",
    "    \n",
    "    train_losses, test_losses = [], []\n",
    "    for e in range(epochs):\n",
    "        running_loss = 0\n",
    "        for image, label in trainloader: # treinamento\n",
    "            optimizer.zero_grad() # Zera o gradiente\n",
    "            log_ps = model(image)\n",
    "            loss = criterion(log_ps, label) # calcula o custo\n",
    "            loss.backward() # propaga o erro para tras\n",
    "            optimizer.step() # atualiza os pesos\n",
    "\n",
    "            running_loss+=loss.item() # soma os custos\n",
    "        else: # começando a parte de validação\n",
    "            test_loss = 0\n",
    "            accuracy = 0\n",
    "            with torch.no_grad(): # Desligando o gradiente\n",
    "                model.eval() #Iniciando o modelo no modo teste\n",
    "                for image, label in testloader:         \n",
    "\n",
    "                    log_ps = model.forward(image) # fazendo o passo forward\n",
    "                    prob = torch.exp(log_ps) # Pegando a saida da softmax e fazendo a exponencial(gera um tensor com 10 posições sendo que cada posição\n",
    "                                             # é uma classe e em cada posição tem a probabilidade da amostra ser dessa classe )\n",
    "\n",
    "                    test_loss+= criterion(log_ps, label) # Soma o resultado da função de custo\n",
    "\n",
    "\n",
    "                    k_prob, k_class = prob.topk(1, dim=1) #pegando, na saida da rede, a classe com maior probabilidade\n",
    "                    equals = k_class == label.view(*k_class.shape) # verificando se a classe predita é igual a verdadeira( gera um tensor com \n",
    "                                                                   # vários 'True' e 'false')\n",
    "\n",
    "                    accuracy+= torch.mean(equals.type(torch.FloatTensor)) # transforma os valores booleanos em float e calcula a média\n",
    "\n",
    "            model.train() # Volta o modelo para o modo de treino\n",
    "        train_losses.append(running_loss/len(trainloader))\n",
    "        test_losses.append(test_loss/len(testloader))\n",
    "        print(\"Epoch: {}/{}.. \".format(e+1, epochs),\n",
    "              \"Training Loss: {:.3f}.. \".format(train_losses[-1]),\n",
    "              \"Test Loss: {:.3f}.. \".format(test_losses[-1]),\n",
    "              \"Test Accuracy: {:.3f}\".format(accuracy/len(testloader)))"
   ]
  },
  {
   "cell_type": "markdown",
   "id": "74a7c267-336b-4c18-92ef-0065057e84c0",
   "metadata": {},
   "source": [
    "### Treinando a rede"
   ]
  },
  {
   "cell_type": "code",
   "execution_count": 7,
   "id": "1e45868c-5628-407a-94d4-316ed9c3109e",
   "metadata": {},
   "outputs": [
    {
     "name": "stdout",
     "output_type": "stream",
     "text": [
      "Epoch: 1/10..  Training Loss: 0.336..  Test Loss: 0.196..  Test Accuracy: 0.942\n",
      "Epoch: 2/10..  Training Loss: 0.172..  Test Loss: 0.137..  Test Accuracy: 0.959\n",
      "Epoch: 3/10..  Training Loss: 0.139..  Test Loss: 0.166..  Test Accuracy: 0.954\n",
      "Epoch: 4/10..  Training Loss: 0.119..  Test Loss: 0.158..  Test Accuracy: 0.957\n",
      "Epoch: 5/10..  Training Loss: 0.106..  Test Loss: 0.126..  Test Accuracy: 0.962\n",
      "Epoch: 6/10..  Training Loss: 0.100..  Test Loss: 0.116..  Test Accuracy: 0.966\n",
      "Epoch: 7/10..  Training Loss: 0.093..  Test Loss: 0.103..  Test Accuracy: 0.971\n",
      "Epoch: 8/10..  Training Loss: 0.088..  Test Loss: 0.109..  Test Accuracy: 0.969\n",
      "Epoch: 9/10..  Training Loss: 0.081..  Test Loss: 0.113..  Test Accuracy: 0.968\n",
      "Epoch: 10/10..  Training Loss: 0.082..  Test Loss: 0.099..  Test Accuracy: 0.971\n"
     ]
    }
   ],
   "source": [
    "model = Classifier(784, 10, [512, 256, 128]) #Modelo sem regularização\n",
    "\n",
    "criterion = nn.NLLLoss()\n",
    "\n",
    "optimizer_Adam = optim.Adam(model.parameters(), lr=0.003)\n",
    "optimizer_ASGD = optim.ASGD(model.parameters(), lr=0.003)\n",
    "optimizer_Adamax = optim.Adamax(model.parameters(), lr=0.003)\n",
    "\n",
    "teste = treinamento(model, criterion, optimizer_Adam, epochs = 10)"
   ]
  },
  {
   "cell_type": "markdown",
   "id": "3f629a48-0027-482b-8517-18b3a187f2e1",
   "metadata": {},
   "source": [
    "### Verificando a rede"
   ]
  },
  {
   "cell_type": "code",
   "execution_count": 8,
   "id": "fa4f1a03-c4a9-44ae-b0d5-c3b645d01043",
   "metadata": {},
   "outputs": [
    {
     "data": {
      "image/png": "[encoded data removed]",
      "text/plain": [
       "<Figure size 432x648 with 2 Axes>"
      ]
     },
     "metadata": {
      "needs_background": "light"
     },
     "output_type": "display_data"
    }
   ],
   "source": [
    "model.eval()\n",
    "dataiter = iter(testloader)\n",
    "images, labels = dataiter.next()\n",
    "img = images[0]\n",
    "# Convertendo imagens 2D em tensores 1D\n",
    "img = img.view(1, 784)\n",
    "# Computando o log das probabilidades para cada imagem (com log_softmax)\n",
    "with torch.no_grad():\n",
    "    output = model.forward(img)\n",
    "\n",
    "# computa as probabilidades fazendo o exponencial do log das probabilidades \n",
    "ps = torch.exp(output)\n",
    "# plotando as probabilidades\n",
    "helper.view_classify(img.view(1, 28, 28), ps, version='MNIST')\n",
    "helper.plt.show()"
   ]
  },
  {
   "cell_type": "code",
   "execution_count": 9,
   "id": "2da8149f-ab05-4a6a-ac8e-9a6eb1d86f90",
   "metadata": {},
   "outputs": [],
   "source": [
    "y_test = []\n",
    "y_pred = []\n",
    "with torch.no_grad():\n",
    "        # Desligando o gradiente\n",
    "        model.eval() #Iniciando o modelo no modo teste\n",
    "        for image, label in testloader:         \n",
    "\n",
    "            log_ps = model.forward(image) # fazendo o passo forward\n",
    "            prob = torch.exp(log_ps) # Pegando a saida da softmax e fazendo a exponencial(gera um tensor com 10 posições sendo que cada posição\n",
    "                                     # é uma classe e em cada posição tem a probabilidade da amostra ser dessa classe )\n",
    "\n",
    "            k_prob, k_class = prob.topk(1, dim=1) #pegando, na saida da rede, a classe com maior probabilidade\n",
    "            y_test.append(label.numpy().tolist())\n",
    "            y_pred.append(k_class.numpy().tolist())\n",
    "             \n",
    "            \n",
    "\n",
    "teste = []\n",
    "for l in y_test:\n",
    "    for i in l:\n",
    "        teste.append(i)\n",
    "\n",
    "pred = []\n",
    "for l in y_pred:\n",
    "    for i in l:\n",
    "        pred.append(i)        "
   ]
  },
  {
   "cell_type": "markdown",
   "id": "d9566d22-23ec-445b-bdb2-7ac5c0c957a4",
   "metadata": {},
   "source": [
    "### Matriz confusão"
   ]
  },
  {
   "cell_type": "code",
   "execution_count": 10,
   "id": "af316842-d733-4024-907f-7df9ad0a5b4c",
   "metadata": {},
   "outputs": [
    {
     "data": {
      "image/png": "[encoded data removed]",
      "text/plain": [
       "<Figure size 576x576 with 1 Axes>"
      ]
     },
     "metadata": {
      "needs_background": "light"
     },
     "output_type": "display_data"
    }
   ],
   "source": [
    "model.eval()\n",
    "cm = confusion_matrix(teste, pred)\n",
    "\n",
    "fig, ax = plt.subplots(figsize=(8, 8))\n",
    "ax.imshow(cm, cmap=plt.cm.Blues)\n",
    "ax.grid(False)\n",
    "ax.set_xlabel('Valores estimados', fontsize=15, color='black')\n",
    "ax.set_ylabel('Valores reais', fontsize=15, color='black')\n",
    "ax.xaxis.set(ticks=range(10))\n",
    "ax.yaxis.set(ticks=range(10))\n",
    "ax.set_ylim(9.5, -0.5)\n",
    "for i in range(10):\n",
    "    for j in range(10):\n",
    "        ax.text(j, i, cm[i, j], ha='center', va='center')\n",
    "plt.show()"
   ]
  },
  {
   "cell_type": "code",
   "execution_count": 11,
   "id": "a964231f-57ee-45db-bf61-a91a2890f829",
   "metadata": {},
   "outputs": [
    {
     "name": "stdout",
     "output_type": "stream",
     "text": [
      "Epoch: 1/10..  Training Loss: 0.875..  Test Loss: 0.359..  Test Accuracy: 0.899\n",
      "Epoch: 2/10..  Training Loss: 0.642..  Test Loss: 0.328..  Test Accuracy: 0.908\n",
      "Epoch: 3/10..  Training Loss: 0.630..  Test Loss: 0.346..  Test Accuracy: 0.898\n",
      "Epoch: 4/10..  Training Loss: 0.598..  Test Loss: 0.330..  Test Accuracy: 0.910\n",
      "Epoch: 5/10..  Training Loss: 0.565..  Test Loss: 0.288..  Test Accuracy: 0.925\n",
      "Epoch: 6/10..  Training Loss: 0.558..  Test Loss: 0.285..  Test Accuracy: 0.928\n",
      "Epoch: 7/10..  Training Loss: 0.558..  Test Loss: 0.320..  Test Accuracy: 0.918\n",
      "Epoch: 8/10..  Training Loss: 0.576..  Test Loss: 0.339..  Test Accuracy: 0.918\n",
      "Epoch: 9/10..  Training Loss: 0.588..  Test Loss: 0.316..  Test Accuracy: 0.918\n",
      "Epoch: 10/10..  Training Loss: 0.576..  Test Loss: 0.296..  Test Accuracy: 0.924\n"
     ]
    }
   ],
   "source": [
    "model_reg = Classifier_reg(784, 10, [512, 256, 128]) # Modelo com regularização\n",
    "criterion = nn.NLLLoss()\n",
    "\n",
    "optimizer_Adam = optim.Adam(model_reg.parameters(), lr=0.003)\n",
    "optimizer_ASGD = optim.ASGD(model_reg.parameters(), lr=0.003)\n",
    "optimizer_Adamax = optim.Adamax(model_reg.parameters(), lr=0.003)\n",
    "\n",
    "teste = treinamento(model_reg, criterion, optimizer_Adam, epochs = 10)"
   ]
  },
  {
   "cell_type": "code",
   "execution_count": 12,
   "id": "c2231be8-f9e6-40e2-99a7-ee29fc7939fb",
   "metadata": {},
   "outputs": [
    {
     "data": {
      "image/png": "[encoded data removed]",
      "text/plain": [
       "<Figure size 432x648 with 2 Axes>"
      ]
     },
     "metadata": {
      "needs_background": "light"
     },
     "output_type": "display_data"
    }
   ],
   "source": [
    "## INFERÊNCIA\n",
    "\n",
    "# Testando nossa rede\n",
    "\n",
    "model_reg.eval()\n",
    "\n",
    "dataiter = iter(testloader)\n",
    "images, labels = dataiter.next()\n",
    "img = images[0]\n",
    "# Convertendo imagens 2D em tensores 1D\n",
    "img = img.view(1, 784)\n",
    "\n",
    "# Computando o log das probabilidades para cada imagem (com log_softmax)\n",
    "with torch.no_grad():\n",
    "    output = model_reg.forward(img)\n",
    "\n",
    "# computa as probabilidades fazendo o exponencial do log das probabilidades \n",
    "ps = torch.exp(output)\n",
    "\n",
    "# plotando as probabilidades\n",
    "helper.view_classify(img.view(1, 28, 28), ps, version='MNIST')\n",
    "helper.plt.show()"
   ]
  },
  {
   "cell_type": "code",
   "execution_count": null,
   "id": "1e1d6db9-fac2-4d7e-b1e5-a46012b81578",
   "metadata": {},
   "outputs": [],
   "source": []
  }
 ],
 "metadata": {
  "kernelspec": {
   "display_name": "Python 3 (ipykernel)",
   "language": "python",
   "name": "python3"
  },
  "language_info": {
   "codemirror_mode": {
    "name": "ipython",
    "version": 3
   },
   "file_extension": ".py",
   "mimetype": "text/x-python",
   "name": "python",
   "nbconvert_exporter": "python",
   "pygments_lexer": "ipython3",
   "version": "3.9.7"
  }
 },
 "nbformat": 4,
 "nbformat_minor": 5
}
