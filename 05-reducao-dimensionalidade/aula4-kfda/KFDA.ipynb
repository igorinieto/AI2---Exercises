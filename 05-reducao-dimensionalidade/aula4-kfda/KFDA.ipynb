{
 "cells": [
  {
   "cell_type": "markdown",
   "id": "3cc0311b-95f4-4f3e-a3e8-1b0d94ae5c5d",
   "metadata": {},
   "source": [
    "# Fischer Linear Discriminant Analysis\n",
    "\n",
    "Kernel Fisher Discriminant Analysis (Kernel FDA) e um metodo de reducao de dimensionalidade e classificacao, capaz de projetar datasets com grande numero de dimensoes em sub-espacos reduzidos, assim como PCA e o LDA. Esse sub-espaco e otimizado para maximizar a dispersao entre classes e minimizar a dispersao intra-classes, assim como o LDA. A vantagem dessa versao e que ela implementa o kernel trick, assim como o SVM e o Kernel PCA, possibilitando uma representacao dos dados antes nao linearmente separaveis em um sub-espaco reduzido em que as classes sejam linearmente separaveis.\n",
    "\n",
    "O Kernel FDA classifica os vetores comparando suas projecoes no sub-espaco com os centroids das classes. Com isso em mente, adicionar uma nova classe pode significar simplesmente adicionar um novo centroid. Nesse sentido, no exemplo de hoje vamos abordar o Kernel FDA nao apenas para reducao de dimensionalidade, mas tambem para classificacao e `one shot learning`."
   ]
  },
  {
   "cell_type": "markdown",
   "id": "68bedfea-f12a-4a0e-9df5-07089793172d",
   "metadata": {},
   "source": [
    "## Instalando o pacote\n",
    "\n",
    "Podemos utilizar uma implementacao do kfda disponivel [aqui](https://pypi.org/project/kfda/)."
   ]
  },
  {
   "cell_type": "code",
   "execution_count": 1,
   "id": "6b7711a2-6238-4b06-8d3b-9fee8f3075c1",
   "metadata": {},
   "outputs": [
    {
     "name": "stdout",
     "output_type": "stream",
     "text": [
      "Requirement already satisfied: kfda in /home/igornieto/anaconda3/envs/ML/lib/python3.9/site-packages (0.1.1)\n"
     ]
    }
   ],
   "source": [
    "!pip install kfda"
   ]
  },
  {
   "cell_type": "markdown",
   "id": "a4f5d5fc-f803-4ba5-8950-4f69eb5ddf77",
   "metadata": {},
   "source": [
    "## Carregando o dataset\n",
    "\n",
    "Vamos usar o  dataset MNIST para um primeiro exemplo. Utilizaremos apenas 8000 amostras para economizar tempo e memoria."
   ]
  },
  {
   "cell_type": "code",
   "execution_count": 2,
   "id": "8d1b0b79-90d6-49e0-92a2-a7b618a7a40a",
   "metadata": {},
   "outputs": [],
   "source": [
    "from sklearn.datasets import fetch_openml\n",
    "from sklearn.model_selection import train_test_split\n",
    "\n",
    "X, y = fetch_openml('mnist_784', version=1, return_X_y=True)\n",
    "X = (X - 127.5) / 127.5\n",
    "\n",
    "X_train, X_test, y_train, y_test = train_test_split(\n",
    "    X, y, train_size=10000, stratify=y)"
   ]
  },
  {
   "cell_type": "markdown",
   "id": "9680aed6-6053-464e-8136-be506c57f39f",
   "metadata": {},
   "source": [
    "Como uma boa pratica, podemos vizualizar os dados:"
   ]
  },
  {
   "cell_type": "code",
   "execution_count": 3,
   "id": "e44f1204-f0d6-467d-ac98-e5580377ac9d",
   "metadata": {},
   "outputs": [
    {
     "ename": "KeyError",
     "evalue": "\"None of [Int64Index([14126, 43847, 55464, 50387, 19324, 13134, 56567, 27383, 38805,\\n             7851, 24710,  5741, 39157, 35566, 30291, 26205],\\n           dtype='int64')] are in the [columns]\"",
     "output_type": "error",
     "traceback": [
      "\u001b[0;31m---------------------------------------------------------------------------\u001b[0m",
      "\u001b[0;31mKeyError\u001b[0m                                  Traceback (most recent call last)",
      "\u001b[0;32m/tmp/ipykernel_473/2093583995.py\u001b[0m in \u001b[0;36m<module>\u001b[0;34m\u001b[0m\n\u001b[1;32m      4\u001b[0m \u001b[0;34m\u001b[0m\u001b[0m\n\u001b[1;32m      5\u001b[0m \u001b[0mtest_indices\u001b[0m \u001b[0;34m=\u001b[0m \u001b[0mrandom\u001b[0m\u001b[0;34m.\u001b[0m\u001b[0msample\u001b[0m\u001b[0;34m(\u001b[0m\u001b[0mrange\u001b[0m\u001b[0;34m(\u001b[0m\u001b[0mX_test\u001b[0m\u001b[0;34m.\u001b[0m\u001b[0mshape\u001b[0m\u001b[0;34m[\u001b[0m\u001b[0;36m0\u001b[0m\u001b[0;34m]\u001b[0m\u001b[0;34m)\u001b[0m\u001b[0;34m,\u001b[0m \u001b[0;36m16\u001b[0m\u001b[0;34m)\u001b[0m\u001b[0;34m\u001b[0m\u001b[0;34m\u001b[0m\u001b[0m\n\u001b[0;32m----> 6\u001b[0;31m \u001b[0mtest_sample\u001b[0m \u001b[0;34m=\u001b[0m \u001b[0mX_test\u001b[0m\u001b[0;34m[\u001b[0m\u001b[0mtest_indices\u001b[0m\u001b[0;34m]\u001b[0m\u001b[0;34m\u001b[0m\u001b[0;34m\u001b[0m\u001b[0m\n\u001b[0m\u001b[1;32m      7\u001b[0m \u001b[0mtest_sample_labels\u001b[0m \u001b[0;34m=\u001b[0m \u001b[0my_test\u001b[0m\u001b[0;34m[\u001b[0m\u001b[0mtest_indices\u001b[0m\u001b[0;34m]\u001b[0m\u001b[0;34m\u001b[0m\u001b[0;34m\u001b[0m\u001b[0m\n\u001b[1;32m      8\u001b[0m \u001b[0;34m\u001b[0m\u001b[0m\n",
      "\u001b[0;32m~/anaconda3/envs/ML/lib/python3.9/site-packages/pandas/core/frame.py\u001b[0m in \u001b[0;36m__getitem__\u001b[0;34m(self, key)\u001b[0m\n\u001b[1;32m   3462\u001b[0m             \u001b[0;32mif\u001b[0m \u001b[0mis_iterator\u001b[0m\u001b[0;34m(\u001b[0m\u001b[0mkey\u001b[0m\u001b[0;34m)\u001b[0m\u001b[0;34m:\u001b[0m\u001b[0;34m\u001b[0m\u001b[0;34m\u001b[0m\u001b[0m\n\u001b[1;32m   3463\u001b[0m                 \u001b[0mkey\u001b[0m \u001b[0;34m=\u001b[0m \u001b[0mlist\u001b[0m\u001b[0;34m(\u001b[0m\u001b[0mkey\u001b[0m\u001b[0;34m)\u001b[0m\u001b[0;34m\u001b[0m\u001b[0;34m\u001b[0m\u001b[0m\n\u001b[0;32m-> 3464\u001b[0;31m             \u001b[0mindexer\u001b[0m \u001b[0;34m=\u001b[0m \u001b[0mself\u001b[0m\u001b[0;34m.\u001b[0m\u001b[0mloc\u001b[0m\u001b[0;34m.\u001b[0m\u001b[0m_get_listlike_indexer\u001b[0m\u001b[0;34m(\u001b[0m\u001b[0mkey\u001b[0m\u001b[0;34m,\u001b[0m \u001b[0maxis\u001b[0m\u001b[0;34m=\u001b[0m\u001b[0;36m1\u001b[0m\u001b[0;34m)\u001b[0m\u001b[0;34m[\u001b[0m\u001b[0;36m1\u001b[0m\u001b[0;34m]\u001b[0m\u001b[0;34m\u001b[0m\u001b[0;34m\u001b[0m\u001b[0m\n\u001b[0m\u001b[1;32m   3465\u001b[0m \u001b[0;34m\u001b[0m\u001b[0m\n\u001b[1;32m   3466\u001b[0m         \u001b[0;31m# take() does not accept boolean indexers\u001b[0m\u001b[0;34m\u001b[0m\u001b[0;34m\u001b[0m\u001b[0m\n",
      "\u001b[0;32m~/anaconda3/envs/ML/lib/python3.9/site-packages/pandas/core/indexing.py\u001b[0m in \u001b[0;36m_get_listlike_indexer\u001b[0;34m(self, key, axis)\u001b[0m\n\u001b[1;32m   1312\u001b[0m             \u001b[0mkeyarr\u001b[0m\u001b[0;34m,\u001b[0m \u001b[0mindexer\u001b[0m\u001b[0;34m,\u001b[0m \u001b[0mnew_indexer\u001b[0m \u001b[0;34m=\u001b[0m \u001b[0max\u001b[0m\u001b[0;34m.\u001b[0m\u001b[0m_reindex_non_unique\u001b[0m\u001b[0;34m(\u001b[0m\u001b[0mkeyarr\u001b[0m\u001b[0;34m)\u001b[0m\u001b[0;34m\u001b[0m\u001b[0;34m\u001b[0m\u001b[0m\n\u001b[1;32m   1313\u001b[0m \u001b[0;34m\u001b[0m\u001b[0m\n\u001b[0;32m-> 1314\u001b[0;31m         \u001b[0mself\u001b[0m\u001b[0;34m.\u001b[0m\u001b[0m_validate_read_indexer\u001b[0m\u001b[0;34m(\u001b[0m\u001b[0mkeyarr\u001b[0m\u001b[0;34m,\u001b[0m \u001b[0mindexer\u001b[0m\u001b[0;34m,\u001b[0m \u001b[0maxis\u001b[0m\u001b[0;34m)\u001b[0m\u001b[0;34m\u001b[0m\u001b[0;34m\u001b[0m\u001b[0m\n\u001b[0m\u001b[1;32m   1315\u001b[0m \u001b[0;34m\u001b[0m\u001b[0m\n\u001b[1;32m   1316\u001b[0m         if needs_i8_conversion(ax.dtype) or isinstance(\n",
      "\u001b[0;32m~/anaconda3/envs/ML/lib/python3.9/site-packages/pandas/core/indexing.py\u001b[0m in \u001b[0;36m_validate_read_indexer\u001b[0;34m(self, key, indexer, axis)\u001b[0m\n\u001b[1;32m   1372\u001b[0m                 \u001b[0;32mif\u001b[0m \u001b[0muse_interval_msg\u001b[0m\u001b[0;34m:\u001b[0m\u001b[0;34m\u001b[0m\u001b[0;34m\u001b[0m\u001b[0m\n\u001b[1;32m   1373\u001b[0m                     \u001b[0mkey\u001b[0m \u001b[0;34m=\u001b[0m \u001b[0mlist\u001b[0m\u001b[0;34m(\u001b[0m\u001b[0mkey\u001b[0m\u001b[0;34m)\u001b[0m\u001b[0;34m\u001b[0m\u001b[0;34m\u001b[0m\u001b[0m\n\u001b[0;32m-> 1374\u001b[0;31m                 \u001b[0;32mraise\u001b[0m \u001b[0mKeyError\u001b[0m\u001b[0;34m(\u001b[0m\u001b[0;34mf\"None of [{key}] are in the [{axis_name}]\"\u001b[0m\u001b[0;34m)\u001b[0m\u001b[0;34m\u001b[0m\u001b[0;34m\u001b[0m\u001b[0m\n\u001b[0m\u001b[1;32m   1375\u001b[0m \u001b[0;34m\u001b[0m\u001b[0m\n\u001b[1;32m   1376\u001b[0m             \u001b[0mnot_found\u001b[0m \u001b[0;34m=\u001b[0m \u001b[0mlist\u001b[0m\u001b[0;34m(\u001b[0m\u001b[0mensure_index\u001b[0m\u001b[0;34m(\u001b[0m\u001b[0mkey\u001b[0m\u001b[0;34m)\u001b[0m\u001b[0;34m[\u001b[0m\u001b[0mmissing_mask\u001b[0m\u001b[0;34m.\u001b[0m\u001b[0mnonzero\u001b[0m\u001b[0;34m(\u001b[0m\u001b[0;34m)\u001b[0m\u001b[0;34m[\u001b[0m\u001b[0;36m0\u001b[0m\u001b[0;34m]\u001b[0m\u001b[0;34m]\u001b[0m\u001b[0;34m.\u001b[0m\u001b[0munique\u001b[0m\u001b[0;34m(\u001b[0m\u001b[0;34m)\u001b[0m\u001b[0;34m)\u001b[0m\u001b[0;34m\u001b[0m\u001b[0;34m\u001b[0m\u001b[0m\n",
      "\u001b[0;31mKeyError\u001b[0m: \"None of [Int64Index([14126, 43847, 55464, 50387, 19324, 13134, 56567, 27383, 38805,\\n             7851, 24710,  5741, 39157, 35566, 30291, 26205],\\n           dtype='int64')] are in the [columns]\""
     ]
    }
   ],
   "source": [
    "import matplotlib.pyplot as plt\n",
    "import random\n",
    "import itertools\n",
    "\n",
    "test_indices = random.sample(range(X_test.shape[0]), 16)\n",
    "test_sample = X_test[test_indices]\n",
    "test_sample_labels = y_test[test_indices]\n",
    "\n",
    "f, axs = plt.subplots(4, 4)\n",
    "flattened_axs = itertools.chain(*axs)\n",
    "\n",
    "for ax, img, label in zip(flattened_axs, test_sample, test_sample_labels):\n",
    "    ax.axis('off')\n",
    "    ax.imshow(img.reshape(28,28))\n",
    "    ax.set_title(f'Label: {label}')\n",
    "\n",
    "plt.tight_layout()"
   ]
  },
  {
   "cell_type": "markdown",
   "id": "2340822f-b502-4d1e-9e00-15339a257a77",
   "metadata": {},
   "source": [
    "## Treinamento\n",
    "\n",
    "O `Kfda` foi implementado de modo a ter uma interface similar ao `scikit-learn`.\n",
    "\n",
    "Sendo assim, podemos usar apenas `.fit` para iniciar o treinamento."
   ]
  },
  {
   "cell_type": "code",
   "execution_count": null,
   "id": "7dd1bb39-7cb9-41ab-9865-cd1213133c2f",
   "metadata": {},
   "outputs": [],
   "source": [
    "from kfda import Kfda\n",
    "cls = Kfda(kernel='rbf', n_components=9)\n",
    "cls.fit(X_train, y_train)"
   ]
  },
  {
   "cell_type": "markdown",
   "id": "bb582f0a-b5b7-48a3-89f1-24fbcc56880e",
   "metadata": {},
   "source": [
    "## Avaliando o modelo\n",
    "\n",
    "Podemos usar `.score()` para avaliar o modelo. Nesse exemplo, o resultado fica frequentemente por volta de 0.97, indicando uma acuracia de 97%."
   ]
  },
  {
   "cell_type": "code",
   "execution_count": null,
   "id": "b940c80d-5570-4ed0-87bf-f65d7f35c416",
   "metadata": {},
   "outputs": [],
   "source": [
    "print('Resultados:')\n",
    "test_score = cls.score(X_test, y_test)\n",
    "print(f'Sobre o conjunto de testes: {test_score}')\n",
    "train_score = cls.score(X_train, y_train)\n",
    "print(f'Sobre o conjunto de treinamento: {train_score}')"
   ]
  },
  {
   "cell_type": "markdown",
   "id": "2604678e-73fc-478b-9069-82b9cda89df1",
   "metadata": {},
   "source": [
    "Visualizando as predicoes para ter uma ideia de onde o classificador acertou ou errou. Nesse caso, o modelo conseguiu uma acuracia de 97%."
   ]
  },
  {
   "cell_type": "code",
   "execution_count": null,
   "id": "61247976-97c3-4dc4-85bd-b85839fd7723",
   "metadata": {},
   "outputs": [],
   "source": [
    "predictions = cls.predict(test_sample)\n",
    "\n",
    "f, axs = plt.subplots(4, 4)\n",
    "\n",
    "flattened_axs = itertools.chain(*axs)\n",
    "\n",
    "for ax, img, prediction in zip(flattened_axs, test_sample, predictions):\n",
    "    (ax.axis('off'))\n",
    "    ax.imshow(img.reshape(28,28))\n",
    "    ax.set_title(f'Prediction: {prediction}')\n",
    "plt.tight_layout()"
   ]
  },
  {
   "cell_type": "markdown",
   "id": "a56e542c-5409-40f6-a29d-ee5e4aed469e",
   "metadata": {},
   "source": [
    "# Oneshot Learning\n",
    "\n",
    "Esse exemplo sera treinado considerando apenas amostras de digitos de 0 a 8. A ideia e apresentar uma amostra de classe 9 e que, sem nenhum retreino, o modelo seja capaz de identificar que a amostra pertence a uma nova classe. Vamos primeiro separar os 9's do conjunto de treinamento."
   ]
  },
  {
   "cell_type": "code",
   "execution_count": null,
   "id": "a580750d-8ee9-41b4-992b-a5ad546535ca",
   "metadata": {},
   "outputs": [],
   "source": [
    "nines_mask = y_train == '9'\n",
    "X_train_nines = X_train[nines_mask]\n",
    "X_train = X_train[~nines_mask]\n",
    "y_train_nines = y_train[nines_mask]\n",
    "y_train = y_train[~nines_mask]"
   ]
  },
  {
   "cell_type": "markdown",
   "id": "b299d45a-184b-4690-aae0-75ea0aec817d",
   "metadata": {},
   "source": [
    "Agora vamos treinar o modelo considerando apenas as amostras de classe entre 0 e 8. Note que n_componentes e 8 em vez de 9. Isso pq o numero maximo de direcoes no sub-espaco de fischer e $c-1$, e agora so temos 9 classes."
   ]
  },
  {
   "cell_type": "code",
   "execution_count": null,
   "id": "2a3a2a07-9f5f-4109-ac0a-88f5b409f122",
   "metadata": {},
   "outputs": [],
   "source": [
    "cls = Kfda(kernel='rbf', n_components=8)\n",
    "print('Fitting...')\n",
    "cls.fit(X_train, y_train)"
   ]
  },
  {
   "cell_type": "markdown",
   "id": "8193e7af-1fd3-4b10-bb16-7bbd29b0c292",
   "metadata": {},
   "source": [
    "Podemos utilizar `.fit_additional` para introduzir uma nova classe. Qualquer quantidade de novas classes podem ser fornecidas. Nenhum retreino e executado, o que pode ser observado na execucao muito rapida."
   ]
  },
  {
   "cell_type": "code",
   "execution_count": null,
   "id": "7673cddc-2bd2-403f-bc27-c994ec45ce3d",
   "metadata": {},
   "outputs": [],
   "source": [
    "cls.fit_additional(X_train_nines[:1], y_train_nines[:1])"
   ]
  },
  {
   "cell_type": "markdown",
   "id": "7791eef4-98b6-4343-bf83-5439de53ff94",
   "metadata": {},
   "source": [
    "Qualquer quantidade de novas amostras de treinamento para multiplas classes podem ser introduzidas utilizando `.fit_additional`. O resultado final fica em torno de 0.95, o que implica que o classificador foi  capaz de reconhecer os 9s com sucesso."
   ]
  },
  {
   "cell_type": "code",
   "execution_count": null,
   "id": "ed81a6ad-79f5-48a1-9909-87c13fee4f6d",
   "metadata": {},
   "outputs": [],
   "source": [
    "print('Resultados:')\n",
    "test_score = cls.score(X_test, y_test)\n",
    "print(f'Sobre o conjunto de testes: {test_score}')\n",
    "train_score = cls.score(X_train, y_train)\n",
    "print(f'Sobre o conjunto de treinamento: {train_score}')"
   ]
  },
  {
   "cell_type": "markdown",
   "id": "7839b8d8-a9d6-4a89-9125-409d6a99bc0d",
   "metadata": {},
   "source": [
    "# Visualizando as representacoes\n",
    "\n",
    "Podemos rodar o codigo abaixo para gerar as representacoes, que podem alimentar o [Projetor](https://projector.tensorflow.org/) do Tensorflow para produzir uma visualizacao UMAP."
   ]
  },
  {
   "cell_type": "code",
   "execution_count": null,
   "id": "19ee4349-b1b5-4f2c-9bdb-68a52f1323b6",
   "metadata": {},
   "outputs": [],
   "source": [
    "from sklearn.datasets import fetch_openml\n",
    "from sklearn.model_selection import train_test_split\n",
    "import numpy as np\n",
    "\n",
    "from kfda import Kfda\n",
    "\n",
    "\n",
    "X, y = fetch_openml('mnist_784', version=1, return_X_y=True)\n",
    "X = (X - 127.5) / 127.5\n",
    "\n",
    "# If you don't have that much memory available, lower this number.\n",
    "X_train, X_test, y_train, y_test = train_test_split(\n",
    "    X, y, train_size=10000, stratify=y)\n",
    "\n",
    "\n",
    "# Remove nines from the training set\n",
    "nines_mask = y_train == '9'\n",
    "X_train_nines = X_train[nines_mask]\n",
    "X_train = X_train[~nines_mask]\n",
    "y_train_nines = y_train[nines_mask]\n",
    "y_train = y_train[~nines_mask]\n",
    "\n",
    "# Train\n",
    "cls = Kfda(kernel='rbf', n_components=8)\n",
    "print('Ajustando...')\n",
    "train_embeddings = cls.fit_transform(X_train, y_train)\n",
    "\n",
    "# Mostra um unico 9 para o algoritmo.\n",
    "# Os mesmos pesos sao usados e nao ha re-treinamento.\n",
    "print('Adicionando a classe 9')\n",
    "cls.fit_additional(X_train_nines[:1], y_train_nines[:1])\n",
    "print('Resultados:')\n",
    "\n",
    "# Mostra os resultados\n",
    "test_score = cls.score(X_test, y_test)\n",
    "print(f'Sobre o conjunto de testes: {test_score}')\n",
    "train_score = cls.score(X_train, y_train)\n",
    "print(f'Sobre o conjunto de treinamento: {train_score}')\n",
    "\n",
    "print('Gerando as representacoes...')\n",
    "test_embeddings = cls.transform(X_test)\n",
    "\n",
    "np.savetxt('mnist_oneshot_test_embeddings.tsv',\n",
    "           test_embeddings, delimiter='\\t')\n",
    "np.savetxt('mnist_oneshot_test_labels.tsv', y_test, delimiter='\\t', fmt=\"%s\")\n",
    "np.savetxt('mnist_oneshot_train_labels.tsv', y_train, delimiter='\\t', fmt=\"%s\")\n",
    "print('Representacoes salvas em *.tsv! Conecte-as https://projector.tensorflow.org/ para visualizacao.')"
   ]
  },
  {
   "cell_type": "markdown",
   "id": "e3322a07-d72b-4587-aafe-aaf2327ba950",
   "metadata": {},
   "source": [
    "Cada cor representa um digito diferente, e as representacoes mostram claramente que as classes sao separaveis.\n",
    "\n",
    "Podemos tambem observar o quao efetiva sao essas representacoes em apenas 2 dimensoes. Quando usamos apenas 2 componentes em vez de 9 teremos uma classificacao menos acurada, porem, e uma abordagem muito util para mostrar visualmente o quanto efetivo apenas 2 componentes podem ser. \n",
    "\n",
    "Vamos primeiro treinar um novo classificador:"
   ]
  },
  {
   "cell_type": "code",
   "execution_count": null,
   "id": "45b54cfa-f837-4214-86bc-4c0f0499ae5b",
   "metadata": {},
   "outputs": [],
   "source": [
    "# Recarregando os dados\n",
    "X, y = fetch_openml('mnist_784', version=1, return_X_y=True)\n",
    "X = (X - 127.5) / 127.5\n",
    "\n",
    "X_train, X_test, y_train, y_test = train_test_split(\n",
    "    X, y, train_size=10000, stratify=y)\n",
    "\n",
    "# Treinando o classificador\n",
    "cls = Kfda(kernel='rbf', n_components=2)\n",
    "train_embeddings = cls.fit_transform(X_train, y_train)\n",
    "\n",
    "# computando os resultados\n",
    "test_score = cls.score(X_test, y_test)\n",
    "print(f'Resultado sobre conjunto de testes: {test_score}')"
   ]
  },
  {
   "cell_type": "markdown",
   "id": "dcf30a00-b316-4da1-8ef4-3190d6d2c58f",
   "metadata": {},
   "source": [
    "Como esperado, utilizar um numero menor de componentes leva a uma queda consideraval na acuracia. As representacoes das amostras de treinamento ficam assim:"
   ]
  },
  {
   "cell_type": "code",
   "execution_count": null,
   "id": "fc6779d2-aafe-4860-a34f-0072a5aad523",
   "metadata": {},
   "outputs": [],
   "source": [
    "colors = ['b', 'g', 'r', 'c', 'm', 'y', 'k', 'slategray', 'darkorange', 'lime']\n",
    "for label, color in zip(cls.classes_, colors):\n",
    "    class_embeddings = train_embeddings[y_train == label]\n",
    "    plt.scatter(class_embeddings[:, 0], class_embeddings[:, 1], c=color, label=label)\n",
    "plt.legend()"
   ]
  },
  {
   "cell_type": "markdown",
   "id": "5dc16e68-76ab-4856-a491-a1f29f451b77",
   "metadata": {},
   "source": [
    "Apesar de mostrar um boa separacao entre as classes, as representacoes das classes nao sao interessantes por que ficam praticamente clusterizadas. Ja as representacoes de teste:"
   ]
  },
  {
   "cell_type": "code",
   "execution_count": null,
   "id": "612400c7-1b16-4a56-bb6c-b3b2d2cb4a63",
   "metadata": {},
   "outputs": [],
   "source": [
    "test_embeddings = cls.transform(X_test)\n",
    "\n",
    "for label, color in zip(cls.classes_, colors):\n",
    "    class_embeddings = test_embeddings[y_test == label]\n",
    "    plt.scatter(class_embeddings[:, 0], class_embeddings[:, 1], c=color, label=label)\n",
    "plt.legend()"
   ]
  },
  {
   "cell_type": "markdown",
   "id": "80ff6869-34fe-4978-bd69-f1fd9b3aa86e",
   "metadata": {},
   "source": [
    "Essas amostras estao propensas a ficarem sobrepostas, e as classes se apresentam agrupadas. Nesse caso, adicionar uma quantidade maior de dimensoes e essencial para conseguirmos separar essas amostras."
   ]
  }
 ],
 "metadata": {
  "kernelspec": {
   "display_name": "Python 3 (ipykernel)",
   "language": "python",
   "name": "python3"
  },
  "language_info": {
   "codemirror_mode": {
    "name": "ipython",
    "version": 3
   },
   "file_extension": ".py",
   "mimetype": "text/x-python",
   "name": "python",
   "nbconvert_exporter": "python",
   "pygments_lexer": "ipython3",
   "version": "3.9.7"
  }
 },
 "nbformat": 4,
 "nbformat_minor": 5
}
