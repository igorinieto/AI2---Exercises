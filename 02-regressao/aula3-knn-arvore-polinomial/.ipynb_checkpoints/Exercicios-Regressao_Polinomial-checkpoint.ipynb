{
 "cells": [
  {
   "cell_type": "markdown",
   "id": "709af9f5",
   "metadata": {},
   "source": [
    "# Regressão Polinomial\n",
    "\n",
    "O objetivo deste exercício é se aprofundar nos conceitos de regressão e implementar os algoritmos de regressão polinomial.\n",
    "\n",
    "Utilizaremos as mesmas bases de dados do exercício anterior:"
   ]
  },
  {
   "cell_type": "code",
   "execution_count": 1,
   "id": "f422d2e4",
   "metadata": {},
   "outputs": [],
   "source": [
    "import pandas as pd\n",
    "\n",
    "dados_por = pd.read_csv('data/Portland_housePrices.csv', index_col=None)\n",
    "\n",
    "X = dados_por.loc[:,['tamanho']]\n",
    "y = dados_por.loc[:,['preco']]"
   ]
  },
  {
   "cell_type": "markdown",
   "id": "68ae0f67",
   "metadata": {},
   "source": [
    "Vamos examinar o comportamento do preço versus o tamanho do imóvel"
   ]
  },
  {
   "cell_type": "code",
   "execution_count": 4,
   "id": "b5a9f3ae",
   "metadata": {
    "scrolled": true
   },
   "outputs": [
    {
     "data": {
      "text/plain": [
       "Text(0, 0.5, 'Preço (USD$)')"
      ]
     },
     "execution_count": 4,
     "metadata": {},
     "output_type": "execute_result"
    },
    {
     "data": {
      "image/png": "[encoded data removed]",
      "text/plain": [
       "<Figure size 432x288 with 1 Axes>"
      ]
     },
     "metadata": {
      "needs_background": "light"
     },
     "output_type": "display_data"
    }
   ],
   "source": [
    "import matplotlib.pyplot as plt\n",
    "\n",
    "plt.scatter(X,y)\n",
    "plt.xlabel(\"Tamanho (square feets)\")\n",
    "plt.ylabel(\"Preço (USD$)\")"
   ]
  },
  {
   "cell_type": "markdown",
   "id": "3bc76cec",
   "metadata": {},
   "source": [
    "## Medindo a falta de capacidade de generalização de modelos de alto grau"
   ]
  },
  {
   "cell_type": "code",
   "execution_count": 5,
   "id": "54dedfc0",
   "metadata": {},
   "outputs": [],
   "source": [
    "from sklearn.model_selection import train_test_split\n",
    "X_train, X_test, y_train, y_test = train_test_split(X, y, test_size=0.33, random_state=42)"
   ]
  },
  {
   "cell_type": "markdown",
   "id": "2c1baad2",
   "metadata": {},
   "source": [
    "Vamos agora encaixar uma regressão linear simples"
   ]
  },
  {
   "cell_type": "code",
   "execution_count": 6,
   "id": "b95b2537",
   "metadata": {},
   "outputs": [],
   "source": [
    "from sklearn.linear_model import LinearRegression\n",
    "\n",
    "regression = LinearRegression().fit(X_train, y_train)"
   ]
  },
  {
   "cell_type": "markdown",
   "id": "6343d191",
   "metadata": {},
   "source": [
    "Vamos analizar o valor de $R^2$ na partição de treino e de teste"
   ]
  },
  {
   "cell_type": "code",
   "execution_count": 7,
   "id": "6121644d",
   "metadata": {},
   "outputs": [
    {
     "name": "stdout",
     "output_type": "stream",
     "text": [
      "Partição de Treino: 0.6493635022333737\n",
      "Partição de Teste: 0.39301821331700204\n"
     ]
    }
   ],
   "source": [
    "from sklearn.metrics import r2_score\n",
    "print(f\"Partição de Treino: {regression.score(X_train, y_train)}\")\n",
    "y_pred = regression.predict(X_test)\n",
    "print(f\"Partição de Teste: {r2_score(y_pred, y_test)}\")"
   ]
  },
  {
   "cell_type": "code",
   "execution_count": 8,
   "id": "20a81c33",
   "metadata": {},
   "outputs": [
    {
     "name": "stdout",
     "output_type": "stream",
     "text": [
      "8380417681.328084\n"
     ]
    }
   ],
   "source": [
    "from sklearn.metrics import mean_squared_error\n",
    "\n",
    "y_pred = regression.predict(X_test)\n",
    "\n",
    "print(mean_squared_error(y_test, y_pred))"
   ]
  },
  {
   "cell_type": "markdown",
   "id": "7575311c",
   "metadata": {},
   "source": [
    "Agora vamos fazer a expansão polinomial de ordem 2"
   ]
  },
  {
   "cell_type": "code",
   "execution_count": 9,
   "id": "11dce2df",
   "metadata": {},
   "outputs": [],
   "source": [
    "from sklearn.preprocessing import PolynomialFeatures\n",
    "  \n",
    "poly = PolynomialFeatures(degree = 2)\n",
    "X_poly = poly.fit_transform(X)\n",
    "\n",
    "X_train, X_test, y_train, y_test = train_test_split(X_poly, y, test_size=0.33, random_state=42)"
   ]
  },
  {
   "cell_type": "markdown",
   "id": "56e4f17b",
   "metadata": {},
   "source": [
    "E agora retreinamos o modelo utilizando o `X_poly` expandido e avaliamos a qualidade do mesmo."
   ]
  },
  {
   "cell_type": "code",
   "execution_count": 10,
   "id": "3391c8b7",
   "metadata": {},
   "outputs": [
    {
     "name": "stdout",
     "output_type": "stream",
     "text": [
      "Partição de Treino: 0.6564211353485666\n",
      "Partição de Teste: 0.278347829094135\n"
     ]
    }
   ],
   "source": [
    "regression2 = LinearRegression().fit(X_train, y_train)\n",
    "print(f\"Partição de Treino: {regression2.score(X_train, y_train)}\")\n",
    "\n",
    "y_pred = regression2.predict(X_test)\n",
    "print(f\"Partição de Teste: {r2_score(y_pred, y_test)}\")"
   ]
  },
  {
   "cell_type": "markdown",
   "id": "250e35a5",
   "metadata": {},
   "source": [
    "Não notamos nenhuma melhora significativa no $R^2$ na partição de treino, no entanto notamos uma queda no desempenho na partição de teste."
   ]
  },
  {
   "cell_type": "markdown",
   "id": "4e611e8e",
   "metadata": {},
   "source": [
    "## Exercício 1 \n",
    "\n",
    "Avalie a qualidade do modelo nos conjunto de treino e de teste enquanto o grau do polinômio aumenta, utilizando a base Portland."
   ]
  },
  {
   "cell_type": "markdown",
   "id": "e2c3ad71-456e-4a3b-91b6-aebc870dd6ba",
   "metadata": {},
   "source": [
    "#### Importando bibliotecas"
   ]
  },
  {
   "cell_type": "code",
   "execution_count": null,
   "id": "e785adb6-387e-4f56-8964-f291b1928347",
   "metadata": {},
   "outputs": [],
   "source": [
    "from sklearn.model_selection import train_test_split\n",
    "import pandas as pd\n",
    "from sklearn.linear_model import LinearRegression\n",
    "from sklearn.metrics import r2_score\n",
    "from sklearn.metrics import mean_squared_error\n",
    "from sklearn.preprocessing import PolynomialFeatures"
   ]
  },
  {
   "cell_type": "markdown",
   "id": "c5090bf7-1966-400b-ac82-c5b1ed45e538",
   "metadata": {},
   "source": [
    "#### Lendo base de dados"
   ]
  },
  {
   "cell_type": "code",
   "execution_count": 11,
   "id": "d9de998b-5771-4a60-96d8-1f64c96bdbcb",
   "metadata": {},
   "outputs": [],
   "source": [
    "dados_por = pd.read_csv('data/Portland_housePrices.csv', index_col=None)\n",
    "\n",
    "X = dados_por.loc[:,['tamanho']]\n",
    "y = dados_por.loc[:,['preco']]"
   ]
  },
  {
   "cell_type": "markdown",
   "id": "1ca1b9d8-ae6a-4a1a-b847-43d53fd0d713",
   "metadata": {},
   "source": [
    "#### GRAU 3"
   ]
  },
  {
   "cell_type": "code",
   "execution_count": 12,
   "id": "dc03353b",
   "metadata": {},
   "outputs": [],
   "source": [
    "poly = PolynomialFeatures(degree = 3)\n",
    "X_poly = poly.fit_transform(X)\n",
    "\n",
    "X_train, X_test, y_train, y_test = train_test_split(X_poly, y, test_size=0.33, random_state=42)"
   ]
  },
  {
   "cell_type": "code",
   "execution_count": 13,
   "id": "e5b8aa2a-8482-4bb5-ad35-aece7cc007c5",
   "metadata": {},
   "outputs": [
    {
     "name": "stdout",
     "output_type": "stream",
     "text": [
      "Partição de Treino: 0.6569909895776398\n",
      "Partição de Teste: 0.29828490472428015\n"
     ]
    }
   ],
   "source": [
    "regression2 = LinearRegression().fit(X_train, y_train)\n",
    "print(f\"Partição de Treino: {regression2.score(X_train, y_train)}\")\n",
    "\n",
    "y_pred = regression2.predict(X_test)\n",
    "print(f\"Partição de Teste: {r2_score(y_pred, y_test)}\")"
   ]
  },
  {
   "cell_type": "markdown",
   "id": "53cc433e-55d8-4d20-8505-93c38ebde0e8",
   "metadata": {},
   "source": [
    "#### GRAU 4"
   ]
  },
  {
   "cell_type": "code",
   "execution_count": 14,
   "id": "980bda00-6c4c-4b43-916c-a5258c2139ae",
   "metadata": {},
   "outputs": [],
   "source": [
    "poly = PolynomialFeatures(degree = 4)\n",
    "X_poly = poly.fit_transform(X)\n",
    "\n",
    "X_train, X_test, y_train, y_test = train_test_split(X_poly, y, test_size=0.33, random_state=42)"
   ]
  },
  {
   "cell_type": "code",
   "execution_count": 15,
   "id": "9eee5bc3-4a0d-4c42-af5b-25d0fa1f5fa8",
   "metadata": {},
   "outputs": [
    {
     "name": "stdout",
     "output_type": "stream",
     "text": [
      "Partição de Treino: 0.6589590917221796\n",
      "Partição de Teste: 0.25855494666436674\n"
     ]
    }
   ],
   "source": [
    "regression2 = LinearRegression().fit(X_train, y_train)\n",
    "print(f\"Partição de Treino: {regression2.score(X_train, y_train)}\")\n",
    "\n",
    "y_pred = regression2.predict(X_test)\n",
    "print(f\"Partição de Teste: {r2_score(y_pred, y_test)}\")"
   ]
  },
  {
   "cell_type": "markdown",
   "id": "0fa0b850-2b1c-4d10-90bd-be1dbe5f549e",
   "metadata": {},
   "source": [
    "#### GRAU 5"
   ]
  },
  {
   "cell_type": "code",
   "execution_count": 16,
   "id": "4d83c891-dcd1-4961-be5e-45cc50ad70d0",
   "metadata": {},
   "outputs": [],
   "source": [
    "poly = PolynomialFeatures(degree = 5)\n",
    "X_poly = poly.fit_transform(X)\n",
    "\n",
    "X_train, X_test, y_train, y_test = train_test_split(X_poly, y, test_size=0.33, random_state=42)"
   ]
  },
  {
   "cell_type": "code",
   "execution_count": 17,
   "id": "2b1bcbab-aca2-4506-82e3-b4e8aa90f8b2",
   "metadata": {},
   "outputs": [
    {
     "name": "stdout",
     "output_type": "stream",
     "text": [
      "Partição de Treino: 0.6626529223268033\n",
      "Partição de Teste: 0.2784732500146426\n"
     ]
    }
   ],
   "source": [
    "regression2 = LinearRegression().fit(X_train, y_train)\n",
    "print(f\"Partição de Treino: {regression2.score(X_train, y_train)}\")\n",
    "\n",
    "y_pred = regression2.predict(X_test)\n",
    "print(f\"Partição de Teste: {r2_score(y_pred, y_test)}\")"
   ]
  },
  {
   "cell_type": "markdown",
   "id": "171734db-eb38-4734-9102-5a02c97678fc",
   "metadata": {},
   "source": [
    "#### GRAU 6"
   ]
  },
  {
   "cell_type": "code",
   "execution_count": 18,
   "id": "96192201-f7d2-452c-9e2c-432899e317c7",
   "metadata": {},
   "outputs": [],
   "source": [
    "poly = PolynomialFeatures(degree = 6)\n",
    "X_poly = poly.fit_transform(X)\n",
    "\n",
    "X_train, X_test, y_train, y_test = train_test_split(X_poly, y, test_size=0.33, random_state=42)"
   ]
  },
  {
   "cell_type": "code",
   "execution_count": 19,
   "id": "42119071-d23d-4f4c-8709-92f57ca0d873",
   "metadata": {},
   "outputs": [
    {
     "name": "stdout",
     "output_type": "stream",
     "text": [
      "Partição de Treino: 0.6678899322620004\n",
      "Partição de Teste: 0.23261215792387413\n"
     ]
    }
   ],
   "source": [
    "regression2 = LinearRegression().fit(X_train, y_train)\n",
    "print(f\"Partição de Treino: {regression2.score(X_train, y_train)}\")\n",
    "\n",
    "y_pred = regression2.predict(X_test)\n",
    "print(f\"Partição de Teste: {r2_score(y_pred, y_test)}\")"
   ]
  },
  {
   "cell_type": "markdown",
   "id": "ddc9eeff",
   "metadata": {},
   "source": [
    "## Exercício 2\n",
    "\n",
    "Utilizando o dataset de vendas de abóboras na cidade de Nova Iorque, compare uma regressão linear com regressões polinomiais."
   ]
  },
  {
   "cell_type": "code",
   "execution_count": 21,
   "id": "f0ed71d3",
   "metadata": {},
   "outputs": [],
   "source": [
    "nyc_pumpkins = pd.read_csv(\"data/nyc_pumpkins.csv\")\n",
    "\n",
    "X = nyc_pumpkins.loc[:,['size']]\n",
    "y = nyc_pumpkins.loc[:,['price']]"
   ]
  },
  {
   "cell_type": "code",
   "execution_count": 22,
   "id": "c1f05f4d-7418-45f0-afac-12ce908be0ab",
   "metadata": {},
   "outputs": [
    {
     "data": {
      "text/plain": [
       "Text(0, 0.5, 'Price (USD$)')"
      ]
     },
     "execution_count": 22,
     "metadata": {},
     "output_type": "execute_result"
    },
    {
     "data": {
      "image/png": "[encoded data removed]",
      "text/plain": [
       "<Figure size 432x288 with 1 Axes>"
      ]
     },
     "metadata": {
      "needs_background": "light"
     },
     "output_type": "display_data"
    }
   ],
   "source": [
    "plt.scatter(X,y)\n",
    "plt.xlabel(\"Size\")\n",
    "plt.ylabel(\"Price (USD$)\")"
   ]
  },
  {
   "cell_type": "markdown",
   "id": "3512e06c-10cf-4e1a-90c6-77e62e92842e",
   "metadata": {},
   "source": [
    "#### Regressão Linear"
   ]
  },
  {
   "cell_type": "code",
   "execution_count": 23,
   "id": "92bc3b23-a73c-4022-8d65-c67a83d2a98b",
   "metadata": {},
   "outputs": [],
   "source": [
    "X_train, X_test, y_train, y_test = train_test_split(X, y, test_size=0.33, random_state=42)"
   ]
  },
  {
   "cell_type": "code",
   "execution_count": 24,
   "id": "15d74cf3-3cce-4f1e-9f13-a86fc341bfa5",
   "metadata": {},
   "outputs": [
    {
     "name": "stdout",
     "output_type": "stream",
     "text": [
      "Partição de Treino: 0.25775331340249175\n",
      "Partição de Teste: -0.615404746065505\n"
     ]
    }
   ],
   "source": [
    "regression = LinearRegression().fit(X_train, y_train)\n",
    "print(f\"Partição de Treino: {regression.score(X_train, y_train)}\")\n",
    "y_pred = regression.predict(X_test)\n",
    "print(f\"Partição de Teste: {r2_score(y_pred, y_test)}\")"
   ]
  },
  {
   "cell_type": "code",
   "execution_count": 25,
   "id": "2ae0415b-7530-4555-afba-b9a5aa48f93a",
   "metadata": {},
   "outputs": [
    {
     "name": "stdout",
     "output_type": "stream",
     "text": [
      "5404.701413186553\n"
     ]
    }
   ],
   "source": [
    "y_pred = regression.predict(X_test)\n",
    "\n",
    "print(mean_squared_error(y_test, y_pred))"
   ]
  },
  {
   "cell_type": "markdown",
   "id": "0d69b20d-bc0f-4efb-acf1-1f2a57fdb82f",
   "metadata": {},
   "source": [
    "#### Regressão Polinomial"
   ]
  },
  {
   "cell_type": "code",
   "execution_count": 26,
   "id": "68b14383-86fd-452b-a5b0-c4ca8bbeebfa",
   "metadata": {},
   "outputs": [],
   "source": [
    "X = nyc_pumpkins.loc[:,['size']]\n",
    "y = nyc_pumpkins.loc[:,['price']]"
   ]
  },
  {
   "cell_type": "code",
   "execution_count": 27,
   "id": "6a40aeb1-78c0-4963-8293-c09ae599f31c",
   "metadata": {},
   "outputs": [],
   "source": [
    "poly = PolynomialFeatures(degree = 2)\n",
    "X_poly = poly.fit_transform(X)\n",
    "\n",
    "X_train, X_test, y_train, y_test = train_test_split(X_poly, y, test_size=0.33, random_state=42)"
   ]
  },
  {
   "cell_type": "code",
   "execution_count": 28,
   "id": "aa1565fc-02e9-4717-9004-f0e23c54cfc6",
   "metadata": {},
   "outputs": [
    {
     "name": "stdout",
     "output_type": "stream",
     "text": [
      "Partição de Treino: 0.4152177217826164\n",
      "Partição de Teste: 0.2193225847273521\n"
     ]
    }
   ],
   "source": [
    "regression2 = LinearRegression().fit(X_train, y_train)\n",
    "print(f\"Partição de Treino: {regression2.score(X_train, y_train)}\")\n",
    "\n",
    "y_pred = regression2.predict(X_test)\n",
    "print(f\"Partição de Teste: {r2_score(y_pred, y_test)}\")"
   ]
  }
 ],
 "metadata": {
  "kernelspec": {
   "display_name": "Python 3 (ipykernel)",
   "language": "python",
   "name": "python3"
  },
  "language_info": {
   "codemirror_mode": {
    "name": "ipython",
    "version": 3
   },
   "file_extension": ".py",
   "mimetype": "text/x-python",
   "name": "python",
   "nbconvert_exporter": "python",
   "pygments_lexer": "ipython3",
   "version": "3.9.7"
  }
 },
 "nbformat": 4,
 "nbformat_minor": 5
}
