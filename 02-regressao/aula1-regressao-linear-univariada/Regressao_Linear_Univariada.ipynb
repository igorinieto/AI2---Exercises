{
 "cells": [
  {
   "cell_type": "markdown",
   "metadata": {},
   "source": [
    "# Regressão Linear Univariada"
   ]
  },
  {
   "cell_type": "markdown",
   "metadata": {},
   "source": [
    "## Exercício 1\n",
    "Treine modelos lineares na base <i>Portland_housePrices.csv</i> utilizando apenas um dos atributos preditores.\n",
    "\n",
    "1) Observando visualmente o modelo, qual atributo parece mais razoável? o que foi aprendido com <i>tamanho</i> ou com <i>número de quartos</i>?\n",
    "\n",
    "\n",
    "2) O RSS e R^2 corroboram suas impressões observando o modelo?\n",
    "\n",
    "\n"
   ]
  },
  {
   "cell_type": "markdown",
   "metadata": {},
   "source": [
    "### Importando bibliotecas"
   ]
  },
  {
   "cell_type": "code",
   "execution_count": 37,
   "metadata": {},
   "outputs": [],
   "source": [
    "import pandas as pd\n",
    "from sklearn.linear_model import LinearRegression\n",
    "from matplotlib import pyplot as plt\n",
    "from sklearn.metrics import r2_score"
   ]
  },
  {
   "cell_type": "markdown",
   "metadata": {
    "tags": []
   },
   "source": [
    "### Criando funções"
   ]
  },
  {
   "cell_type": "code",
   "execution_count": 38,
   "metadata": {},
   "outputs": [],
   "source": [
    "# Criando métricas RSS e R²\n",
    "def calc_rss(y,predicted):\n",
    "    return float(((predicted - y) ** 2).sum())\n",
    "    \n",
    "def calc_r2(y,predicted):\n",
    "    return r2_score(predicted,y)"
   ]
  },
  {
   "cell_type": "code",
   "execution_count": 49,
   "metadata": {},
   "outputs": [],
   "source": [
    "def reg_linear(dados, atributo_independente, atributo_dependente):\n",
    "    'Função responsável por separar os dados, realizar a regressão e plotar as informações'\n",
    "    \n",
    "    # Separando os valores preditores/independentes (X) e resposta/dependentes (y) \n",
    "    X = dados.loc[:,[atributo_independente]]\n",
    "    y = dados.loc[:,[atributo_dependente]]\n",
    "    \n",
    "    # Treinando o modelo e fazendo predição\n",
    "    reg = LinearRegression().fit(X,y)\n",
    "    y_pred = reg.predict(X)\n",
    "    \n",
    "    # Plotando dados\n",
    "    plt.scatter(X, y,color='g')\n",
    "    plt.plot(X, y_pred,color='k')\n",
    "    plt.xlabel(atributo_independente)\n",
    "    plt.ylabel(atributo_dependente)\n",
    "    \n",
    "    # Mostrando resultados através das métricas R² E RSS\n",
    "    rss = calc_rss(y,y_pred)\n",
    "    r2 = calc_r2(y,y_pred)\n",
    "    print('Métrica RSS:', rss)\n",
    "    print(f'Métrica R²: {r2}')"
   ]
  },
  {
   "cell_type": "markdown",
   "metadata": {},
   "source": [
    "###  Regressão utilizando o atributo quartos"
   ]
  },
  {
   "cell_type": "code",
   "execution_count": 50,
   "metadata": {},
   "outputs": [
    {
     "name": "stdout",
     "output_type": "stream",
     "text": [
      "Métrica RSS: 578535325112.5249\n",
      "Métrica R²: -3.112607855431998\n"
     ]
    },
    {
     "data": {
      "image/png": "[encoded data removed]",
      "text/plain": [
       "<Figure size 432x288 with 1 Axes>"
      ]
     },
     "metadata": {
      "needs_background": "light"
     },
     "output_type": "display_data"
    }
   ],
   "source": [
    "dados_por = pd.read_csv('data/Portland_housePrices.csv', index_col=None)\n",
    "\n",
    "quartos = reg_linear(dados_por, 'quartos', 'preco')"
   ]
  },
  {
   "cell_type": "markdown",
   "metadata": {},
   "source": [
    "### Regressão utilizando o atributo tamanho"
   ]
  },
  {
   "cell_type": "code",
   "execution_count": 51,
   "metadata": {},
   "outputs": [
    {
     "name": "stdout",
     "output_type": "stream",
     "text": [
      "Métrica RSS: 193464477600.7059\n",
      "Métrica R²: 0.6320180251851149\n"
     ]
    },
    {
     "data": {
      "image/png": "[encoded data removed]",
      "text/plain": [
       "<Figure size 432x288 with 1 Axes>"
      ]
     },
     "metadata": {
      "needs_background": "light"
     },
     "output_type": "display_data"
    }
   ],
   "source": [
    "tamanho = reg_linear(dados_por, 'tamanho', 'preco')"
   ]
  },
  {
   "cell_type": "markdown",
   "metadata": {},
   "source": [
    "### Conclusão"
   ]
  },
  {
   "cell_type": "markdown",
   "metadata": {},
   "source": [
    "O atributo mais razoável é o tamanho das casas, com o número de quartos o aprendizado foi ruim devido aos dados não possuírem uma forma linear pois são dados discretos, já com o tamanho foi possível obter um melhor aprendizado.\n",
    "\n"
   ]
  },
  {
   "cell_type": "code",
   "execution_count": 14,
   "metadata": {},
   "outputs": [],
   "source": [
    "import numpy as np\n",
    "dados = np.array([[1, 1], [2, 3], [3, 3], [4, 5], [5, 5], [6, 7], [7, 7]])"
   ]
  },
  {
   "cell_type": "code",
   "execution_count": 15,
   "metadata": {},
   "outputs": [
    {
     "data": {
      "text/html": [
       "<div>\n",
       "<style scoped>\n",
       "    .dataframe tbody tr th:only-of-type {\n",
       "        vertical-align: middle;\n",
       "    }\n",
       "\n",
       "    .dataframe tbody tr th {\n",
       "        vertical-align: top;\n",
       "    }\n",
       "\n",
       "    .dataframe thead th {\n",
       "        text-align: right;\n",
       "    }\n",
       "</style>\n",
       "<table border=\"1\" class=\"dataframe\">\n",
       "  <thead>\n",
       "    <tr style=\"text-align: right;\">\n",
       "      <th></th>\n",
       "      <th>A</th>\n",
       "      <th>B</th>\n",
       "    </tr>\n",
       "  </thead>\n",
       "  <tbody>\n",
       "    <tr>\n",
       "      <th>0</th>\n",
       "      <td>1</td>\n",
       "      <td>1</td>\n",
       "    </tr>\n",
       "    <tr>\n",
       "      <th>1</th>\n",
       "      <td>2</td>\n",
       "      <td>3</td>\n",
       "    </tr>\n",
       "    <tr>\n",
       "      <th>2</th>\n",
       "      <td>3</td>\n",
       "      <td>3</td>\n",
       "    </tr>\n",
       "    <tr>\n",
       "      <th>3</th>\n",
       "      <td>4</td>\n",
       "      <td>5</td>\n",
       "    </tr>\n",
       "    <tr>\n",
       "      <th>4</th>\n",
       "      <td>5</td>\n",
       "      <td>5</td>\n",
       "    </tr>\n",
       "    <tr>\n",
       "      <th>5</th>\n",
       "      <td>6</td>\n",
       "      <td>7</td>\n",
       "    </tr>\n",
       "    <tr>\n",
       "      <th>6</th>\n",
       "      <td>7</td>\n",
       "      <td>7</td>\n",
       "    </tr>\n",
       "  </tbody>\n",
       "</table>\n",
       "</div>"
      ],
      "text/plain": [
       "   A  B\n",
       "0  1  1\n",
       "1  2  3\n",
       "2  3  3\n",
       "3  4  5\n",
       "4  5  5\n",
       "5  6  7\n",
       "6  7  7"
      ]
     },
     "execution_count": 15,
     "metadata": {},
     "output_type": "execute_result"
    }
   ],
   "source": [
    "df = pd.DataFrame(data=dados, columns=['A', 'B'])\n",
    "df\n"
   ]
  },
  {
   "cell_type": "code",
   "execution_count": 16,
   "metadata": {},
   "outputs": [
    {
     "data": {
      "text/plain": [
       "array([[1.42857143],\n",
       "       [2.42857143],\n",
       "       [3.42857143],\n",
       "       [4.42857143]])"
      ]
     },
     "execution_count": 16,
     "metadata": {},
     "output_type": "execute_result"
    }
   ],
   "source": [
    "# SEPARANDO OS VALORES PREDITORES/INDEPENDENTES (X) E RESPOSTA/DEPENDENTES (Y)\n",
    "X = df.loc[:,['A']]\n",
    "y = df.loc[:,['B']]\n",
    "\n",
    "#TREINANDO O MODELO\n",
    "reg = LinearRegression().fit(X,y)\n",
    "\n",
    "# PREDIÇÃO\n",
    "y_hat = reg.predict(X[0:4])\n",
    "y_hat\n"
   ]
  },
  {
   "cell_type": "code",
   "execution_count": 17,
   "metadata": {},
   "outputs": [
    {
     "data": {
      "text/plain": [
       "Text(0, 0.5, 'B')"
      ]
     },
     "execution_count": 17,
     "metadata": {},
     "output_type": "execute_result"
    },
    {
     "data": {
      "image/png": "[encoded data removed]",
      "text/plain": [
       "<Figure size 432x288 with 1 Axes>"
      ]
     },
     "metadata": {
      "needs_background": "light"
     },
     "output_type": "display_data"
    }
   ],
   "source": [
    "plt.scatter(X, y,color='g')\n",
    "plt.plot(X, reg.predict(X),color='k')\n",
    "plt.xlabel('A')\n",
    "plt.ylabel('B')"
   ]
  },
  {
   "cell_type": "code",
   "execution_count": 18,
   "metadata": {},
   "outputs": [
    {
     "name": "stdout",
     "output_type": "stream",
     "text": [
      "1.7142857142857142\n",
      "0.9387755102040817\n"
     ]
    }
   ],
   "source": [
    "# Avaliando o modelo\n",
    "def calc_r2(y,predicted):\n",
    "    return r2_score(predicted,y)\n",
    "\n",
    "rss = calc_rss(y,reg.predict(X))\n",
    "r2 = calc_r2(y,reg.predict(X))\n",
    "print(rss)\n",
    "print(r2)"
   ]
  },
  {
   "cell_type": "code",
   "execution_count": 19,
   "metadata": {},
   "outputs": [
    {
     "data": {
      "text/plain": [
       "array([[ 8.42857143],\n",
       "       [ 9.42857143],\n",
       "       [10.42857143],\n",
       "       [11.42857143],\n",
       "       [12.42857143],\n",
       "       [13.42857143]])"
      ]
     },
     "execution_count": 19,
     "metadata": {},
     "output_type": "execute_result"
    },
    {
     "data": {
      "image/png": "[encoded data removed]",
      "text/plain": [
       "<Figure size 432x288 with 1 Axes>"
      ]
     },
     "metadata": {
      "needs_background": "light"
     },
     "output_type": "display_data"
    }
   ],
   "source": [
    "d_t = np.array([[8], [9], [10], [11], [12], [13]])\n",
    "\n",
    "# PREDIÇÃO\n",
    "y_t = reg.predict(d_t)\n",
    "plt.scatter(d_t, y_t,color='g')\n",
    "plt.plot(d_t, y_t,color='k')\n",
    "y_t"
   ]
  },
  {
   "cell_type": "markdown",
   "metadata": {},
   "source": [
    "## Exercício 2\n",
    "\n",
    "Treine modelos lineares na base <i>Advertising.csv</i> utilizando apenas um dos atributos preditores.\n",
    "\n",
    "1) Observando visualmente o modelo, qual atributo parece mais razoável? o que foi aprendido com TV, radio ou newspaper?\n",
    "\n",
    "2) Qual dos modelos é melhor? como você chegou a esta conclusão?"
   ]
  },
  {
   "cell_type": "markdown",
   "metadata": {},
   "source": [
    "###  Regressão utilizando o atributo TV"
   ]
  },
  {
   "cell_type": "code",
   "execution_count": 43,
   "metadata": {},
   "outputs": [
    {
     "name": "stdout",
     "output_type": "stream",
     "text": [
      "Métrica RSS: 2102.5305831313512\n",
      "Métrica R²: 0.3656794003764149\n"
     ]
    },
    {
     "data": {
      "image/png": "[encoded data removed]",
      "text/plain": [
       "<Figure size 432x288 with 1 Axes>"
      ]
     },
     "metadata": {
      "needs_background": "light"
     },
     "output_type": "display_data"
    }
   ],
   "source": [
    "# Abrindo arquivo csv Advertising\n",
    "dados_adv = pd.read_csv('data/Advertising.csv', index_col=0)\n",
    "\n",
    "tv = reg_linear(dados_adv, 'TV', 'sales')"
   ]
  },
  {
   "cell_type": "markdown",
   "metadata": {},
   "source": [
    "###  Regressão utilizando o atributo rádio"
   ]
  },
  {
   "cell_type": "code",
   "execution_count": 44,
   "metadata": {},
   "outputs": [
    {
     "name": "stdout",
     "output_type": "stream",
     "text": [
      "Métrica RSS: 3618.479549025088\n",
      "Métrica R²: -1.0117537716572929\n"
     ]
    },
    {
     "data": {
      "image/png": "[encoded data removed]",
      "text/plain": [
       "<Figure size 432x288 with 1 Axes>"
      ]
     },
     "metadata": {
      "needs_background": "light"
     },
     "output_type": "display_data"
    }
   ],
   "source": [
    "radio = reg_linear(dados_adv, 'radio', 'sales')"
   ]
  },
  {
   "cell_type": "markdown",
   "metadata": {},
   "source": [
    "###  Regressão utilizando o atributo newspaper"
   ]
  },
  {
   "cell_type": "code",
   "execution_count": 45,
   "metadata": {},
   "outputs": [
    {
     "name": "stdout",
     "output_type": "stream",
     "text": [
      "Métrica RSS: 5134.804544111939\n",
      "Métrica R²: -17.18632873290735\n"
     ]
    },
    {
     "data": {
      "image/png": "[encoded data removed]",
      "text/plain": [
       "<Figure size 432x288 with 1 Axes>"
      ]
     },
     "metadata": {
      "needs_background": "light"
     },
     "output_type": "display_data"
    }
   ],
   "source": [
    "newspaper = reg_linear(dados_adv, 'newspaper', 'sales')"
   ]
  },
  {
   "cell_type": "markdown",
   "metadata": {},
   "source": [
    "### Conclusão"
   ]
  },
  {
   "cell_type": "markdown",
   "metadata": {},
   "source": [
    "O melhor modelo foi o aprendido com o atributo TV pois possue melhor predição e possui uma melhor metrica do R²."
   ]
  },
  {
   "cell_type": "markdown",
   "metadata": {},
   "source": [
    "## Exercício 3"
   ]
  },
  {
   "cell_type": "markdown",
   "metadata": {},
   "source": [
    "1. Utilizando a API do scikit-learn para criação de partições de treino e teste, refaça a sua regressão nas partições de treino e faça a validação nas partições de teste.\n",
    "\n",
    "    1. Comparar os resultados na partição de treino e teste;\n",
    "    1. Comparar desempenho com a regressão na qual não foi feita a separação entre treino e teste. Você acha que o desempenho deveria ser melhor ou pior nesse caso? É possível dizer que os modelos treinados no dataset completo generalizam?\n"
   ]
  },
  {
   "cell_type": "markdown",
   "metadata": {},
   "source": [
    "### Função para treinar o regressor linear com separação de treino e teste"
   ]
  },
  {
   "cell_type": "code",
   "execution_count": 52,
   "metadata": {},
   "outputs": [],
   "source": [
    "def reg_linear_treino_teste(dados, atributo_independente, atributo_dependente):\n",
    "    # Separando os valores preditores/independentes (X) e resposta/dependentes (y) \n",
    "    X = dados.loc[:,[atributo_independente]]\n",
    "    y = dados.loc[:,[atributo_dependente]]\n",
    "\n",
    "    # Separando o dataset para treino e para teste\n",
    "    from sklearn.model_selection import train_test_split\n",
    "    x_treino, x_teste, y_treino, y_teste = train_test_split(X, y, test_size=0.33, random_state=42)\n",
    "\n",
    "    # Treinando o modelo e fazendo predição\n",
    "    reg = LinearRegression().fit(x_treino,y_treino)\n",
    "    y_pred = reg.predict(x_teste)\n",
    "\n",
    "    # Plotando dados\n",
    "    plt.scatter(X, y,color='g')\n",
    "    plt.plot(x_teste, y_pred,color='k')\n",
    "    plt.xlabel(atributo_independente)\n",
    "    plt.ylabel(atributo_dependente)\n",
    "\n",
    "    # Mostrando resultados através das métricas R² E RSS\n",
    "    rss = calc_rss(y_teste,y_pred)\n",
    "    r2 = calc_r2(y_teste,y_pred)\n",
    "    print('Métrica RSS:', rss)\n",
    "    print(f'Métrica R²: {r2}')"
   ]
  },
  {
   "cell_type": "markdown",
   "metadata": {},
   "source": [
    "### Treinando o modelo com o dataset Portland_housePrices.csv separado com os dados de tamanho e preço "
   ]
  },
  {
   "cell_type": "code",
   "execution_count": 53,
   "metadata": {},
   "outputs": [
    {
     "name": "stdout",
     "output_type": "stream",
     "text": [
      "Métrica RSS: 134086682901.24934\n",
      "Métrica R²: 0.39301821331700204\n"
     ]
    },
    {
     "data": {
      "image/png": "[encoded data removed]",
      "text/plain": [
       "<Figure size 432x288 with 1 Axes>"
      ]
     },
     "metadata": {
      "needs_background": "light"
     },
     "output_type": "display_data"
    }
   ],
   "source": [
    "tamanho = reg_linear_treino_teste(dados_por, 'tamanho', 'preco')"
   ]
  },
  {
   "cell_type": "markdown",
   "metadata": {},
   "source": [
    "O resultado foi pior do que o treino com o dataset inteiro\n"
   ]
  },
  {
   "cell_type": "markdown",
   "metadata": {},
   "source": [
    "### Treinando o modelo com o dataset Advertising.csv separado com os dados de TV e sales "
   ]
  },
  {
   "cell_type": "code",
   "execution_count": 54,
   "metadata": {},
   "outputs": [
    {
     "name": "stdout",
     "output_type": "stream",
     "text": [
      "Métrica RSS: 641.0056895300172\n",
      "Métrica R²: 0.4750669183777888\n"
     ]
    },
    {
     "data": {
      "image/png": "[encoded data removed]",
      "text/plain": [
       "<Figure size 432x288 with 1 Axes>"
      ]
     },
     "metadata": {
      "needs_background": "light"
     },
     "output_type": "display_data"
    }
   ],
   "source": [
    "tv = reg_linear_treino_teste(dados_adv, 'TV', 'sales')"
   ]
  },
  {
   "cell_type": "markdown",
   "metadata": {},
   "source": [
    "O resultado foi melhor do que o treino com o dataset inteiro"
   ]
  },
  {
   "cell_type": "markdown",
   "metadata": {},
   "source": [
    "### Conclusão"
   ]
  },
  {
   "cell_type": "markdown",
   "metadata": {},
   "source": [
    "O dataset Advertising.csv tem 200 amostras e o da portland tem apenas 48, então para a divisão do dataset quanto mais dados tiver melhor será o treino, caso tenha poucos dados o treino com divisão ficará pior."
   ]
  },
  {
   "cell_type": "code",
   "execution_count": null,
   "metadata": {},
   "outputs": [],
   "source": []
  }
 ],
 "metadata": {
  "kernelspec": {
   "display_name": "Python 3 (ipykernel)",
   "language": "python",
   "name": "python3"
  },
  "language_info": {
   "codemirror_mode": {
    "name": "ipython",
    "version": 3
   },
   "file_extension": ".py",
   "mimetype": "text/x-python",
   "name": "python",
   "nbconvert_exporter": "python",
   "pygments_lexer": "ipython3",
   "version": "3.9.7"
  }
 },
 "nbformat": 4,
 "nbformat_minor": 4
}
