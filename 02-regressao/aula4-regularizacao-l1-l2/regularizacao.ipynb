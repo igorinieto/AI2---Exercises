{
 "cells": [
  {
   "cell_type": "markdown",
   "metadata": {},
   "source": [
    "# Regularização"
   ]
  },
  {
   "cell_type": "code",
   "execution_count": 1,
   "metadata": {},
   "outputs": [],
   "source": [
    "import pandas as pd "
   ]
  },
  {
   "cell_type": "code",
   "execution_count": 2,
   "metadata": {},
   "outputs": [],
   "source": [
    "dados_adv = pd.read_csv('data/Advertising.csv', index_col=0)\n",
    "X = dados_adv.loc[:,['TV','radio','newspaper']]\n",
    "y = dados_adv.loc[:,['sales']]"
   ]
  },
  {
   "cell_type": "code",
   "execution_count": 3,
   "metadata": {},
   "outputs": [],
   "source": [
    "from sklearn.model_selection import train_test_split\n",
    "X_train, X_test , y_train, y_test = train_test_split(X, y, test_size=0.5, random_state=1)"
   ]
  },
  {
   "cell_type": "markdown",
   "metadata": {},
   "source": [
    "## Base Line - Regressão Linear"
   ]
  },
  {
   "cell_type": "code",
   "execution_count": 4,
   "metadata": {},
   "outputs": [],
   "source": [
    "from sklearn.linear_model import LinearRegression"
   ]
  },
  {
   "cell_type": "code",
   "execution_count": 5,
   "metadata": {},
   "outputs": [
    {
     "name": "stdout",
     "output_type": "stream",
     "text": [
      "[[0.04471367 0.18303312 0.00443013]]\n"
     ]
    }
   ],
   "source": [
    "linear = LinearRegression().fit(X_train,y_train)\n",
    "print(linear.coef_)"
   ]
  },
  {
   "cell_type": "code",
   "execution_count": 6,
   "metadata": {},
   "outputs": [],
   "source": [
    "from sklearn.metrics import mean_squared_error, r2_score"
   ]
  },
  {
   "cell_type": "code",
   "execution_count": 7,
   "metadata": {},
   "outputs": [
    {
     "name": "stdout",
     "output_type": "stream",
     "text": [
      "Scores R^2 Treino: 0.8792926617864103\n",
      "Scores R^2 Teste:0.9133071815302057\n",
      "MSE: 2.3249640699354255\n"
     ]
    }
   ],
   "source": [
    "r2_score_test = r2_score(y_test,linear.predict(X_test))\n",
    "r2_score_train = r2_score(y_train,linear.predict(X_train))\n",
    "\n",
    "\n",
    "print(f\"Scores R^2 Treino: {str(r2_score_train)}\")\n",
    "\n",
    "\n",
    "print(f\"Scores R^2 Teste:{str(r2_score_test)}\")\n",
    "\n",
    "print(f\"MSE: {mean_squared_error(y_test,linear.predict(X_test))}\") "
   ]
  },
  {
   "cell_type": "markdown",
   "metadata": {},
   "source": [
    "## Regularização L2 - *Ridge*\n",
    "Alpha=0 regressão linear comum"
   ]
  },
  {
   "cell_type": "code",
   "execution_count": 8,
   "metadata": {},
   "outputs": [],
   "source": [
    "from sklearn.linear_model import Ridge"
   ]
  },
  {
   "cell_type": "code",
   "execution_count": 9,
   "metadata": {},
   "outputs": [
    {
     "name": "stdout",
     "output_type": "stream",
     "text": [
      "[[0.04471367 0.18303312 0.00443013]]\n"
     ]
    }
   ],
   "source": [
    "ridge = Ridge(alpha = 0)\n",
    "ridge.fit(X_train, y_train)\n",
    "print(ridge.coef_)"
   ]
  },
  {
   "cell_type": "code",
   "execution_count": 10,
   "metadata": {},
   "outputs": [
    {
     "name": "stdout",
     "output_type": "stream",
     "text": [
      "Scores R^2 Treino: 0.8792926617864103\n",
      "Scores R^2 Teste: 0.9133071815302057\n",
      "MSE: 2.3249640699354255\n"
     ]
    }
   ],
   "source": [
    "r2_ridge_test = r2_score(y_test,ridge.predict(X_test))\n",
    "r2_ridge_train = r2_score(y_train,ridge.predict(X_train))\n",
    "print(f\"Scores R^2 Treino: {str(r2_ridge_train)}\")\n",
    "\n",
    "\n",
    "print(f\"Scores R^2 Teste: {str(r2_ridge_test)}\")\n",
    "print(f\"MSE: {mean_squared_error(y_test,ridge.predict(X_test))}\")"
   ]
  },
  {
   "cell_type": "markdown",
   "metadata": {},
   "source": [
    "Utilizando diferentes valores de Alpha.\n",
    "A cada novo valor de Alpha, os valores dos parâmetros da função de regressão se aproxima de zero"
   ]
  },
  {
   "cell_type": "code",
   "execution_count": 11,
   "metadata": {},
   "outputs": [],
   "source": [
    "import numpy as np"
   ]
  },
  {
   "cell_type": "code",
   "execution_count": 12,
   "metadata": {},
   "outputs": [],
   "source": [
    "alphas = 10**np.linspace(-2,3,100)"
   ]
  },
  {
   "cell_type": "code",
   "execution_count": 13,
   "metadata": {},
   "outputs": [],
   "source": [
    "MSEs  = []\n",
    "coefs = []\n",
    "\n",
    "for a in alphas:\n",
    "    ridge = Ridge(alpha=a, normalize=True)\n",
    "    ridge.fit(X_train, y_train) \n",
    "    MSEs.append(mean_squared_error(y_test,ridge.predict(X_test)))\n",
    "    coefs.append(ridge.coef_.ravel().tolist())\n"
   ]
  },
  {
   "cell_type": "code",
   "execution_count": 14,
   "metadata": {},
   "outputs": [],
   "source": [
    "#np.shape(coefs)\n",
    "coefs = np.array(coefs)"
   ]
  },
  {
   "cell_type": "code",
   "execution_count": 15,
   "metadata": {},
   "outputs": [
    {
     "data": {
      "text/plain": [
       "(100, 3)"
      ]
     },
     "execution_count": 15,
     "metadata": {},
     "output_type": "execute_result"
    }
   ],
   "source": [
    "coefs.shape"
   ]
  },
  {
   "cell_type": "markdown",
   "metadata": {},
   "source": [
    "Vamos verificar a evolução dos valores dos coeficientes conforme o valor de $\\alpha$ muda."
   ]
  },
  {
   "cell_type": "code",
   "execution_count": 16,
   "metadata": {},
   "outputs": [],
   "source": [
    "import matplotlib.pyplot as plt "
   ]
  },
  {
   "cell_type": "code",
   "execution_count": 17,
   "metadata": {},
   "outputs": [
    {
     "data": {
      "text/plain": [
       "Text(0, 0.5, 'Parameters')"
      ]
     },
     "execution_count": 17,
     "metadata": {},
     "output_type": "execute_result"
    },
    {
     "data": {
      "image/png": "[encoded data removed]",
      "text/plain": [
       "<Figure size 432x288 with 1 Axes>"
      ]
     },
     "metadata": {
      "needs_background": "light"
     },
     "output_type": "display_data"
    }
   ],
   "source": [
    "plt.plot(alphas, coefs)\n",
    "plt.xscale('log')\n",
    "plt.xlabel('alpha')\n",
    "plt.ylabel('Parameters')"
   ]
  },
  {
   "cell_type": "markdown",
   "metadata": {},
   "source": [
    "Comparando MSE com diferentes valores de Alpha\n"
   ]
  },
  {
   "cell_type": "code",
   "execution_count": 18,
   "metadata": {},
   "outputs": [
    {
     "data": {
      "image/png": "[encoded data removed]",
      "text/plain": [
       "<Figure size 432x288 with 1 Axes>"
      ]
     },
     "metadata": {
      "needs_background": "light"
     },
     "output_type": "display_data"
    }
   ],
   "source": [
    "plt.plot(alphas, MSEs)\n",
    "#plt.plot(MSEs)\n",
    "plt.xscale('log')\n",
    "plt.ylabel('MSEs')\n",
    "plt.xlabel('alpha')\n",
    "plt.show()"
   ]
  },
  {
   "cell_type": "markdown",
   "metadata": {},
   "source": [
    "### RidgeCV\n",
    "Implementa busca por um alpha por meio de um critério de avaliação (score). Documentação dos [critérios de avaliação](https://scikit-learn.org/stable/modules/model_evaluation.html)\n",
    "Vamos realizar o *fit* do nosso modelo com validação cruzada - vamos fazer múltiplos *fits*, um para cada valor de $\\alpha$"
   ]
  },
  {
   "cell_type": "code",
   "execution_count": 19,
   "metadata": {},
   "outputs": [],
   "source": [
    "from sklearn.linear_model import RidgeCV"
   ]
  },
  {
   "cell_type": "code",
   "execution_count": 20,
   "metadata": {},
   "outputs": [
    {
     "name": "stdout",
     "output_type": "stream",
     "text": [
      "0.01\n",
      "[[0.04427904 0.18104502 0.00498734]]\n",
      "2.3496478939251224\n"
     ]
    }
   ],
   "source": [
    "ridgecv = RidgeCV(alphas=alphas, normalize=True)\n",
    "\n",
    "#ridgecv = RidgeCV(alphas = alphas, scoring = 'r2', normalize = True)\n",
    "#ridgecv = RidgeCV(alphas = alphas, scoring = 'neg_mean_squared_error', normalize = True)\n",
    "#ridgecv = RidgeCV(alphas = alphas, scoring = 'neg_mean_absolute_error', normalize = True)\n",
    "\n",
    "ridgecv.fit(X_train, y_train)\n",
    "print(ridgecv.alpha_)\n",
    "print(ridgecv.coef_)\n",
    "print(mean_squared_error(y_test, ridgecv.predict(X_test)))"
   ]
  },
  {
   "cell_type": "markdown",
   "metadata": {},
   "source": [
    "## Regularização L1 - Lasso\n",
    "Max_iter - número máximo de iterações"
   ]
  },
  {
   "cell_type": "code",
   "execution_count": 21,
   "metadata": {},
   "outputs": [],
   "source": [
    "from sklearn.linear_model import Lasso "
   ]
  },
  {
   "cell_type": "code",
   "execution_count": 22,
   "metadata": {},
   "outputs": [],
   "source": [
    "#lasso = Lasso(max_iter = 10000, normalize = True)\n",
    "MSEs = []\n",
    "coefs = []\n",
    "\n",
    "for a in alphas:\n",
    "    lasso = Lasso(alpha=a, normalize=True)\n",
    "    lasso.fit(X_train, y_train)\n",
    "    MSEs.append(mean_squared_error(y_test,lasso.predict(X_test)))\n",
    "    coefs.append(lasso.coef_)\n",
    "    "
   ]
  },
  {
   "cell_type": "code",
   "execution_count": 23,
   "metadata": {},
   "outputs": [
    {
     "data": {
      "text/plain": [
       "Text(0, 0.5, 'Parameters')"
      ]
     },
     "execution_count": 23,
     "metadata": {},
     "output_type": "execute_result"
    },
    {
     "data": {
      "image/png": "[encoded data removed]",
      "text/plain": [
       "<Figure size 432x288 with 1 Axes>"
      ]
     },
     "metadata": {
      "needs_background": "light"
     },
     "output_type": "display_data"
    }
   ],
   "source": [
    "plt.plot(alphas, coefs)\n",
    "plt.xscale('log')\n",
    "plt.xlabel('alpha')\n",
    "plt.ylabel('Parameters')"
   ]
  },
  {
   "cell_type": "code",
   "execution_count": 24,
   "metadata": {},
   "outputs": [
    {
     "data": {
      "image/png": "[encoded data removed]",
      "text/plain": [
       "<Figure size 432x288 with 1 Axes>"
      ]
     },
     "metadata": {
      "needs_background": "light"
     },
     "output_type": "display_data"
    }
   ],
   "source": [
    "plt.plot(alphas, MSEs)\n",
    "#plt.plot(MSEs)\n",
    "plt.xscale('log')\n",
    "plt.ylabel('MSEs')\n",
    "plt.xlabel('alpha')\n",
    "plt.show()"
   ]
  },
  {
   "cell_type": "markdown",
   "metadata": {},
   "source": [
    "### LassoCV"
   ]
  },
  {
   "cell_type": "code",
   "execution_count": 25,
   "metadata": {},
   "outputs": [],
   "source": [
    "from sklearn.linear_model import LassoCV"
   ]
  },
  {
   "cell_type": "code",
   "execution_count": 26,
   "metadata": {},
   "outputs": [
    {
     "name": "stdout",
     "output_type": "stream",
     "text": [
      "0.01\n"
     ]
    }
   ],
   "source": [
    "#lassocv = LassoCV(alphas = None, cv = 10, max_iter = 100000, normalize = True)\n",
    "\n",
    "lassocv = LassoCV(alphas=alphas, normalize=True)#, cv = 10, max_iter = 100000, normalize = True)\n",
    "lassocv.fit(X_train, y_train.values.ravel())\n",
    "\n",
    "print(lassocv.alpha_)"
   ]
  },
  {
   "cell_type": "code",
   "execution_count": 27,
   "metadata": {},
   "outputs": [
    {
     "name": "stdout",
     "output_type": "stream",
     "text": [
      "2.3249924429292\n",
      "[0.04471272 0.18299814 0.00441754]\n"
     ]
    }
   ],
   "source": [
    "lasso = Lasso(alpha=lassocv.alpha_)\n",
    "lasso.fit(X_train, y_train)\n",
    "print(mean_squared_error(y_test, lasso.predict(X_test)))\n",
    "print(lasso.coef_)"
   ]
  },
  {
   "cell_type": "markdown",
   "metadata": {},
   "source": [
    "## Regularização em Árvores de Regressão\n",
    "Vamos criar um modelo baseline e avaliar o desempenho nas partições de Treino e Teste"
   ]
  },
  {
   "cell_type": "code",
   "execution_count": 28,
   "metadata": {},
   "outputs": [],
   "source": [
    "from sklearn.tree import DecisionTreeRegressor"
   ]
  },
  {
   "cell_type": "code",
   "execution_count": 29,
   "metadata": {},
   "outputs": [
    {
     "name": "stdout",
     "output_type": "stream",
     "text": [
      "Scores R^2 Treino:\n",
      "tree: 1.0\n",
      "Scores R^2 Teste:\n",
      "tree: 0.940309673770442\n",
      "1.6008000000000002\n"
     ]
    }
   ],
   "source": [
    "tree = DecisionTreeRegressor().fit(X_train,y_train)\n",
    "r2_tree = r2_score(y_test,tree.predict(X_test))\n",
    "r2_tree_treino = r2_score(y_train,tree.predict(X_train))\n",
    "\n",
    "print(\"Scores R^2 Treino:\")\n",
    "print(\"tree: \"+str(r2_tree_treino))\n",
    "\n",
    "\n",
    "print(\"Scores R^2 Teste:\")\n",
    "print(\"tree: \"+str(r2_tree))\n",
    "\n",
    "print(mean_squared_error(y_test,tree.predict(X_test))) "
   ]
  },
  {
   "cell_type": "markdown",
   "metadata": {},
   "source": [
    "Vamos regular a profundidade da árvore"
   ]
  },
  {
   "cell_type": "code",
   "execution_count": 30,
   "metadata": {},
   "outputs": [
    {
     "name": "stdout",
     "output_type": "stream",
     "text": [
      "Menor valor de erro na partição de teste: 1.4088\n"
     ]
    }
   ],
   "source": [
    "depth_test =  np.linspace(1., 50., num=100)\n",
    "\n",
    "errors_train = []\n",
    "errors_test = []\n",
    "for depth in depth_test:\n",
    "    #modelo_regularizado =  DecisionTreeRegressor(max_depth=depth).fit(X_train, y_train.values.ravel())\n",
    "    modelo_regularizado =  DecisionTreeRegressor(max_depth=depth).fit(X_train, y_train)\n",
    "    y_pred = modelo_regularizado.predict(X_test)\n",
    "    errors_train.append(mean_squared_error(y_train, modelo_regularizado.predict(X_train)))\n",
    "    errors_test.append(mean_squared_error(y_test, y_pred))\n",
    "\n",
    "errors_test = np.array(errors_test)\n",
    "\n",
    "print(f\"Menor valor de erro na partição de teste: {np.amin(errors_test)}\")\n",
    "\n"
   ]
  },
  {
   "cell_type": "markdown",
   "metadata": {},
   "source": [
    "Vamos visualizar a evolução do `MSE` enquanto variamos a profundidade da árvore."
   ]
  },
  {
   "cell_type": "code",
   "execution_count": 31,
   "metadata": {},
   "outputs": [
    {
     "data": {
      "text/plain": [
       "<matplotlib.legend.Legend at 0x7f5fa838c6d0>"
      ]
     },
     "execution_count": 31,
     "metadata": {},
     "output_type": "execute_result"
    },
    {
     "data": {
      "image/png": "[encoded data removed]",
      "text/plain": [
       "<Figure size 432x288 with 1 Axes>"
      ]
     },
     "metadata": {
      "needs_background": "light"
     },
     "output_type": "display_data"
    }
   ],
   "source": [
    "plt.plot(depth_test, errors_train,color='y',label='regularizado_train')\n",
    "plt.plot(depth_test, errors_test,color='r',label='regularizado_test')    \n",
    "\n",
    "\n",
    "plt.xlabel('max depth')\n",
    "plt.ylabel('mse')\n",
    "plt.legend()"
   ]
  }
 ],
 "metadata": {
  "kernelspec": {
   "display_name": "Python 3 (ipykernel)",
   "language": "python",
   "name": "python3"
  },
  "language_info": {
   "codemirror_mode": {
    "name": "ipython",
    "version": 3
   },
   "file_extension": ".py",
   "mimetype": "text/x-python",
   "name": "python",
   "nbconvert_exporter": "python",
   "pygments_lexer": "ipython3",
   "version": "3.9.7"
  }
 },
 "nbformat": 4,
 "nbformat_minor": 4
}
