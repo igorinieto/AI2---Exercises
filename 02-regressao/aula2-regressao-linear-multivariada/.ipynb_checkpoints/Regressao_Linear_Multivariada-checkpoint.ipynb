{
 "cells": [
  {
   "cell_type": "markdown",
   "metadata": {},
   "source": [
    "## Regressão\n",
    "\n",
    "O objetivo deste exercício é introduzir e praticar conceitos de Regressão. Para isso utilizaremos 2 bases: <i>Advertising.csv</i> e <i>Portland_housePrices.csv</i>"
   ]
  },
  {
   "cell_type": "code",
   "execution_count": 1,
   "metadata": {},
   "outputs": [
    {
     "data": {
      "text/html": [
       "<div>\n",
       "<style scoped>\n",
       "    .dataframe tbody tr th:only-of-type {\n",
       "        vertical-align: middle;\n",
       "    }\n",
       "\n",
       "    .dataframe tbody tr th {\n",
       "        vertical-align: top;\n",
       "    }\n",
       "\n",
       "    .dataframe thead th {\n",
       "        text-align: right;\n",
       "    }\n",
       "</style>\n",
       "<table border=\"1\" class=\"dataframe\">\n",
       "  <thead>\n",
       "    <tr style=\"text-align: right;\">\n",
       "      <th></th>\n",
       "      <th>TV</th>\n",
       "      <th>radio</th>\n",
       "      <th>newspaper</th>\n",
       "      <th>sales</th>\n",
       "    </tr>\n",
       "  </thead>\n",
       "  <tbody>\n",
       "    <tr>\n",
       "      <th>1</th>\n",
       "      <td>230.1</td>\n",
       "      <td>37.8</td>\n",
       "      <td>69.2</td>\n",
       "      <td>22.1</td>\n",
       "    </tr>\n",
       "    <tr>\n",
       "      <th>2</th>\n",
       "      <td>44.5</td>\n",
       "      <td>39.3</td>\n",
       "      <td>45.1</td>\n",
       "      <td>10.4</td>\n",
       "    </tr>\n",
       "    <tr>\n",
       "      <th>3</th>\n",
       "      <td>17.2</td>\n",
       "      <td>45.9</td>\n",
       "      <td>69.3</td>\n",
       "      <td>9.3</td>\n",
       "    </tr>\n",
       "    <tr>\n",
       "      <th>4</th>\n",
       "      <td>151.5</td>\n",
       "      <td>41.3</td>\n",
       "      <td>58.5</td>\n",
       "      <td>18.5</td>\n",
       "    </tr>\n",
       "    <tr>\n",
       "      <th>5</th>\n",
       "      <td>180.8</td>\n",
       "      <td>10.8</td>\n",
       "      <td>58.4</td>\n",
       "      <td>12.9</td>\n",
       "    </tr>\n",
       "  </tbody>\n",
       "</table>\n",
       "</div>"
      ],
      "text/plain": [
       "      TV  radio  newspaper  sales\n",
       "1  230.1   37.8       69.2   22.1\n",
       "2   44.5   39.3       45.1   10.4\n",
       "3   17.2   45.9       69.3    9.3\n",
       "4  151.5   41.3       58.5   18.5\n",
       "5  180.8   10.8       58.4   12.9"
      ]
     },
     "execution_count": 1,
     "metadata": {},
     "output_type": "execute_result"
    }
   ],
   "source": [
    "import pandas as pd\n",
    "\n",
    "dados_adv = pd.read_csv('data/Advertising.csv', index_col=0)\n",
    "dados_adv.head()"
   ]
  },
  {
   "cell_type": "markdown",
   "metadata": {},
   "source": [
    "<i>Advertising</i> é um conjunto de dados relacionando o montante de vendas (<i>sales</i>) com o montante investido em marketing em diferentes médias (<i>TV</i>,<i>radio</i> e <i>newspaper</i>).\n",
    "\n",
    "Por sua vez, <i>Portland_housePrices</i> relaciona o preço de casas com seu tamanho e número de quartos.\n",
    "\n"
   ]
  },
  {
   "cell_type": "code",
   "execution_count": 2,
   "metadata": {},
   "outputs": [
    {
     "data": {
      "text/html": [
       "<div>\n",
       "<style scoped>\n",
       "    .dataframe tbody tr th:only-of-type {\n",
       "        vertical-align: middle;\n",
       "    }\n",
       "\n",
       "    .dataframe tbody tr th {\n",
       "        vertical-align: top;\n",
       "    }\n",
       "\n",
       "    .dataframe thead th {\n",
       "        text-align: right;\n",
       "    }\n",
       "</style>\n",
       "<table border=\"1\" class=\"dataframe\">\n",
       "  <thead>\n",
       "    <tr style=\"text-align: right;\">\n",
       "      <th></th>\n",
       "      <th>tamanho</th>\n",
       "      <th>quartos</th>\n",
       "      <th>preco</th>\n",
       "    </tr>\n",
       "  </thead>\n",
       "  <tbody>\n",
       "    <tr>\n",
       "      <th>0</th>\n",
       "      <td>2104</td>\n",
       "      <td>3</td>\n",
       "      <td>399900</td>\n",
       "    </tr>\n",
       "    <tr>\n",
       "      <th>1</th>\n",
       "      <td>1600</td>\n",
       "      <td>3</td>\n",
       "      <td>329900</td>\n",
       "    </tr>\n",
       "    <tr>\n",
       "      <th>2</th>\n",
       "      <td>2400</td>\n",
       "      <td>3</td>\n",
       "      <td>369000</td>\n",
       "    </tr>\n",
       "    <tr>\n",
       "      <th>3</th>\n",
       "      <td>1416</td>\n",
       "      <td>2</td>\n",
       "      <td>232000</td>\n",
       "    </tr>\n",
       "    <tr>\n",
       "      <th>4</th>\n",
       "      <td>3000</td>\n",
       "      <td>4</td>\n",
       "      <td>539900</td>\n",
       "    </tr>\n",
       "  </tbody>\n",
       "</table>\n",
       "</div>"
      ],
      "text/plain": [
       "   tamanho  quartos   preco\n",
       "0     2104        3  399900\n",
       "1     1600        3  329900\n",
       "2     2400        3  369000\n",
       "3     1416        2  232000\n",
       "4     3000        4  539900"
      ]
     },
     "execution_count": 2,
     "metadata": {},
     "output_type": "execute_result"
    }
   ],
   "source": [
    "dados_por = pd.read_csv('data/Portland_housePrices.csv', index_col=None)\n",
    "dados_por.head()"
   ]
  },
  {
   "cell_type": "markdown",
   "metadata": {},
   "source": [
    "## Como treinar e usar modelos?\n",
    "Para virtualmente qualquer tipo de algoritmo de Regressão, existirá uma função <i>fit</i> para treinar o modelo.\n",
    "\n",
    "Por exemplo, para a regressão linear:\n",
    "\n",
    "```python\n",
    " reg = LinearRegression().fit(X,y)\n",
    "``` \n",
    "\n",
    "Onde <i> X </i> se refere aos atributos de treinamento e <i>y</i> à variável resposta.\n"
   ]
  },
  {
   "cell_type": "code",
   "execution_count": 3,
   "metadata": {},
   "outputs": [
    {
     "data": {
      "text/plain": [
       "LinearRegression()"
      ]
     },
     "execution_count": 3,
     "metadata": {},
     "output_type": "execute_result"
    }
   ],
   "source": [
    "from sklearn.linear_model import LinearRegression\n",
    "#Treina modelo utilizando dados de tamanho para prever preco\n",
    "X = dados_por.loc[:,['tamanho']]\n",
    "y = dados_por.loc[:,['preco']]\n",
    "\n",
    "# TREINANDO O MODELO\n",
    "reg = LinearRegression().fit(X,y)\n",
    "reg"
   ]
  },
  {
   "cell_type": "markdown",
   "metadata": {},
   "source": [
    "Após treinado, o modelo pode ser utilizado para fazer predições (prever <i>y</i> para novos exemplos), através da função <i>predict</i>"
   ]
  },
  {
   "cell_type": "code",
   "execution_count": 4,
   "metadata": {},
   "outputs": [
    {
     "data": {
      "text/plain": [
       "array([[354311.69781212],\n",
       "       [286510.95280112],\n",
       "       [394131.18297731],\n",
       "       [261758.29986059]])"
      ]
     },
     "execution_count": 4,
     "metadata": {},
     "output_type": "execute_result"
    }
   ],
   "source": [
    "y_hat = reg.predict(X[0:4])\n",
    "y_hat"
   ]
  },
  {
   "cell_type": "markdown",
   "metadata": {},
   "source": [
    "# Regressão Linear Multivariada\n",
    "A classe <i>LinearRegression</i> já está implementada de modo a funcionar com múltiplos atributos preditores.\n",
    "\n",
    "Também é possível utilizar o método de <i>Descida de Gradiente</i> através da classe <a href='https://scikit-learn.org/stable/modules/generated/sklearn.linear_model.SGDRegressor.html'>SGDRegressor</a>:\n",
    "    \n"
   ]
  },
  {
   "cell_type": "code",
   "execution_count": 5,
   "metadata": {},
   "outputs": [
    {
     "data": {
      "text/plain": [
       "SGDRegressor(alpha=0, max_iter=5000)"
      ]
     },
     "execution_count": 5,
     "metadata": {},
     "output_type": "execute_result"
    }
   ],
   "source": [
    "from sklearn.linear_model import SGDRegressor\n",
    "reg_grad = SGDRegressor(max_iter=5000,alpha=0) #alpha = 0 significa que o modelo nao usa regularização (a ser explicado nas próximas aulas)\n",
    "\n",
    "# TREINANDO O MODELO\n",
    "reg_grad.fit(X,y.values.ravel())"
   ]
  },
  {
   "cell_type": "code",
   "execution_count": 6,
   "metadata": {},
   "outputs": [
    {
     "data": {
      "text/plain": [
       "Text(0, 0.5, 'Preço')"
      ]
     },
     "execution_count": 6,
     "metadata": {},
     "output_type": "execute_result"
    },
    {
     "data": {
      "image/png": "[encoded data removed]",
      "text/plain": [
       "<Figure size 432x288 with 1 Axes>"
      ]
     },
     "metadata": {
      "needs_background": "light"
     },
     "output_type": "display_data"
    }
   ],
   "source": [
    "from matplotlib import pyplot as plt\n",
    "plt.scatter(X, y,color='g')\n",
    "plt.plot(X, reg_grad.predict(X),color='k')\n",
    "plt.xlabel('Tamanho (pe2)')\n",
    "plt.ylabel('Preço')"
   ]
  },
  {
   "cell_type": "markdown",
   "metadata": {},
   "source": [
    "<b>Entretanto</b>... o algoritmo não aprende quando os dados são usados diretamente.\n",
    "\n",
    "<b>Por quê?</b>\n",
    "\n",
    "A escala dos dados atrapalha o algoritmo. Tente treinar o regressor linear com descida do gradiente <i>depois de normalizar os dados de entrada</i>.\n"
   ]
  },
  {
   "cell_type": "markdown",
   "metadata": {},
   "source": [
    "### Utilizando MaxAbsScaler para normalizar"
   ]
  },
  {
   "cell_type": "code",
   "execution_count": 7,
   "metadata": {},
   "outputs": [
    {
     "name": "stderr",
     "output_type": "stream",
     "text": [
      "/home/igornieto/anaconda3/envs/ML/lib/python3.9/site-packages/sklearn/linear_model/_stochastic_gradient.py:1225: ConvergenceWarning: Maximum number of iteration reached before convergence. Consider increasing max_iter to improve the fit.\n",
      "  warnings.warn(\"Maximum number of iteration reached before \"\n"
     ]
    },
    {
     "data": {
      "text/plain": [
       "SGDRegressor(alpha=0, max_iter=5000)"
      ]
     },
     "execution_count": 7,
     "metadata": {},
     "output_type": "execute_result"
    }
   ],
   "source": [
    "# NORMALIZANDO OS DADOS DE ENTRADA\n",
    "from sklearn.preprocessing import MaxAbsScaler\n",
    "# Instancia o MaxAbsScaler\n",
    "normalizacao_max = MaxAbsScaler()\n",
    "# Analisa os dados e prepara o padronizador\n",
    "dado_max = normalizacao_max.fit(X)\n",
    "# Transforma os dados\n",
    "dado_max = normalizacao_max.transform(X)\n",
    "# TREINANDO O MODELO\n",
    "reg_grad.fit(dado_max,y.values.ravel())"
   ]
  },
  {
   "cell_type": "code",
   "execution_count": 8,
   "metadata": {},
   "outputs": [
    {
     "data": {
      "text/plain": [
       "Text(0, 0.5, 'Preço')"
      ]
     },
     "execution_count": 8,
     "metadata": {},
     "output_type": "execute_result"
    },
    {
     "data": {
      "image/png": "[encoded data removed]",
      "text/plain": [
       "<Figure size 432x288 with 1 Axes>"
      ]
     },
     "metadata": {
      "needs_background": "light"
     },
     "output_type": "display_data"
    }
   ],
   "source": [
    "plt.scatter(dado_max, y,color='g')\n",
    "plt.plot(dado_max, reg_grad.predict(dado_max),color='k')\n",
    "plt.xlabel('Tamanho (pe2)')\n",
    "plt.ylabel('Preço')"
   ]
  },
  {
   "cell_type": "code",
   "execution_count": 43,
   "metadata": {},
   "outputs": [
    {
     "name": "stdout",
     "output_type": "stream",
     "text": [
      "834398137947.8635\n",
      "-39.530538389239275\n"
     ]
    }
   ],
   "source": [
    "from sklearn.metrics import r2_score\n",
    "def calc_rss(y,predicted):\n",
    "    for i in predicted:\n",
    "        return float(((i - y) ** 2).sum())\n",
    "    \n",
    "def calc_r2(y,predicted):\n",
    "   \n",
    "        return r2_score(predicted,y)\n",
    "\n",
    "# AVALIANDO O MODELO\n",
    "rss = calc_rss(y,reg_grad.predict(dado_max))\n",
    "r2 = calc_r2(y,reg_grad.predict(dado_max))\n",
    "print(rss)\n",
    "print(r2)\n"
   ]
  },
  {
   "cell_type": "markdown",
   "metadata": {},
   "source": [
    "### Utilizando MinMaxScaler para normalizar"
   ]
  },
  {
   "cell_type": "code",
   "execution_count": 11,
   "metadata": {},
   "outputs": [
    {
     "data": {
      "text/plain": [
       "SGDRegressor(alpha=0, max_iter=5000)"
      ]
     },
     "execution_count": 11,
     "metadata": {},
     "output_type": "execute_result"
    }
   ],
   "source": [
    "# NORMALIZANDO OS DADOS DE ENTRADA\n",
    "from sklearn.preprocessing import MinMaxScaler\n",
    "# Instancia o MinMaxScaler\n",
    "normalizacao_min = MinMaxScaler()\n",
    "# Analisa os dados e prepara o padronizador\n",
    "dado_min = normalizacao_min.fit(X)\n",
    "# Transforma os dados\n",
    "dado_min = normalizacao_min.transform(X)\n",
    "# TREINANDO O MODELO\n",
    "reg_grad.fit(dado_min,y.values.ravel())"
   ]
  },
  {
   "cell_type": "code",
   "execution_count": 12,
   "metadata": {},
   "outputs": [
    {
     "data": {
      "text/plain": [
       "Text(0, 0.5, 'Preço')"
      ]
     },
     "execution_count": 12,
     "metadata": {},
     "output_type": "execute_result"
    },
    {
     "data": {
      "image/png": "[encoded data removed]",
      "text/plain": [
       "<Figure size 432x288 with 1 Axes>"
      ]
     },
     "metadata": {
      "needs_background": "light"
     },
     "output_type": "display_data"
    }
   ],
   "source": [
    "plt.scatter(dado_min, y,color='g')\n",
    "plt.plot(dado_min, reg_grad.predict(dado_min),color='k')\n",
    "plt.xlabel('Tamanho (pe2)')\n",
    "plt.ylabel('Preço')"
   ]
  },
  {
   "cell_type": "code",
   "execution_count": 13,
   "metadata": {},
   "outputs": [
    {
     "name": "stdout",
     "output_type": "stream",
     "text": [
      "728132471372.9647\n",
      "0.6192831425809187\n"
     ]
    }
   ],
   "source": [
    "# TESTANDO O MODELO\n",
    "rss = calc_rss(y,reg_grad.predict(dado_min))\n",
    "r2 = calc_r2(y,reg_grad.predict(dado_min))\n",
    "print(rss)\n",
    "print(r2)"
   ]
  },
  {
   "cell_type": "markdown",
   "metadata": {},
   "source": [
    "### Utilizando StandardScaler para normalizar"
   ]
  },
  {
   "cell_type": "code",
   "execution_count": 14,
   "metadata": {},
   "outputs": [
    {
     "data": {
      "text/plain": [
       "SGDRegressor(alpha=0, max_iter=5000)"
      ]
     },
     "execution_count": 14,
     "metadata": {},
     "output_type": "execute_result"
    }
   ],
   "source": [
    "# NORMALIZANDO OS DADOS DE ENTRADA\n",
    "from sklearn.preprocessing import StandardScaler\n",
    "# Instancia o StandardScaler\n",
    "normalizacao_std = StandardScaler()\n",
    "# Analisa os dados e prepara o padronizador\n",
    "dado_std = normalizacao_std.fit(X)\n",
    "# Transforma os dados\n",
    "dado_std = normalizacao_std.transform(X)\n",
    "# TREINANDO O MODELO\n",
    "reg_grad.fit(dado_std,y.values.ravel())"
   ]
  },
  {
   "cell_type": "code",
   "execution_count": 15,
   "metadata": {},
   "outputs": [
    {
     "data": {
      "text/plain": [
       "Text(0, 0.5, 'Preço')"
      ]
     },
     "execution_count": 15,
     "metadata": {},
     "output_type": "execute_result"
    },
    {
     "data": {
      "image/png": "[encoded data removed]",
      "text/plain": [
       "<Figure size 432x288 with 1 Axes>"
      ]
     },
     "metadata": {
      "needs_background": "light"
     },
     "output_type": "display_data"
    }
   ],
   "source": [
    "plt.scatter(dado_std, y,color='g')\n",
    "plt.plot(dado_std, reg_grad.predict(dado_std),color='k')\n",
    "plt.xlabel('Tamanho (pe2)')\n",
    "plt.ylabel('Preço')"
   ]
  },
  {
   "cell_type": "code",
   "execution_count": 16,
   "metadata": {},
   "outputs": [
    {
     "name": "stdout",
     "output_type": "stream",
     "text": [
      "728218263525.3765\n",
      "0.6319389685085481\n"
     ]
    }
   ],
   "source": [
    "# AVALIANDO O MODELO\n",
    "rss = calc_rss(y,reg_grad.predict(dado_std))\n",
    "r2 = calc_r2(y,reg_grad.predict(dado_std))\n",
    "print(rss)\n",
    "print(r2)"
   ]
  },
  {
   "cell_type": "markdown",
   "metadata": {},
   "source": [
    "## Exercício 1\n",
    "\n",
    "Para cada um dos conjuntos de treinamento, utilize a função <i>fit</i> múltiplas vezes considerando apenas <i>um</i> atributo preditor.\n",
    "\n",
    "1) O modelo aprendido muda a cada vez que a função <i>fit</i> é utilizada?\n",
    "\n",
    "\n",
    "2) Os modelos finais aprendidos são os mesmos da outra implementação de regressão linear?"
   ]
  },
  {
   "cell_type": "markdown",
   "metadata": {},
   "source": [
    "### Resolução Exercício 1"
   ]
  },
  {
   "cell_type": "markdown",
   "metadata": {},
   "source": [
    "#### Conjunto de dados Advertising.csv utilizando o atributo TV"
   ]
  },
  {
   "cell_type": "code",
   "execution_count": 100,
   "metadata": {},
   "outputs": [],
   "source": [
    "# SEPARANDO OS VALORES PREDITORES/INDEPENDENTES (X_Adv) E RESPOSTA/DEPENDENTES (Y_adv)\n",
    "X_adv = dados_adv.loc[:,['TV']]\n",
    "y_adv = dados_adv.loc[:,['sales']]\n"
   ]
  },
  {
   "cell_type": "markdown",
   "metadata": {},
   "source": [
    " NORMALIZANDO OS DADOS DE ENTRADA COM StandardScaler"
   ]
  },
  {
   "cell_type": "code",
   "execution_count": 18,
   "metadata": {},
   "outputs": [
    {
     "data": {
      "text/plain": [
       "SGDRegressor(alpha=0, max_iter=5000)"
      ]
     },
     "execution_count": 18,
     "metadata": {},
     "output_type": "execute_result"
    }
   ],
   "source": [
    "# Instancia o StandardScaler\n",
    "normalizacao_std = StandardScaler()\n",
    "# Analisa os dados e prepara o padronizador\n",
    "dado_std = normalizacao_std.fit(X_adv)\n",
    "# Transforma os dados\n",
    "dado_std = normalizacao_std.transform(X_adv)\n",
    "# TREINANDO O MODELO\n",
    "reg_grad.fit(dado_std,y_adv.values.ravel()) "
   ]
  },
  {
   "cell_type": "code",
   "execution_count": 19,
   "metadata": {},
   "outputs": [
    {
     "data": {
      "text/plain": [
       "Text(0, 0.5, 'Sales')"
      ]
     },
     "execution_count": 19,
     "metadata": {},
     "output_type": "execute_result"
    },
    {
     "data": {
      "image/png": "[encoded data removed]",
      "text/plain": [
       "<Figure size 432x288 with 1 Axes>"
      ]
     },
     "metadata": {
      "needs_background": "light"
     },
     "output_type": "display_data"
    }
   ],
   "source": [
    "plt.scatter(dado_std, y_adv,color='g')\n",
    "plt.plot(dado_std, reg_grad.predict(dado_std),color='k')\n",
    "plt.xlabel('TV')\n",
    "plt.ylabel('Sales')"
   ]
  },
  {
   "cell_type": "code",
   "execution_count": 20,
   "metadata": {},
   "outputs": [
    {
     "name": "stdout",
     "output_type": "stream",
     "text": [
      "8505.162224293514\n",
      "0.3653908545864418\n"
     ]
    }
   ],
   "source": [
    "# AVALIANDO O MODELO\n",
    "rss = calc_rss(y_adv,reg_grad.predict(dado_std))\n",
    "r2 = calc_r2(y_adv,reg_grad.predict(dado_std))\n",
    "print(rss)\n",
    "print(r2)"
   ]
  },
  {
   "cell_type": "markdown",
   "metadata": {},
   "source": [
    "#### Conjunto de dados Advertising.csv utilizando o atributo Rádio"
   ]
  },
  {
   "cell_type": "code",
   "execution_count": 99,
   "metadata": {},
   "outputs": [],
   "source": [
    "# SEPARANDO OS VALORES PREDITORES/INDEPENDENTES (X_Adv) E RESPOSTA/DEPENDENTES (Y_adv)\n",
    "X_adv = dados_adv.loc[:,['radio']]\n",
    "y_adv = dados_adv.loc[:,['sales']]"
   ]
  },
  {
   "cell_type": "markdown",
   "metadata": {},
   "source": [
    " NORMALIZANDO OS DADOS DE ENTRADA COM StandardScaler"
   ]
  },
  {
   "cell_type": "code",
   "execution_count": 22,
   "metadata": {},
   "outputs": [
    {
     "data": {
      "text/plain": [
       "SGDRegressor(alpha=0, max_iter=5000)"
      ]
     },
     "execution_count": 22,
     "metadata": {},
     "output_type": "execute_result"
    }
   ],
   "source": [
    "# Instancia o StandardScaler\n",
    "normalizacao_std = StandardScaler()\n",
    "# Analisa os dados e prepara o padronizador\n",
    "dado_std = normalizacao_std.fit(X_adv)\n",
    "# Transforma os dados\n",
    "dado_std = normalizacao_std.transform(X_adv)\n",
    "#TREINANDO O MODELO\n",
    "reg_grad.fit(dado_std,y_adv.values.ravel())  "
   ]
  },
  {
   "cell_type": "code",
   "execution_count": 23,
   "metadata": {},
   "outputs": [
    {
     "data": {
      "text/plain": [
       "Text(0, 0.5, 'Sales')"
      ]
     },
     "execution_count": 23,
     "metadata": {},
     "output_type": "execute_result"
    },
    {
     "data": {
      "image/png": "[encoded data removed]",
      "text/plain": [
       "<Figure size 432x288 with 1 Axes>"
      ]
     },
     "metadata": {
      "needs_background": "light"
     },
     "output_type": "display_data"
    }
   ],
   "source": [
    "plt.scatter(dado_std, y_adv,color='g')\n",
    "plt.plot(dado_std, reg_grad.predict(dado_std),color='k')\n",
    "plt.xlabel('Rádio')\n",
    "plt.ylabel('Sales')"
   ]
  },
  {
   "cell_type": "code",
   "execution_count": 24,
   "metadata": {},
   "outputs": [
    {
     "name": "stdout",
     "output_type": "stream",
     "text": [
      "7146.8437080834865\n",
      "-1.0082920305346077\n"
     ]
    }
   ],
   "source": [
    "# AVALIANDO O MODELO\n",
    "rss = calc_rss(y_adv,reg_grad.predict(dado_std))\n",
    "r2 = calc_r2(y_adv,reg_grad.predict(dado_std))\n",
    "print(rss)\n",
    "print(r2)"
   ]
  },
  {
   "cell_type": "markdown",
   "metadata": {},
   "source": [
    "#### Conjunto de dados Portland_housePrices.csv utilizando o atributo tamanho"
   ]
  },
  {
   "cell_type": "code",
   "execution_count": 104,
   "metadata": {},
   "outputs": [],
   "source": [
    "# SEPARANDO OS VALORES PREDITORES/INDEPENDENTES (X) E RESPOSTA/DEPENDENTES (Y)\n",
    "X = dados_por.loc[:,['tamanho']]\n",
    "y = dados_por.loc[:,['preco']]"
   ]
  },
  {
   "cell_type": "code",
   "execution_count": 105,
   "metadata": {},
   "outputs": [
    {
     "data": {
      "text/plain": [
       "SGDRegressor(alpha=0, max_iter=5000)"
      ]
     },
     "execution_count": 105,
     "metadata": {},
     "output_type": "execute_result"
    }
   ],
   "source": [
    "# Instancia o StandardScaler\n",
    "normalizacao_std = StandardScaler()\n",
    "# Analisa os dados e prepara o padronizador\n",
    "dado_std = normalizacao_std.fit(X)\n",
    "# Transforma os dados\n",
    "dado_std = normalizacao_std.transform(X)\n",
    "#TREINANDO O MODELO\n",
    "reg_grad.fit(dado_std,y.values.ravel())  "
   ]
  },
  {
   "cell_type": "code",
   "execution_count": 106,
   "metadata": {},
   "outputs": [
    {
     "data": {
      "text/plain": [
       "Text(0, 0.5, 'Preço')"
      ]
     },
     "execution_count": 106,
     "metadata": {},
     "output_type": "execute_result"
    },
    {
     "data": {
      "image/png": "[encoded data removed]",
      "text/plain": [
       "<Figure size 432x288 with 1 Axes>"
      ]
     },
     "metadata": {
      "needs_background": "light"
     },
     "output_type": "display_data"
    }
   ],
   "source": [
    "plt.scatter(dado_std, y,color='g')\n",
    "plt.plot(dado_std, reg_grad.predict(dado_std),color='k')\n",
    "plt.xlabel('Tamanho (pe2)')\n",
    "plt.ylabel('Preço')"
   ]
  },
  {
   "cell_type": "code",
   "execution_count": 107,
   "metadata": {},
   "outputs": [
    {
     "name": "stdout",
     "output_type": "stream",
     "text": [
      "727780072918.3746\n",
      "0.6309689744295327\n"
     ]
    }
   ],
   "source": [
    "# AVALIANDO O MODELO\n",
    "rss = calc_rss(y,reg_grad.predict(dado_std))\n",
    "r2 = calc_r2(y,reg_grad.predict(dado_std))\n",
    "print(rss)\n",
    "print(r2)"
   ]
  },
  {
   "cell_type": "markdown",
   "metadata": {},
   "source": [
    "### Respostas\n",
    "1) O modelo aprendido muda a cada vez que a função <i>fit</i> é utilizada?\n",
    "\n",
    "R: SIM.\n",
    "\n",
    "\n",
    "2) Os modelos finais aprendidos são os mesmos da outra implementação de regressão linear?\n",
    "\n",
    "R: Muito parecidos, não são iguais, mas próximos."
   ]
  },
  {
   "cell_type": "markdown",
   "metadata": {},
   "source": [
    "## Exercício 2\n",
    "\n",
    "\n",
    "Aprenda modelos utilizando todos os atributos de entrada.\n",
    "\n",
    "1) Baseado no RSS e no R^2, é possível obter um modelo melhor utilizando todos os dados?\n",
    "\n",
    "2) Existem atributos que poderiam ser desconsiderados sem que fosse afetada a precisão?\n",
    "\n",
    "3) Qual implementação treina mais rápido? A com método dos mínimos quadrados ou a com descida de gradiente?\n"
   ]
  },
  {
   "cell_type": "markdown",
   "metadata": {},
   "source": [
    "### Resolução Exercício 2"
   ]
  },
  {
   "cell_type": "markdown",
   "metadata": {},
   "source": [
    "#### Conjunto de dados Advertising.csv"
   ]
  },
  {
   "cell_type": "code",
   "execution_count": 25,
   "metadata": {},
   "outputs": [],
   "source": [
    "# SEPARANDO OS VALORES PREDITORES/INDEPENDENTES (X_Adv) E RESPOSTA/DEPENDENTES (Y_adv)\n",
    "X_adv = dados_adv.loc[:,['TV', 'radio','newspaper']]\n",
    "y_adv = dados_adv.loc[:,['sales']]"
   ]
  },
  {
   "cell_type": "markdown",
   "metadata": {},
   "source": [
    " NORMALIZANDO OS DADOS DE ENTRADA COM StandardScaler"
   ]
  },
  {
   "cell_type": "code",
   "execution_count": 26,
   "metadata": {},
   "outputs": [
    {
     "data": {
      "text/plain": [
       "0.001378811999984464"
      ]
     },
     "execution_count": 26,
     "metadata": {},
     "output_type": "execute_result"
    }
   ],
   "source": [
    "# Instancia o StandardScaler\n",
    "normalizacao_std = StandardScaler()\n",
    "# Analisa os dados e prepara o padronizador\n",
    "dado_std = normalizacao_std.fit(X_adv)\n",
    "# Transforma os dados\n",
    "dado_std = normalizacao_std.transform(X_adv)\n",
    "\n",
    "# Inicio da verificação do tempo de treino\n",
    "import timeit\n",
    "start_time = timeit.default_timer()\n",
    "\n",
    "reg_grad.fit(dado_std,y_adv.values.ravel()) # Treino do modelo\n",
    "\n",
    "\n",
    "elapsed = timeit.default_timer() - start_time\n",
    "elapsed\n",
    "# Fim da verificação do tempo de treino"
   ]
  },
  {
   "cell_type": "code",
   "execution_count": 27,
   "metadata": {},
   "outputs": [
    {
     "name": "stdout",
     "output_type": "stream",
     "text": [
      "13861.815850629755\n",
      "0.885160643324015\n"
     ]
    }
   ],
   "source": [
    "# AVALIANDO O MODELO\n",
    "rss = calc_rss(y_adv,reg_grad.predict(dado_std))\n",
    "r2 = calc_r2(y_adv,reg_grad.predict(dado_std))\n",
    "print(rss)\n",
    "print(r2)"
   ]
  },
  {
   "cell_type": "markdown",
   "metadata": {},
   "source": [
    "#### Conjunto de dados Portland_housePrices.csv"
   ]
  },
  {
   "cell_type": "code",
   "execution_count": 28,
   "metadata": {},
   "outputs": [],
   "source": [
    "# SEPARANDO OS VALORES PREDITORES/INDEPENDENTES (X) E RESPOSTA/DEPENDENTES (Y)\n",
    "X = dados_por.loc[:,['tamanho']]\n",
    "y = dados_por.loc[:,['preco']]"
   ]
  },
  {
   "cell_type": "markdown",
   "metadata": {},
   "source": [
    " NORMALIZANDO OS DADOS DE ENTRADA COM StandardScaler"
   ]
  },
  {
   "cell_type": "code",
   "execution_count": 55,
   "metadata": {},
   "outputs": [],
   "source": [
    "# Instancia o StandardScaler\n",
    "normalizacao_std = StandardScaler()\n",
    "# Analisa os dados e prepara o padronizador\n",
    "dado_std = normalizacao_std.fit(X)\n",
    "# Transforma os dados\n",
    "dado_std = normalizacao_std.transform(X)"
   ]
  },
  {
   "cell_type": "markdown",
   "metadata": {},
   "source": [
    "TREINANDO O MODELO"
   ]
  },
  {
   "cell_type": "code",
   "execution_count": 56,
   "metadata": {},
   "outputs": [
    {
     "data": {
      "text/plain": [
       "SGDRegressor(alpha=0, max_iter=5000)"
      ]
     },
     "execution_count": 56,
     "metadata": {},
     "output_type": "execute_result"
    }
   ],
   "source": [
    "reg_grad.fit(dado_std,y.values.ravel())"
   ]
  },
  {
   "cell_type": "markdown",
   "metadata": {},
   "source": [
    "AVALIANDO O MODELO"
   ]
  },
  {
   "cell_type": "code",
   "execution_count": 57,
   "metadata": {},
   "outputs": [
    {
     "name": "stdout",
     "output_type": "stream",
     "text": [
      "727825126207.1349\n",
      "0.6310092943641099\n"
     ]
    }
   ],
   "source": [
    "rss = calc_rss(y,reg_grad.predict(dado_std))\n",
    "r2 = calc_r2(y,reg_grad.predict(dado_std))\n",
    "print(rss)\n",
    "print(r2)"
   ]
  },
  {
   "cell_type": "markdown",
   "metadata": {},
   "source": [
    "### Respostas"
   ]
  },
  {
   "cell_type": "markdown",
   "metadata": {},
   "source": [
    "1) Baseado no RSS e no R^2, é possível obter um modelo melhor utilizando todos os dados?\n",
    "\n",
    "R: Sim, é possivel.\n",
    "\n",
    "2) Existem atributos que poderiam ser desconsiderados sem que fosse afetada a precisão?\n",
    "\n",
    "R: Sim, o atributo QUARTOS e NEWSPAPER poderiam ser desconsiderados\n",
    "\n",
    "3) Qual implementação treina mais rápido? A com método dos mínimos quadrados ou a com descida de gradiente?\n",
    "\n",
    "R: Sem contar o tempo para normalização dos dados o método com a descida de gradiente com todos os atributos é mais rápido do que o método dos minimos quadrados."
   ]
  },
  {
   "cell_type": "markdown",
   "metadata": {},
   "source": [
    "# Exercício 3\n",
    "\n",
    "Realizar a análise da qualidade dos preditores utilizados no modelo construído.\n",
    "\n",
    "1) Construir o plot de resíduos. Será que os resíduos estão aleatoriamente distribuídos ao redor de 0?\n",
    "\n",
    "2) Calcular os valores p para os preditores utilizados no modelo de regressão. Utilize [esse link](https://stackoverflow.com/a/42677750) como referência. Utilizar essa técnica para selecionar variáveis preditivas. Comparar o desempenho do modelo construído a partir de variáveis preditivas com melhores valores p com um modelo que contêm todas as variáveis.\n"
   ]
  },
  {
   "cell_type": "markdown",
   "metadata": {},
   "source": [
    "### Resolução Exercício 3.1 - Plot de residuos utilizando o conjunto de dados Portland_housePrices.csv"
   ]
  },
  {
   "cell_type": "code",
   "execution_count": 33,
   "metadata": {},
   "outputs": [],
   "source": [
    "import numpy as np \n",
    "\n",
    "def cal_residuos(y, y_hat): \n",
    "    \"\"\"FAZ O CÁLCULO DOS RESÍDUOS\"\"\"  \n",
    "    #residuo = y - y_hat\n",
    "    \n",
    "    res = []\n",
    "    for i in range(len(y)):\n",
    "\n",
    "        res.append(float(y.iloc[i,0]) - y_hat[i])\n",
    "\n",
    "        #print(y.iloc[i,0])\n",
    "        #print(y_hat[i])\n",
    "    residuos = np.array(res)\n",
    "    return residuos\n",
    "\n",
    "y_hat = reg_grad.predict(dado_std) # PREDIÇÃO\n",
    "\n",
    "residuos = cal_residuos(y, y_hat)\n"
   ]
  },
  {
   "cell_type": "code",
   "execution_count": 34,
   "metadata": {},
   "outputs": [
    {
     "data": {
      "text/plain": [
       "Text(0, 0.5, 'Resíduo')"
      ]
     },
     "execution_count": 34,
     "metadata": {},
     "output_type": "execute_result"
    },
    {
     "data": {
      "image/png": "[encoded data removed]",
      "text/plain": [
       "<Figure size 432x288 with 1 Axes>"
      ]
     },
     "metadata": {
      "needs_background": "light"
     },
     "output_type": "display_data"
    }
   ],
   "source": [
    "plt.scatter(dado_std, residuos,color='g')\n",
    "#plt.plot(dado_std, reg_grad.predict(dado_std),color='k')\n",
    "plt.xlabel('Tamanho')\n",
    "plt.ylabel('Resíduo')"
   ]
  },
  {
   "cell_type": "markdown",
   "metadata": {},
   "source": [
    "### Resolução Exercício 3.2 -  Calcular os valores p utilizando os dados Portland_housePrices.csv"
   ]
  },
  {
   "cell_type": "code",
   "execution_count": 97,
   "metadata": {},
   "outputs": [],
   "source": [
    "# SEPARANDO OS VALORES PREDITORES/INDEPENDENTES (X) E RESPOSTA/DEPENDENTES (Y)\n",
    "X = dados_por.loc[:,['tamanho', 'quartos']]\n",
    "y = dados_por.loc[:,['preco']]\n"
   ]
  },
  {
   "cell_type": "markdown",
   "metadata": {},
   "source": [
    "NORMALIZANDO OS DADOS DE ENTRADA COM StandardScaler"
   ]
  },
  {
   "cell_type": "code",
   "execution_count": 79,
   "metadata": {},
   "outputs": [],
   "source": [
    "# Instancia o StandardScaler\n",
    "normalizacao_std = StandardScaler()\n",
    "# Analisa os dados e prepara o padronizador\n",
    "dado_std = normalizacao_std.fit(X)\n",
    "# Transforma os dados\n",
    "dado_std = normalizacao_std.transform(X)\n"
   ]
  },
  {
   "cell_type": "markdown",
   "metadata": {},
   "source": [
    "F-TEST ( encontrando os valores de p)"
   ]
  },
  {
   "cell_type": "code",
   "execution_count": 81,
   "metadata": {},
   "outputs": [
    {
     "name": "stdout",
     "output_type": "stream",
     "text": [
      "                            OLS Regression Results                            \n",
      "==============================================================================\n",
      "Dep. Variable:                  preco   R-squared:                       0.733\n",
      "Model:                            OLS   Adj. R-squared:                  0.721\n",
      "Method:                 Least Squares   F-statistic:                     60.38\n",
      "Date:                Wed, 21 Jul 2021   Prob (F-statistic):           2.43e-13\n",
      "Time:                        12:04:02   Log-Likelihood:                -586.77\n",
      "No. Observations:                  47   AIC:                             1180.\n",
      "Df Residuals:                      44   BIC:                             1185.\n",
      "Df Model:                           2                                         \n",
      "Covariance Type:            nonrobust                                         \n",
      "==============================================================================\n",
      "                 coef    std err          t      P>|t|      [0.025      0.975]\n",
      "------------------------------------------------------------------------------\n",
      "const       3.404e+05   9637.239     35.323      0.000    3.21e+05     3.6e+05\n",
      "x1          1.094e+05   1.16e+04      9.409      0.000     8.6e+04    1.33e+05\n",
      "x2         -6578.3549   1.16e+04     -0.566      0.575      -3e+04    1.69e+04\n",
      "==============================================================================\n",
      "Omnibus:                        4.083   Durbin-Watson:                   1.826\n",
      "Prob(Omnibus):                  0.130   Jarque-Bera (JB):                2.977\n",
      "Skew:                           0.567   Prob(JB):                        0.226\n",
      "Kurtosis:                       3.484   Cond. No.                         1.88\n",
      "==============================================================================\n",
      "\n",
      "Notes:\n",
      "[1] Standard Errors assume that the covariance matrix of the errors is correctly specified.\n"
     ]
    }
   ],
   "source": [
    "import statsmodels.api as sm\n",
    "from scipy import stats\n",
    "\n",
    "X2 = sm.add_constant(dado_std)\n",
    "est = sm.OLS(y, X2)\n",
    "est2 = est.fit()\n",
    "print(est2.summary())"
   ]
  },
  {
   "cell_type": "markdown",
   "metadata": {},
   "source": [
    "### Resolução Exercício 3.2 -  Calcular os valores p utilizando os dados Advertising.csv"
   ]
  },
  {
   "cell_type": "code",
   "execution_count": 98,
   "metadata": {},
   "outputs": [],
   "source": [
    "# SEPARANDO OS VALORES PREDITORES/INDEPENDENTES (X_adv) E RESPOSTA/DEPENDENTES (Y_adv)\n",
    "X_adv = dados_adv.loc[:,['TV', 'radio','newspaper']]\n",
    "y_adv = dados_adv.loc[:,['sales']]"
   ]
  },
  {
   "cell_type": "markdown",
   "metadata": {},
   "source": [
    "NORMALIZANDO OS DADOS DE ENTRADA COM StandardScaler"
   ]
  },
  {
   "cell_type": "code",
   "execution_count": 95,
   "metadata": {},
   "outputs": [],
   "source": [
    "# Instancia o StandardScaler\n",
    "normalizacao_std = StandardScaler()\n",
    "# Analisa os dados e prepara o padronizador\n",
    "dado_std = normalizacao_std.fit(X_adv)\n",
    "# Transforma os dados\n",
    "dado_std = normalizacao_std.transform(X_adv)"
   ]
  },
  {
   "cell_type": "markdown",
   "metadata": {},
   "source": [
    "F-TEST ( encontrando os valores de p)"
   ]
  },
  {
   "cell_type": "code",
   "execution_count": 96,
   "metadata": {},
   "outputs": [
    {
     "name": "stdout",
     "output_type": "stream",
     "text": [
      "                            OLS Regression Results                            \n",
      "==============================================================================\n",
      "Dep. Variable:                  sales   R-squared:                       0.897\n",
      "Model:                            OLS   Adj. R-squared:                  0.896\n",
      "Method:                 Least Squares   F-statistic:                     570.3\n",
      "Date:                Wed, 21 Jul 2021   Prob (F-statistic):           1.58e-96\n",
      "Time:                        12:06:29   Log-Likelihood:                -386.18\n",
      "No. Observations:                 200   AIC:                             780.4\n",
      "Df Residuals:                     196   BIC:                             793.6\n",
      "Df Model:                           3                                         \n",
      "Covariance Type:            nonrobust                                         \n",
      "==============================================================================\n",
      "                 coef    std err          t      P>|t|      [0.025      0.975]\n",
      "------------------------------------------------------------------------------\n",
      "const         14.0225      0.119    117.655      0.000      13.787      14.258\n",
      "x1             3.9193      0.119     32.809      0.000       3.684       4.155\n",
      "x2             2.7921      0.128     21.893      0.000       2.541       3.044\n",
      "x3            -0.0225      0.128     -0.177      0.860      -0.274       0.229\n",
      "==============================================================================\n",
      "Omnibus:                       60.414   Durbin-Watson:                   2.084\n",
      "Prob(Omnibus):                  0.000   Jarque-Bera (JB):              151.241\n",
      "Skew:                          -1.327   Prob(JB):                     1.44e-33\n",
      "Kurtosis:                       6.332   Cond. No.                         1.46\n",
      "==============================================================================\n",
      "\n",
      "Notes:\n",
      "[1] Standard Errors assume that the covariance matrix of the errors is correctly specified.\n"
     ]
    }
   ],
   "source": [
    "import statsmodels.api as sm\n",
    "from scipy import stats\n",
    "\n",
    "X2 = sm.add_constant(dado_std)\n",
    "est = sm.OLS(y_adv, X2)\n",
    "est2 = est.fit()\n",
    "print(est2.summary())"
   ]
  },
  {
   "cell_type": "markdown",
   "metadata": {},
   "source": [
    "### Respostas "
   ]
  },
  {
   "cell_type": "markdown",
   "metadata": {},
   "source": [
    "1) Construir o plot de resíduos. Será que os resíduos estão aleatoriamente distribuídos ao redor de 0?\n",
    "\n",
    "R: Sim, com isso nosso modelo está bom. Pois se os resíduos estivessem distribuidos em algum padrão o modelo estaria com algumas informações explicativas vazadas para o erro supostamente aleatório.\n",
    "\n",
    "2) Calcular os valores p para os preditores utilizados no modelo de regressão. Utilize [esse link](https://stackoverflow.com/a/42677750) como referência. Utilizar essa técnica para selecionar variáveis preditivas. Comparar o desempenho do modelo construído a partir de variáveis preditivas com melhores valores p com um modelo que contêm todas as variáveis.\n",
    "\n",
    "R: Segundo a coluna P>|t| ( que é o valor-p) o atributo x3(newspaper) do conjunto Advertising.csv tem pouca significância na resposta do modelo (y), então se treinar o modelo sem esse preditor não reduzirá o desempenho do modelo. E no conjunto Portland_housePrices.csv o atributo x2(quartos) também tem pouca significância."
   ]
  },
  {
   "cell_type": "markdown",
   "metadata": {},
   "source": [
    "# Exercício 4\n",
    "\n",
    "Realizar o teste para descobrir multicolinearidade entre variáveis preditivas;\n",
    "\n",
    "1) Utilizando [esse link](https://www.geeksforgeeks.org/detecting-multicollinearity-with-vif-python/) fazer o cáclulo do fator de inflação da variância (*Variance Inflation Factor - VIF*). Existe alguma evidência de multicolinearidade entre as variáveis preditivas?"
   ]
  },
  {
   "cell_type": "markdown",
   "metadata": {},
   "source": [
    "### Resolução Exercício 4"
   ]
  },
  {
   "cell_type": "markdown",
   "metadata": {},
   "source": [
    "#### Calculando o VIF do conjunto Advertising.csv"
   ]
  },
  {
   "cell_type": "code",
   "execution_count": 108,
   "metadata": {},
   "outputs": [],
   "source": [
    "from statsmodels.stats.outliers_influence import variance_inflation_factor"
   ]
  },
  {
   "cell_type": "code",
   "execution_count": 138,
   "metadata": {},
   "outputs": [],
   "source": [
    "# SEPARANDO OS VALORES PREDITORES/INDEPENDENTES (X_adv)\n",
    "X_adv = dados_adv.loc[:,['TV', 'radio','newspaper']]\n"
   ]
  },
  {
   "cell_type": "code",
   "execution_count": 137,
   "metadata": {},
   "outputs": [
    {
     "data": {
      "text/plain": [
       "[2.486771835198193, 3.2854621001628947, 3.0552445106573853]"
      ]
     },
     "execution_count": 137,
     "metadata": {},
     "output_type": "execute_result"
    }
   ],
   "source": [
    "# Calculando o valor VIF\n",
    "VIF = [variance_inflation_factor(X_adv.values, i) for i in range(len(X_adv.columns))]\n",
    "VIF"
   ]
  },
  {
   "cell_type": "markdown",
   "metadata": {},
   "source": [
    "#### Calculando o VIF do conjunto Portland_housePrices.csv"
   ]
  },
  {
   "cell_type": "code",
   "execution_count": 139,
   "metadata": {},
   "outputs": [],
   "source": [
    "# SEPARANDO OS VALORES PREDITORES/INDEPENDENTES (X)\n",
    "X = dados_por.loc[:,['tamanho', 'quartos']]"
   ]
  },
  {
   "cell_type": "code",
   "execution_count": 140,
   "metadata": {},
   "outputs": [
    {
     "data": {
      "text/plain": [
       "[10.861137572528593, 10.861137572528593]"
      ]
     },
     "execution_count": 140,
     "metadata": {},
     "output_type": "execute_result"
    }
   ],
   "source": [
    "# Calculando o valor VIF\n",
    "VIF = [variance_inflation_factor(X.values, i) for i in range(len(X.columns))]\n",
    "VIF"
   ]
  },
  {
   "cell_type": "markdown",
   "metadata": {},
   "source": [
    "### Respostas"
   ]
  },
  {
   "cell_type": "markdown",
   "metadata": {},
   "source": [
    "1) Utilizando [esse link](https://www.geeksforgeeks.org/detecting-multicollinearity-with-vif-python/) fazer o cáclulo do fator de inflação da variância (*Variance Inflation Factor - VIF*). Existe alguma evidência de multicolinearidade entre as variáveis preditivas?\n",
    "\n",
    "R: Sim, existe evidência de multicolinearidade entre as variaveis  \"tamanho\" e \"quartos\", pois o VIF é maior que 5"
   ]
  },
  {
   "cell_type": "code",
   "execution_count": null,
   "metadata": {},
   "outputs": [],
   "source": []
  }
 ],
 "metadata": {
  "kernelspec": {
   "display_name": "Python 3",
   "language": "python",
   "name": "python3"
  },
  "language_info": {
   "codemirror_mode": {
    "name": "ipython",
    "version": 3
   },
   "file_extension": ".py",
   "mimetype": "text/x-python",
   "name": "python",
   "nbconvert_exporter": "python",
   "pygments_lexer": "ipython3",
   "version": "3.9.5"
  }
 },
 "nbformat": 4,
 "nbformat_minor": 4
}
