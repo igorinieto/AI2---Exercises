{
 "cells": [
  {
   "cell_type": "markdown",
   "metadata": {},
   "source": [
    "# Regressão Linear Multivariada\n",
    "\n"
   ]
  },
  {
   "cell_type": "markdown",
   "metadata": {
    "tags": []
   },
   "source": [
    "## Exercício 1\n",
    "\n",
    "Para cada um dos conjuntos de treinamento, utilize a função <i>fit</i> múltiplas vezes considerando apenas <i>um</i> atributo preditor.\n",
    "\n",
    "1) O modelo aprendido muda a cada vez que a função <i>fit</i> é utilizada?\n",
    "\n",
    "\n",
    "2) Os modelos finais aprendidos são os mesmos da outra implementação de regressão linear?"
   ]
  },
  {
   "cell_type": "markdown",
   "metadata": {},
   "source": [
    "### Importando as bibliotecas"
   ]
  },
  {
   "cell_type": "code",
   "execution_count": 70,
   "metadata": {},
   "outputs": [],
   "source": [
    "import pandas as pd\n",
    "from sklearn.linear_model import SGDRegressor\n",
    "from matplotlib import pyplot as plt\n",
    "from sklearn.metrics import r2_score\n",
    "from sklearn.preprocessing import MaxAbsScaler\n",
    "from sklearn.preprocessing import MinMaxScaler\n",
    "from sklearn.preprocessing import StandardScaler\n",
    "import timeit"
   ]
  },
  {
   "cell_type": "markdown",
   "metadata": {},
   "source": [
    "### Criando as funções"
   ]
  },
  {
   "cell_type": "code",
   "execution_count": 60,
   "metadata": {},
   "outputs": [],
   "source": [
    "# Criando métricas RSS e R²\n",
    "def calc_rss(y,predicted):\n",
    "    for i in predicted:\n",
    "        return float(((i - y) ** 2).sum())\n",
    "    \n",
    "def calc_r2(y,predicted):\n",
    "   \n",
    "        return r2_score(predicted,y)"
   ]
  },
  {
   "cell_type": "code",
   "execution_count": 61,
   "metadata": {},
   "outputs": [],
   "source": [
    "def max_abs_scaler(dados):\n",
    "    'Função responsável por normalizar dados utilizando o MaxAbsScaler'\n",
    "\n",
    "    # Instancia o MaxAbsScaler\n",
    "    normalizacao_max = MaxAbsScaler()\n",
    "    # Analisa os dados e prepara o padronizador\n",
    "    dado_max = normalizacao_max.fit(dados)\n",
    "    # Transforma os dados\n",
    "    dado_max = normalizacao_max.transform(dados)\n",
    "    \n",
    "    return dado_max"
   ]
  },
  {
   "cell_type": "code",
   "execution_count": 62,
   "metadata": {},
   "outputs": [],
   "source": [
    "def min_max_scaler(dados):\n",
    "    'Função responsável por normalizar dados utilizando o MinMaxScaler'\n",
    "    \n",
    "    # Instancia o MinMaxScaler\n",
    "    normalizacao_min = MinMaxScaler()\n",
    "    # Analisa os dados e prepara o padronizador\n",
    "    dado_min = normalizacao_min.fit(dados)\n",
    "    # Transforma os dados\n",
    "    dado_min = normalizacao_min.transform(dados)\n",
    "    \n",
    "    return dado_min"
   ]
  },
  {
   "cell_type": "code",
   "execution_count": 63,
   "metadata": {},
   "outputs": [],
   "source": [
    "def standard_scaler(dados):\n",
    "    'Função responsável por normalizar dados utilizando o Standard Scaler'\n",
    "    # Instancia o StandardScaler\n",
    "    normalizacao_std = StandardScaler()\n",
    "    # Analisa os dados e prepara o padronizador\n",
    "    dado_std = normalizacao_std.fit(dados)\n",
    "    # Transforma os dados\n",
    "    dado_std = normalizacao_std.transform(dados)\n",
    "\n",
    "    return dado_std"
   ]
  },
  {
   "cell_type": "code",
   "execution_count": 76,
   "metadata": {
    "tags": []
   },
   "outputs": [],
   "source": [
    "def reg_linear_normalizado(dados, atributo_independente, atributo_dependente):\n",
    "    'Função responsável por separar os dados, normalizar, realizar a regressão com'\n",
    "    'descida do gradiente e plotar as informações'\n",
    "    \n",
    "    \n",
    "    # Separando os valores preditores/independentes (X) e resposta/dependentes (y) \n",
    "    X = dados.loc[:,[atributo_independente]]\n",
    "    y = dados.loc[:,[atributo_dependente]]\n",
    "    \n",
    "    # Normalizando os dados\n",
    "    std = standard_scaler(X)\n",
    "    \n",
    "\n",
    "    # Instancia o regressor com descida do gradiente \n",
    "    reg_grad = SGDRegressor(max_iter=5000,alpha=0)\n",
    "    \n",
    "    # Inicio da verificação do tempo de treino\n",
    "    start_time = timeit.default_timer()\n",
    "    \n",
    "    # Treinando o modelo\n",
    "    reg_grad.fit(std,y.values.ravel())\n",
    "    \n",
    "    elapsed = timeit.default_timer() - start_time\n",
    "    # Fim da verificação do tempo de treino\n",
    "    \n",
    "    print('Duração do treino:', elapsed)\n",
    "    \n",
    "    y_pred = reg_grad.predict(std)\n",
    "\n",
    "    # Plotando dados\n",
    "    plt.scatter(std, y,color='g')\n",
    "    plt.plot(std, y_pred,color='k')\n",
    "    plt.xlabel(atributo_independente)\n",
    "    plt.ylabel(atributo_dependente)\n",
    "\n",
    "    # Mostrando resultados através das métricas R² E RSS\n",
    "    rss = calc_rss(y,y_pred)\n",
    "    r2 = calc_r2(y,y_pred)\n",
    "    print('Métrica RSS:', rss)\n",
    "    print(f'Métrica R²: {r2}')"
   ]
  },
  {
   "cell_type": "code",
   "execution_count": 77,
   "metadata": {},
   "outputs": [
    {
     "name": "stdout",
     "output_type": "stream",
     "text": [
      "Duração do treino: 0.0004939999998896383\n",
      "Métrica RSS: 728057894408.693\n",
      "Métrica R²: 0.6310362517721821\n"
     ]
    },
    {
     "data": {
      "image/png": "[encoded data removed]",
      "text/plain": [
       "<Figure size 432x288 with 1 Axes>"
      ]
     },
     "metadata": {
      "needs_background": "light"
     },
     "output_type": "display_data"
    }
   ],
   "source": [
    "# Abrindo arquivo csv Portland\n",
    "dados_por = pd.read_csv('data/Portland_housePrices.csv', index_col=None)\n",
    "\n",
    "tamanho = reg_linear_normalizado(dados_por, 'tamanho', 'preco')\n"
   ]
  },
  {
   "cell_type": "code",
   "execution_count": 78,
   "metadata": {},
   "outputs": [
    {
     "name": "stdout",
     "output_type": "stream",
     "text": [
      "Duração do treino: 0.0005121000031067524\n",
      "Métrica RSS: 8499.249600673465\n",
      "Métrica R²: 0.36269367784931184\n"
     ]
    },
    {
     "data": {
      "image/png": "[encoded data removed]",
      "text/plain": [
       "<Figure size 432x288 with 1 Axes>"
      ]
     },
     "metadata": {
      "needs_background": "light"
     },
     "output_type": "display_data"
    }
   ],
   "source": [
    "# Abrindo arquivo csv Advertising\n",
    "dados_adv = pd.read_csv('data/Advertising.csv', index_col=0)\n",
    "\n",
    "tv = reg_linear_normalizado(dados_adv, 'TV', 'sales')"
   ]
  },
  {
   "cell_type": "code",
   "execution_count": 79,
   "metadata": {},
   "outputs": [
    {
     "name": "stdout",
     "output_type": "stream",
     "text": [
      "Duração do treino: 0.0009938000002875924\n",
      "Métrica RSS: 7127.806882066579\n",
      "Métrica R²: -1.0155291187320583\n"
     ]
    },
    {
     "data": {
      "image/png": "[encoded data removed]",
      "text/plain": [
       "<Figure size 432x288 with 1 Axes>"
      ]
     },
     "metadata": {
      "needs_background": "light"
     },
     "output_type": "display_data"
    }
   ],
   "source": [
    "radio = reg_linear_normalizado(dados_adv, 'radio', 'sales')"
   ]
  },
  {
   "cell_type": "markdown",
   "metadata": {},
   "source": [
    "### Respostas\n",
    "1) O modelo aprendido muda a cada vez que a função <i>fit</i> é utilizada?\n",
    "\n",
    "R: SIM.\n",
    "\n",
    "\n",
    "2) Os modelos finais aprendidos são os mesmos da outra implementação de regressão linear?\n",
    "\n",
    "R: Muito parecidos, não são iguais, mas próximos."
   ]
  },
  {
   "cell_type": "markdown",
   "metadata": {},
   "source": [
    "## Exercício 2\n",
    "\n",
    "\n",
    "Aprenda modelos utilizando todos os atributos de entrada.\n",
    "\n",
    "1) Baseado no RSS e no R^2, é possível obter um modelo melhor utilizando todos os dados?\n",
    "\n",
    "2) Existem atributos que poderiam ser desconsiderados sem que fosse afetada a precisão?\n",
    "\n",
    "3) Qual implementação treina mais rápido? A com método dos mínimos quadrados ou a com descida de gradiente?\n"
   ]
  },
  {
   "cell_type": "markdown",
   "metadata": {},
   "source": [
    "### Resolução Exercício 2"
   ]
  },
  {
   "cell_type": "markdown",
   "metadata": {},
   "source": [
    "#### Conjunto de dados Advertising.csv"
   ]
  },
  {
   "cell_type": "code",
   "execution_count": 82,
   "metadata": {},
   "outputs": [],
   "source": [
    "# SEPARANDO OS VALORES PREDITORES/INDEPENDENTES (X_Adv) E RESPOSTA/DEPENDENTES (Y_adv)\n",
    "X_adv = dados_adv.loc[:,['TV', 'radio','newspaper']]\n",
    "y_adv = dados_adv.loc[:,['sales']]"
   ]
  },
  {
   "cell_type": "code",
   "execution_count": 86,
   "metadata": {},
   "outputs": [
    {
     "name": "stdout",
     "output_type": "stream",
     "text": [
      "Duração do treino: 0.0010271999999531545\n"
     ]
    }
   ],
   "source": [
    "# Normalizando os dados\n",
    "std = standard_scaler(X_adv)\n",
    "# Instancia o regressor com descida do gradiente \n",
    "reg_grad = SGDRegressor(max_iter=5000,alpha=0)\n",
    "# Inicio da verificação do tempo de treino\n",
    "start_time = timeit.default_timer()\n",
    "# Treinando o modelo\n",
    "reg_grad.fit(std,y_adv.values.ravel())\n",
    "elapsed = timeit.default_timer() - start_time\n",
    "# Fim da verificação do tempo de treino\n",
    "print('Duração do treino:', elapsed)\n",
    "y_pred = reg_grad.predict(std)"
   ]
  },
  {
   "cell_type": "code",
   "execution_count": 87,
   "metadata": {},
   "outputs": [
    {
     "name": "stdout",
     "output_type": "stream",
     "text": [
      "13869.042178816271\n",
      "0.8850635446116569\n"
     ]
    }
   ],
   "source": [
    "# AVALIANDO O MODELO\n",
    "rss = calc_rss(y_adv,y_pred)\n",
    "r2 = calc_r2(y_adv,y_pred)\n",
    "print(rss)\n",
    "print(r2)"
   ]
  },
  {
   "cell_type": "markdown",
   "metadata": {},
   "source": [
    "#### Conjunto de dados Portland_housePrices.csv"
   ]
  },
  {
   "cell_type": "code",
   "execution_count": 88,
   "metadata": {},
   "outputs": [],
   "source": [
    "# SEPARANDO OS VALORES PREDITORES/INDEPENDENTES (X) E RESPOSTA/DEPENDENTES (Y)\n",
    "X = dados_por.loc[:,['tamanho']]\n",
    "y = dados_por.loc[:,['preco']]"
   ]
  },
  {
   "cell_type": "code",
   "execution_count": 89,
   "metadata": {},
   "outputs": [],
   "source": [
    "# Instancia o StandardScaler\n",
    "normalizacao_std = StandardScaler()\n",
    "# Analisa os dados e prepara o padronizador\n",
    "dado_std = normalizacao_std.fit(X)\n",
    "# Transforma os dados\n",
    "dado_std = normalizacao_std.transform(X)"
   ]
  },
  {
   "cell_type": "code",
   "execution_count": 90,
   "metadata": {},
   "outputs": [
    {
     "data": {
      "text/plain": [
       "SGDRegressor(alpha=0, max_iter=5000)"
      ]
     },
     "execution_count": 90,
     "metadata": {},
     "output_type": "execute_result"
    }
   ],
   "source": [
    "# Treinando o modelo\n",
    "reg_grad = SGDRegressor(max_iter=5000,alpha=0)\n",
    "reg_grad.fit(dado_std,y.values.ravel())"
   ]
  },
  {
   "cell_type": "code",
   "execution_count": 91,
   "metadata": {},
   "outputs": [
    {
     "name": "stdout",
     "output_type": "stream",
     "text": [
      "728175954316.3481\n",
      "0.6313647907530966\n"
     ]
    }
   ],
   "source": [
    "# Avaliando o modelo\n",
    "rss = calc_rss(y,reg_grad.predict(dado_std))\n",
    "r2 = calc_r2(y,reg_grad.predict(dado_std))\n",
    "print(rss)\n",
    "print(r2)"
   ]
  },
  {
   "cell_type": "markdown",
   "metadata": {},
   "source": [
    "### Respostas"
   ]
  },
  {
   "cell_type": "markdown",
   "metadata": {},
   "source": [
    "1) Baseado no RSS e no R^2, é possível obter um modelo melhor utilizando todos os dados?\n",
    "\n",
    "R: Sim, é possivel.\n",
    "\n",
    "2) Existem atributos que poderiam ser desconsiderados sem que fosse afetada a precisão?\n",
    "\n",
    "R: Sim, o atributo QUARTOS e NEWSPAPER poderiam ser desconsiderados\n",
    "\n",
    "3) Qual implementação treina mais rápido? A com método dos mínimos quadrados ou a com descida de gradiente?\n",
    "\n",
    "R: Sem contar o tempo para normalização dos dados o método com a descida de gradiente com todos os atributos é mais rápido do que o método dos minimos quadrados."
   ]
  },
  {
   "cell_type": "markdown",
   "metadata": {},
   "source": [
    "# Exercício 3\n",
    "\n",
    "Realizar a análise da qualidade dos preditores utilizados no modelo construído.\n",
    "\n",
    "1) Construir o plot de resíduos. Será que os resíduos estão aleatoriamente distribuídos ao redor de 0?\n",
    "\n",
    "2) Calcular os valores p para os preditores utilizados no modelo de regressão. Utilize [esse link](https://stackoverflow.com/a/42677750) como referência. Utilizar essa técnica para selecionar variáveis preditivas. Comparar o desempenho do modelo construído a partir de variáveis preditivas com melhores valores p com um modelo que contêm todas as variáveis.\n"
   ]
  },
  {
   "cell_type": "markdown",
   "metadata": {},
   "source": [
    "### Resolução Exercício 3.1 - Plot de residuos utilizando o conjunto de dados Portland_housePrices.csv"
   ]
  },
  {
   "cell_type": "code",
   "execution_count": 33,
   "metadata": {},
   "outputs": [],
   "source": [
    "import numpy as np \n",
    "\n",
    "def cal_residuos(y, y_hat): \n",
    "    \"\"\"FAZ O CÁLCULO DOS RESÍDUOS\"\"\"  \n",
    "    #residuo = y - y_hat\n",
    "    \n",
    "    res = []\n",
    "    for i in range(len(y)):\n",
    "\n",
    "        res.append(float(y.iloc[i,0]) - y_hat[i])\n",
    "\n",
    "        #print(y.iloc[i,0])\n",
    "        #print(y_hat[i])\n",
    "    residuos = np.array(res)\n",
    "    return residuos\n",
    "\n",
    "y_hat = reg_grad.predict(dado_std) # PREDIÇÃO\n",
    "\n",
    "residuos = cal_residuos(y, y_hat)\n"
   ]
  },
  {
   "cell_type": "code",
   "execution_count": 34,
   "metadata": {},
   "outputs": [
    {
     "data": {
      "text/plain": [
       "Text(0, 0.5, 'Resíduo')"
      ]
     },
     "execution_count": 34,
     "metadata": {},
     "output_type": "execute_result"
    },
    {
     "data": {
      "image/png": "[encoded data removed]",
      "text/plain": [
       "<Figure size 432x288 with 1 Axes>"
      ]
     },
     "metadata": {
      "needs_background": "light"
     },
     "output_type": "display_data"
    }
   ],
   "source": [
    "plt.scatter(dado_std, residuos,color='g')\n",
    "#plt.plot(dado_std, reg_grad.predict(dado_std),color='k')\n",
    "plt.xlabel('Tamanho')\n",
    "plt.ylabel('Resíduo')"
   ]
  },
  {
   "cell_type": "markdown",
   "metadata": {},
   "source": [
    "### Resolução Exercício 3.2 -  Calcular os valores p utilizando os dados Portland_housePrices.csv"
   ]
  },
  {
   "cell_type": "code",
   "execution_count": 97,
   "metadata": {},
   "outputs": [],
   "source": [
    "# SEPARANDO OS VALORES PREDITORES/INDEPENDENTES (X) E RESPOSTA/DEPENDENTES (Y)\n",
    "X = dados_por.loc[:,['tamanho', 'quartos']]\n",
    "y = dados_por.loc[:,['preco']]\n"
   ]
  },
  {
   "cell_type": "markdown",
   "metadata": {},
   "source": [
    "NORMALIZANDO OS DADOS DE ENTRADA COM StandardScaler"
   ]
  },
  {
   "cell_type": "code",
   "execution_count": 79,
   "metadata": {},
   "outputs": [],
   "source": [
    "# Instancia o StandardScaler\n",
    "normalizacao_std = StandardScaler()\n",
    "# Analisa os dados e prepara o padronizador\n",
    "dado_std = normalizacao_std.fit(X)\n",
    "# Transforma os dados\n",
    "dado_std = normalizacao_std.transform(X)\n"
   ]
  },
  {
   "cell_type": "markdown",
   "metadata": {},
   "source": [
    "F-TEST ( encontrando os valores de p)"
   ]
  },
  {
   "cell_type": "code",
   "execution_count": 81,
   "metadata": {},
   "outputs": [
    {
     "name": "stdout",
     "output_type": "stream",
     "text": [
      "                            OLS Regression Results                            \n",
      "==============================================================================\n",
      "Dep. Variable:                  preco   R-squared:                       0.733\n",
      "Model:                            OLS   Adj. R-squared:                  0.721\n",
      "Method:                 Least Squares   F-statistic:                     60.38\n",
      "Date:                Wed, 21 Jul 2021   Prob (F-statistic):           2.43e-13\n",
      "Time:                        12:04:02   Log-Likelihood:                -586.77\n",
      "No. Observations:                  47   AIC:                             1180.\n",
      "Df Residuals:                      44   BIC:                             1185.\n",
      "Df Model:                           2                                         \n",
      "Covariance Type:            nonrobust                                         \n",
      "==============================================================================\n",
      "                 coef    std err          t      P>|t|      [0.025      0.975]\n",
      "------------------------------------------------------------------------------\n",
      "const       3.404e+05   9637.239     35.323      0.000    3.21e+05     3.6e+05\n",
      "x1          1.094e+05   1.16e+04      9.409      0.000     8.6e+04    1.33e+05\n",
      "x2         -6578.3549   1.16e+04     -0.566      0.575      -3e+04    1.69e+04\n",
      "==============================================================================\n",
      "Omnibus:                        4.083   Durbin-Watson:                   1.826\n",
      "Prob(Omnibus):                  0.130   Jarque-Bera (JB):                2.977\n",
      "Skew:                           0.567   Prob(JB):                        0.226\n",
      "Kurtosis:                       3.484   Cond. No.                         1.88\n",
      "==============================================================================\n",
      "\n",
      "Notes:\n",
      "[1] Standard Errors assume that the covariance matrix of the errors is correctly specified.\n"
     ]
    }
   ],
   "source": [
    "import statsmodels.api as sm\n",
    "from scipy import stats\n",
    "\n",
    "X2 = sm.add_constant(dado_std)\n",
    "est = sm.OLS(y, X2)\n",
    "est2 = est.fit()\n",
    "print(est2.summary())"
   ]
  },
  {
   "cell_type": "markdown",
   "metadata": {},
   "source": [
    "### Resolução Exercício 3.2 -  Calcular os valores p utilizando os dados Advertising.csv"
   ]
  },
  {
   "cell_type": "code",
   "execution_count": 98,
   "metadata": {},
   "outputs": [],
   "source": [
    "# SEPARANDO OS VALORES PREDITORES/INDEPENDENTES (X_adv) E RESPOSTA/DEPENDENTES (Y_adv)\n",
    "X_adv = dados_adv.loc[:,['TV', 'radio','newspaper']]\n",
    "y_adv = dados_adv.loc[:,['sales']]"
   ]
  },
  {
   "cell_type": "markdown",
   "metadata": {},
   "source": [
    "NORMALIZANDO OS DADOS DE ENTRADA COM StandardScaler"
   ]
  },
  {
   "cell_type": "code",
   "execution_count": 95,
   "metadata": {},
   "outputs": [],
   "source": [
    "# Instancia o StandardScaler\n",
    "normalizacao_std = StandardScaler()\n",
    "# Analisa os dados e prepara o padronizador\n",
    "dado_std = normalizacao_std.fit(X_adv)\n",
    "# Transforma os dados\n",
    "dado_std = normalizacao_std.transform(X_adv)"
   ]
  },
  {
   "cell_type": "markdown",
   "metadata": {},
   "source": [
    "F-TEST ( encontrando os valores de p)"
   ]
  },
  {
   "cell_type": "code",
   "execution_count": 96,
   "metadata": {},
   "outputs": [
    {
     "name": "stdout",
     "output_type": "stream",
     "text": [
      "                            OLS Regression Results                            \n",
      "==============================================================================\n",
      "Dep. Variable:                  sales   R-squared:                       0.897\n",
      "Model:                            OLS   Adj. R-squared:                  0.896\n",
      "Method:                 Least Squares   F-statistic:                     570.3\n",
      "Date:                Wed, 21 Jul 2021   Prob (F-statistic):           1.58e-96\n",
      "Time:                        12:06:29   Log-Likelihood:                -386.18\n",
      "No. Observations:                 200   AIC:                             780.4\n",
      "Df Residuals:                     196   BIC:                             793.6\n",
      "Df Model:                           3                                         \n",
      "Covariance Type:            nonrobust                                         \n",
      "==============================================================================\n",
      "                 coef    std err          t      P>|t|      [0.025      0.975]\n",
      "------------------------------------------------------------------------------\n",
      "const         14.0225      0.119    117.655      0.000      13.787      14.258\n",
      "x1             3.9193      0.119     32.809      0.000       3.684       4.155\n",
      "x2             2.7921      0.128     21.893      0.000       2.541       3.044\n",
      "x3            -0.0225      0.128     -0.177      0.860      -0.274       0.229\n",
      "==============================================================================\n",
      "Omnibus:                       60.414   Durbin-Watson:                   2.084\n",
      "Prob(Omnibus):                  0.000   Jarque-Bera (JB):              151.241\n",
      "Skew:                          -1.327   Prob(JB):                     1.44e-33\n",
      "Kurtosis:                       6.332   Cond. No.                         1.46\n",
      "==============================================================================\n",
      "\n",
      "Notes:\n",
      "[1] Standard Errors assume that the covariance matrix of the errors is correctly specified.\n"
     ]
    }
   ],
   "source": [
    "import statsmodels.api as sm\n",
    "from scipy import stats\n",
    "\n",
    "X2 = sm.add_constant(dado_std)\n",
    "est = sm.OLS(y_adv, X2)\n",
    "est2 = est.fit()\n",
    "print(est2.summary())"
   ]
  },
  {
   "cell_type": "markdown",
   "metadata": {},
   "source": [
    "### Respostas "
   ]
  },
  {
   "cell_type": "markdown",
   "metadata": {},
   "source": [
    "1) Construir o plot de resíduos. Será que os resíduos estão aleatoriamente distribuídos ao redor de 0?\n",
    "\n",
    "R: Sim, com isso nosso modelo está bom. Pois se os resíduos estivessem distribuidos em algum padrão o modelo estaria com algumas informações explicativas vazadas para o erro supostamente aleatório.\n",
    "\n",
    "2) Calcular os valores p para os preditores utilizados no modelo de regressão. Utilize [esse link](https://stackoverflow.com/a/42677750) como referência. Utilizar essa técnica para selecionar variáveis preditivas. Comparar o desempenho do modelo construído a partir de variáveis preditivas com melhores valores p com um modelo que contêm todas as variáveis.\n",
    "\n",
    "R: Segundo a coluna P>|t| ( que é o valor p) o atributo x3(newspaper) do conjunto Advertising.csv tem pouca significância na resposta do modelo (y), então se treinar o modelo sem esse preditor não reduzirá o desempenho do modelo. E no conjunto Portland_housePrices.csv o atributo x2(quartos) também tem pouca significância."
   ]
  },
  {
   "cell_type": "markdown",
   "metadata": {},
   "source": [
    "# Exercício 4\n",
    "\n",
    "Realizar o teste para descobrir multicolinearidade entre variáveis preditivas;\n",
    "\n",
    "1) Utilizando [esse link](https://www.geeksforgeeks.org/detecting-multicollinearity-with-vif-python/) fazer o cáclulo do fator de inflação da variância (*Variance Inflation Factor - VIF*). Existe alguma evidência de multicolinearidade entre as variáveis preditivas?"
   ]
  },
  {
   "cell_type": "markdown",
   "metadata": {},
   "source": [
    "### Resolução Exercício 4"
   ]
  },
  {
   "cell_type": "markdown",
   "metadata": {},
   "source": [
    "#### Calculando o VIF do conjunto Advertising.csv"
   ]
  },
  {
   "cell_type": "code",
   "execution_count": 108,
   "metadata": {},
   "outputs": [],
   "source": [
    "from statsmodels.stats.outliers_influence import variance_inflation_factor"
   ]
  },
  {
   "cell_type": "code",
   "execution_count": 138,
   "metadata": {},
   "outputs": [],
   "source": [
    "# SEPARANDO OS VALORES PREDITORES/INDEPENDENTES (X_adv)\n",
    "X_adv = dados_adv.loc[:,['TV', 'radio','newspaper']]\n"
   ]
  },
  {
   "cell_type": "code",
   "execution_count": 137,
   "metadata": {},
   "outputs": [
    {
     "data": {
      "text/plain": [
       "[2.486771835198193, 3.2854621001628947, 3.0552445106573853]"
      ]
     },
     "execution_count": 137,
     "metadata": {},
     "output_type": "execute_result"
    }
   ],
   "source": [
    "# Calculando o valor VIF\n",
    "VIF = [variance_inflation_factor(X_adv.values, i) for i in range(len(X_adv.columns))]\n",
    "VIF"
   ]
  },
  {
   "cell_type": "markdown",
   "metadata": {},
   "source": [
    "#### Calculando o VIF do conjunto Portland_housePrices.csv"
   ]
  },
  {
   "cell_type": "code",
   "execution_count": 139,
   "metadata": {},
   "outputs": [],
   "source": [
    "# SEPARANDO OS VALORES PREDITORES/INDEPENDENTES (X)\n",
    "X = dados_por.loc[:,['tamanho', 'quartos']]"
   ]
  },
  {
   "cell_type": "code",
   "execution_count": 140,
   "metadata": {},
   "outputs": [
    {
     "data": {
      "text/plain": [
       "[10.861137572528593, 10.861137572528593]"
      ]
     },
     "execution_count": 140,
     "metadata": {},
     "output_type": "execute_result"
    }
   ],
   "source": [
    "# Calculando o valor VIF\n",
    "VIF = [variance_inflation_factor(X.values, i) for i in range(len(X.columns))]\n",
    "VIF"
   ]
  },
  {
   "cell_type": "markdown",
   "metadata": {},
   "source": [
    "### Respostas"
   ]
  },
  {
   "cell_type": "markdown",
   "metadata": {},
   "source": [
    "Sim, existe evidência de multicolinearidade entre as variaveis  \"tamanho\" e \"quartos\", pois o VIF é maior que 5"
   ]
  },
  {
   "cell_type": "code",
   "execution_count": null,
   "metadata": {},
   "outputs": [],
   "source": []
  }
 ],
 "metadata": {
  "kernelspec": {
   "display_name": "Python 3 (ipykernel)",
   "language": "python",
   "name": "python3"
  },
  "language_info": {
   "codemirror_mode": {
    "name": "ipython",
    "version": 3
   },
   "file_extension": ".py",
   "mimetype": "text/x-python",
   "name": "python",
   "nbconvert_exporter": "python",
   "pygments_lexer": "ipython3",
   "version": "3.9.7"
  }
 },
 "nbformat": 4,
 "nbformat_minor": 4
}
